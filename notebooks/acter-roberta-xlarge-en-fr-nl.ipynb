{
  "nbformat": 4,
  "nbformat_minor": 0,
  "metadata": {
    "colab": {
      "provenance": [],
      "machine_shape": "hm",
      "gpuType": "L4",
      "include_colab_link": true
    },
    "kernelspec": {
      "name": "python3",
      "display_name": "Python 3"
    },
    "language_info": {
      "name": "python"
    },
    "accelerator": "GPU"
  },
  "cells": [
    {
      "cell_type": "markdown",
      "metadata": {
        "id": "view-in-github",
        "colab_type": "text"
      },
      "source": [
        "<a href=\"https://colab.research.google.com/github/Reennon/acter-ner/blob/colab-dry-run/notebooks/acter-roberta-xlarge-en-fr-nl.ipynb\" target=\"_parent\"><img src=\"https://colab.research.google.com/assets/colab-badge.svg\" alt=\"Open In Colab\"/></a>"
      ]
    },
    {
      "cell_type": "code",
      "execution_count": 1,
      "metadata": {
        "colab": {
          "base_uri": "https://localhost:8080/"
        },
        "id": "b5X8eBFzlToi",
        "outputId": "26ed9ee6-5bc3-429c-b28e-22d646fad45b"
      },
      "outputs": [
        {
          "output_type": "stream",
          "name": "stdout",
          "text": [
            "Cloning into 'acter-ner'...\n",
            "remote: Enumerating objects: 54, done.\u001b[K\n",
            "remote: Counting objects: 100% (54/54), done.\u001b[K\n",
            "remote: Compressing objects: 100% (42/42), done.\u001b[K\n",
            "remote: Total 54 (delta 19), reused 35 (delta 10), pack-reused 0 (from 0)\u001b[K\n",
            "Receiving objects: 100% (54/54), 2.32 MiB | 5.20 MiB/s, done.\n",
            "Resolving deltas: 100% (19/19), done.\n"
          ]
        }
      ],
      "source": [
        "!git clone https://github.com/Reennon/acter-ner"
      ]
    },
    {
      "cell_type": "code",
      "source": [
        "!git clone https://github.com/AylaRT/ACTER"
      ],
      "metadata": {
        "colab": {
          "base_uri": "https://localhost:8080/"
        },
        "id": "anL-YTxVlmw4",
        "outputId": "00d630b6-e76d-4dd5-8edf-3a9d07102f14"
      },
      "execution_count": 2,
      "outputs": [
        {
          "output_type": "stream",
          "name": "stdout",
          "text": [
            "Cloning into 'ACTER'...\n",
            "remote: Enumerating objects: 5448, done.\u001b[K\n",
            "remote: Counting objects: 100% (5448/5448), done.\u001b[K\n",
            "remote: Compressing objects: 100% (3304/3304), done.\u001b[K\n",
            "remote: Total 5448 (delta 2684), reused 4893 (delta 2132), pack-reused 0 (from 0)\u001b[K\n",
            "Receiving objects: 100% (5448/5448), 11.90 MiB | 15.42 MiB/s, done.\n",
            "Resolving deltas: 100% (2684/2684), done.\n"
          ]
        }
      ]
    },
    {
      "cell_type": "code",
      "source": [
        "%cd /content/ACTER"
      ],
      "metadata": {
        "colab": {
          "base_uri": "https://localhost:8080/"
        },
        "id": "IfCPdbitmcnO",
        "outputId": "4679b907-5699-4285-8a02-48c5f57aaa6e"
      },
      "execution_count": 3,
      "outputs": [
        {
          "output_type": "stream",
          "name": "stdout",
          "text": [
            "/content/ACTER\n"
          ]
        }
      ]
    },
    {
      "cell_type": "code",
      "source": [
        "%cd /content/acter-ner/term_extractor"
      ],
      "metadata": {
        "colab": {
          "base_uri": "https://localhost:8080/"
        },
        "id": "U0nNt6v-mJi-",
        "outputId": "d650862c-f2b6-4fe1-8b2b-2f1e7557d75b"
      },
      "execution_count": 4,
      "outputs": [
        {
          "output_type": "stream",
          "name": "stdout",
          "text": [
            "/content/acter-ner/term_extractor\n"
          ]
        }
      ]
    },
    {
      "cell_type": "code",
      "source": [
        "from google.colab import drive\n",
        "drive.mount('/drive/MyDrive')"
      ],
      "metadata": {
        "id": "mcJUMgonjnke",
        "outputId": "0f7289af-86ee-4664-c594-81dc39c02ec2",
        "colab": {
          "base_uri": "https://localhost:8080/"
        }
      },
      "execution_count": 5,
      "outputs": [
        {
          "output_type": "stream",
          "name": "stdout",
          "text": [
            "Mounted at /gdrive\n"
          ]
        }
      ]
    },
    {
      "cell_type": "code",
      "source": [
        "ls"
      ],
      "metadata": {
        "colab": {
          "base_uri": "https://localhost:8080/"
        },
        "id": "tKm-vAEvmQW9",
        "outputId": "2714cf1a-3755-4850-bcb1-4a47f26a8f19"
      },
      "execution_count": 6,
      "outputs": [
        {
          "output_type": "stream",
          "name": "stdout",
          "text": [
            "combine_corpora.sh  dataset_processor.py  preprocess_acter.py  train_full.tsv  train_spacy_model.py\n",
            "\u001b[0m\u001b[01;34mconfigs\u001b[0m/            \u001b[01;34moutput\u001b[0m/               test_full.tsv        train_model.py  Untitled.ipynb\n"
          ]
        }
      ]
    },
    {
      "cell_type": "code",
      "source": [
        "!git checkout colab-dry-run"
      ],
      "metadata": {
        "colab": {
          "base_uri": "https://localhost:8080/"
        },
        "id": "b-6rpUVOol5A",
        "outputId": "e1b868e8-e419-49d7-a20c-85bd38678302"
      },
      "execution_count": 7,
      "outputs": [
        {
          "output_type": "stream",
          "name": "stdout",
          "text": [
            "Branch 'colab-dry-run' set up to track remote branch 'colab-dry-run' from 'origin'.\n",
            "Switched to a new branch 'colab-dry-run'\n"
          ]
        }
      ]
    },
    {
      "cell_type": "code",
      "source": [
        "!bash combine_corpora-en-fr-nl.sh"
      ],
      "metadata": {
        "id": "1WlGm-kRl9tu",
        "outputId": "4c59b8cc-32cb-43e2-eb21-201ac389119a",
        "colab": {
          "base_uri": "https://localhost:8080/"
        }
      },
      "execution_count": 8,
      "outputs": [
        {
          "output_type": "stream",
          "name": "stdout",
          "text": [
            "\n",
            "Processing directory: /content/ACTER/en/corp/annotated/annotations/sequential_annotations/iob_annotations/without_named_entities\n",
            "Processed /content/ACTER/en/corp/annotated/annotations/sequential_annotations/iob_annotations/without_named_entities/corp_en_19_seq_terms.tsv: 56 sentences\n",
            "Processed /content/ACTER/en/corp/annotated/annotations/sequential_annotations/iob_annotations/without_named_entities/corp_en_12_seq_terms.tsv: 278 sentences\n",
            "Processed /content/ACTER/en/corp/annotated/annotations/sequential_annotations/iob_annotations/without_named_entities/corp_en_01_seq_terms.tsv: 227 sentences\n",
            "Processed /content/ACTER/en/corp/annotated/annotations/sequential_annotations/iob_annotations/without_named_entities/corp_en_10_seq_terms.tsv: 28 sentences\n",
            "Processed /content/ACTER/en/corp/annotated/annotations/sequential_annotations/iob_annotations/without_named_entities/corp_en_09_seq_terms.tsv: 107 sentences\n",
            "Processed /content/ACTER/en/corp/annotated/annotations/sequential_annotations/iob_annotations/without_named_entities/corp_en_11_seq_terms.tsv: 273 sentences\n",
            "Processed /content/ACTER/en/corp/annotated/annotations/sequential_annotations/iob_annotations/without_named_entities/corp_en_05_seq_terms.tsv: 51 sentences\n",
            "Processed /content/ACTER/en/corp/annotated/annotations/sequential_annotations/iob_annotations/without_named_entities/corp_en_02_seq_terms.tsv: 59 sentences\n",
            "Processed /content/ACTER/en/corp/annotated/annotations/sequential_annotations/iob_annotations/without_named_entities/corp_en_07_seq_terms.tsv: 334 sentences\n",
            "Processed /content/ACTER/en/corp/annotated/annotations/sequential_annotations/iob_annotations/without_named_entities/corp_en_04_seq_terms.tsv: 62 sentences\n",
            "Processed /content/ACTER/en/corp/annotated/annotations/sequential_annotations/iob_annotations/without_named_entities/corp_en_06_seq_terms.tsv: 364 sentences\n",
            "Processed /content/ACTER/en/corp/annotated/annotations/sequential_annotations/iob_annotations/without_named_entities/corp_en_08_seq_terms.tsv: 163 sentences\n",
            "\n",
            "Processing directory: /content/ACTER/en/equi/annotated/annotations/sequential_annotations/iob_annotations/without_named_entities\n",
            "Processed /content/ACTER/en/equi/annotated/annotations/sequential_annotations/iob_annotations/without_named_entities/equi_en_017_seq_terms.tsv: 57 sentences\n",
            "Processed /content/ACTER/en/equi/annotated/annotations/sequential_annotations/iob_annotations/without_named_entities/equi_en_030_seq_terms.tsv: 173 sentences\n",
            "Processed /content/ACTER/en/equi/annotated/annotations/sequential_annotations/iob_annotations/without_named_entities/equi_en_028_seq_terms.tsv: 70 sentences\n",
            "Processed /content/ACTER/en/equi/annotated/annotations/sequential_annotations/iob_annotations/without_named_entities/equi_en_034_seq_terms.tsv: 175 sentences\n",
            "Processed /content/ACTER/en/equi/annotated/annotations/sequential_annotations/iob_annotations/without_named_entities/equi_en_001_seq_terms.tsv: 304 sentences\n",
            "Processed /content/ACTER/en/equi/annotated/annotations/sequential_annotations/iob_annotations/without_named_entities/equi_en_015_seq_terms.tsv: 36 sentences\n",
            "Processed /content/ACTER/en/equi/annotated/annotations/sequential_annotations/iob_annotations/without_named_entities/equi_en_020_seq_terms.tsv: 30 sentences\n",
            "Processed /content/ACTER/en/equi/annotated/annotations/sequential_annotations/iob_annotations/without_named_entities/equi_en_022_seq_terms.tsv: 22 sentences\n",
            "Processed /content/ACTER/en/equi/annotated/annotations/sequential_annotations/iob_annotations/without_named_entities/equi_en_025_seq_terms.tsv: 97 sentences\n",
            "Processed /content/ACTER/en/equi/annotated/annotations/sequential_annotations/iob_annotations/without_named_entities/equi_en_027_seq_terms.tsv: 46 sentences\n",
            "Processed /content/ACTER/en/equi/annotated/annotations/sequential_annotations/iob_annotations/without_named_entities/equi_en_013_seq_terms.tsv: 74 sentences\n",
            "Processed /content/ACTER/en/equi/annotated/annotations/sequential_annotations/iob_annotations/without_named_entities/equi_en_007_seq_terms.tsv: 28 sentences\n",
            "Processed /content/ACTER/en/equi/annotated/annotations/sequential_annotations/iob_annotations/without_named_entities/equi_en_016_seq_terms.tsv: 88 sentences\n",
            "Processed /content/ACTER/en/equi/annotated/annotations/sequential_annotations/iob_annotations/without_named_entities/equi_en_005_seq_terms.tsv: 24 sentences\n",
            "Processed /content/ACTER/en/equi/annotated/annotations/sequential_annotations/iob_annotations/without_named_entities/equi_en_021_seq_terms.tsv: 144 sentences\n",
            "Processed /content/ACTER/en/equi/annotated/annotations/sequential_annotations/iob_annotations/without_named_entities/equi_en_004_seq_terms.tsv: 41 sentences\n",
            "Processed /content/ACTER/en/equi/annotated/annotations/sequential_annotations/iob_annotations/without_named_entities/equi_en_006_seq_terms.tsv: 9 sentences\n",
            "Processed /content/ACTER/en/equi/annotated/annotations/sequential_annotations/iob_annotations/without_named_entities/equi_en_003_seq_terms.tsv: 74 sentences\n",
            "Processed /content/ACTER/en/equi/annotated/annotations/sequential_annotations/iob_annotations/without_named_entities/equi_en_026_seq_terms.tsv: 149 sentences\n",
            "Processed /content/ACTER/en/equi/annotated/annotations/sequential_annotations/iob_annotations/without_named_entities/equi_en_023_seq_terms.tsv: 104 sentences\n",
            "Processed /content/ACTER/en/equi/annotated/annotations/sequential_annotations/iob_annotations/without_named_entities/equi_en_029_seq_terms.tsv: 316 sentences\n",
            "Processed /content/ACTER/en/equi/annotated/annotations/sequential_annotations/iob_annotations/without_named_entities/equi_en_018_seq_terms.tsv: 8 sentences\n",
            "Processed /content/ACTER/en/equi/annotated/annotations/sequential_annotations/iob_annotations/without_named_entities/equi_en_008_seq_terms.tsv: 101 sentences\n",
            "Processed /content/ACTER/en/equi/annotated/annotations/sequential_annotations/iob_annotations/without_named_entities/equi_en_033_seq_terms.tsv: 180 sentences\n",
            "Processed /content/ACTER/en/equi/annotated/annotations/sequential_annotations/iob_annotations/without_named_entities/equi_en_019_seq_terms.tsv: 65 sentences\n",
            "Processed /content/ACTER/en/equi/annotated/annotations/sequential_annotations/iob_annotations/without_named_entities/equi_en_011_seq_terms.tsv: 45 sentences\n",
            "Processed /content/ACTER/en/equi/annotated/annotations/sequential_annotations/iob_annotations/without_named_entities/equi_en_032_seq_terms.tsv: 54 sentences\n",
            "Processed /content/ACTER/en/equi/annotated/annotations/sequential_annotations/iob_annotations/without_named_entities/equi_en_009_seq_terms.tsv: 26 sentences\n",
            "Processed /content/ACTER/en/equi/annotated/annotations/sequential_annotations/iob_annotations/without_named_entities/equi_en_024_seq_terms.tsv: 19 sentences\n",
            "Processed /content/ACTER/en/equi/annotated/annotations/sequential_annotations/iob_annotations/without_named_entities/equi_en_002_seq_terms.tsv: 265 sentences\n",
            "Processed /content/ACTER/en/equi/annotated/annotations/sequential_annotations/iob_annotations/without_named_entities/equi_en_031_seq_terms.tsv: 36 sentences\n",
            "Processed /content/ACTER/en/equi/annotated/annotations/sequential_annotations/iob_annotations/without_named_entities/equi_en_012_seq_terms.tsv: 37 sentences\n",
            "Processed /content/ACTER/en/equi/annotated/annotations/sequential_annotations/iob_annotations/without_named_entities/equi_en_014_seq_terms.tsv: 67 sentences\n",
            "Processed /content/ACTER/en/equi/annotated/annotations/sequential_annotations/iob_annotations/without_named_entities/equi_en_010_seq_terms.tsv: 126 sentences\n",
            "\n",
            "Processing directory: /content/ACTER/en/htfl/annotated/annotations/sequential_annotations/iob_annotations/without_named_entities\n",
            "Processed /content/ACTER/en/htfl/annotated/annotations/sequential_annotations/iob_annotations/without_named_entities/htfl_en_120_seq_terms.tsv: 14 sentences\n",
            "Processed /content/ACTER/en/htfl/annotated/annotations/sequential_annotations/iob_annotations/without_named_entities/htfl_en_064_seq_terms.tsv: 14 sentences\n",
            "Processed /content/ACTER/en/htfl/annotated/annotations/sequential_annotations/iob_annotations/without_named_entities/htfl_en_160_seq_terms.tsv: 18 sentences\n",
            "Processed /content/ACTER/en/htfl/annotated/annotations/sequential_annotations/iob_annotations/without_named_entities/htfl_en_072_seq_terms.tsv: 20 sentences\n",
            "Processed /content/ACTER/en/htfl/annotated/annotations/sequential_annotations/iob_annotations/without_named_entities/htfl_en_174_seq_terms.tsv: 9 sentences\n",
            "Processed /content/ACTER/en/htfl/annotated/annotations/sequential_annotations/iob_annotations/without_named_entities/htfl_en_159_seq_terms.tsv: 9 sentences\n",
            "Processed /content/ACTER/en/htfl/annotated/annotations/sequential_annotations/iob_annotations/without_named_entities/htfl_en_027_seq_terms.tsv: 15 sentences\n",
            "Processed /content/ACTER/en/htfl/annotated/annotations/sequential_annotations/iob_annotations/without_named_entities/htfl_en_076_seq_terms.tsv: 15 sentences\n",
            "Processed /content/ACTER/en/htfl/annotated/annotations/sequential_annotations/iob_annotations/without_named_entities/htfl_en_133_seq_terms.tsv: 9 sentences\n",
            "Processed /content/ACTER/en/htfl/annotated/annotations/sequential_annotations/iob_annotations/without_named_entities/htfl_en_062_seq_terms.tsv: 14 sentences\n",
            "Processed /content/ACTER/en/htfl/annotated/annotations/sequential_annotations/iob_annotations/without_named_entities/htfl_en_094_seq_terms.tsv: 8 sentences\n",
            "Processed /content/ACTER/en/htfl/annotated/annotations/sequential_annotations/iob_annotations/without_named_entities/htfl_en_105_seq_terms.tsv: 4 sentences\n",
            "Processed /content/ACTER/en/htfl/annotated/annotations/sequential_annotations/iob_annotations/without_named_entities/htfl_en_044_seq_terms.tsv: 12 sentences\n",
            "Processed /content/ACTER/en/htfl/annotated/annotations/sequential_annotations/iob_annotations/without_named_entities/htfl_en_043_seq_terms.tsv: 10 sentences\n",
            "Processed /content/ACTER/en/htfl/annotated/annotations/sequential_annotations/iob_annotations/without_named_entities/htfl_en_046_seq_terms.tsv: 13 sentences\n",
            "Processed /content/ACTER/en/htfl/annotated/annotations/sequential_annotations/iob_annotations/without_named_entities/htfl_en_091_seq_terms.tsv: 7 sentences\n",
            "Processed /content/ACTER/en/htfl/annotated/annotations/sequential_annotations/iob_annotations/without_named_entities/htfl_en_121_seq_terms.tsv: 7 sentences\n",
            "Processed /content/ACTER/en/htfl/annotated/annotations/sequential_annotations/iob_annotations/without_named_entities/htfl_en_116_seq_terms.tsv: 6 sentences\n",
            "Processed /content/ACTER/en/htfl/annotated/annotations/sequential_annotations/iob_annotations/without_named_entities/htfl_en_070_seq_terms.tsv: 12 sentences\n",
            "Processed /content/ACTER/en/htfl/annotated/annotations/sequential_annotations/iob_annotations/without_named_entities/htfl_en_190_seq_terms.tsv: 6 sentences\n",
            "Processed /content/ACTER/en/htfl/annotated/annotations/sequential_annotations/iob_annotations/without_named_entities/htfl_en_045_seq_terms.tsv: 12 sentences\n",
            "Processed /content/ACTER/en/htfl/annotated/annotations/sequential_annotations/iob_annotations/without_named_entities/htfl_en_031_seq_terms.tsv: 12 sentences\n",
            "Processed /content/ACTER/en/htfl/annotated/annotations/sequential_annotations/iob_annotations/without_named_entities/htfl_en_188_seq_terms.tsv: 20 sentences\n",
            "Processed /content/ACTER/en/htfl/annotated/annotations/sequential_annotations/iob_annotations/without_named_entities/htfl_en_147_seq_terms.tsv: 12 sentences\n",
            "Processed /content/ACTER/en/htfl/annotated/annotations/sequential_annotations/iob_annotations/without_named_entities/htfl_en_023_seq_terms.tsv: 22 sentences\n",
            "Processed /content/ACTER/en/htfl/annotated/annotations/sequential_annotations/iob_annotations/without_named_entities/htfl_en_088_seq_terms.tsv: 20 sentences\n",
            "Processed /content/ACTER/en/htfl/annotated/annotations/sequential_annotations/iob_annotations/without_named_entities/htfl_en_138_seq_terms.tsv: 6 sentences\n",
            "Processed /content/ACTER/en/htfl/annotated/annotations/sequential_annotations/iob_annotations/without_named_entities/htfl_en_118_seq_terms.tsv: 14 sentences\n",
            "Processed /content/ACTER/en/htfl/annotated/annotations/sequential_annotations/iob_annotations/without_named_entities/htfl_en_003_seq_terms.tsv: 8 sentences\n",
            "Processed /content/ACTER/en/htfl/annotated/annotations/sequential_annotations/iob_annotations/without_named_entities/htfl_en_100_seq_terms.tsv: 18 sentences\n",
            "Processed /content/ACTER/en/htfl/annotated/annotations/sequential_annotations/iob_annotations/without_named_entities/htfl_en_115_seq_terms.tsv: 13 sentences\n",
            "Processed /content/ACTER/en/htfl/annotated/annotations/sequential_annotations/iob_annotations/without_named_entities/htfl_en_093_seq_terms.tsv: 14 sentences\n",
            "Processed /content/ACTER/en/htfl/annotated/annotations/sequential_annotations/iob_annotations/without_named_entities/htfl_en_052_seq_terms.tsv: 20 sentences\n",
            "Processed /content/ACTER/en/htfl/annotated/annotations/sequential_annotations/iob_annotations/without_named_entities/htfl_en_146_seq_terms.tsv: 8 sentences\n",
            "Processed /content/ACTER/en/htfl/annotated/annotations/sequential_annotations/iob_annotations/without_named_entities/htfl_en_189_seq_terms.tsv: 15 sentences\n",
            "Processed /content/ACTER/en/htfl/annotated/annotations/sequential_annotations/iob_annotations/without_named_entities/htfl_en_042_seq_terms.tsv: 8 sentences\n",
            "Processed /content/ACTER/en/htfl/annotated/annotations/sequential_annotations/iob_annotations/without_named_entities/htfl_en_155_seq_terms.tsv: 18 sentences\n",
            "Processed /content/ACTER/en/htfl/annotated/annotations/sequential_annotations/iob_annotations/without_named_entities/htfl_en_014_seq_terms.tsv: 19 sentences\n",
            "Processed /content/ACTER/en/htfl/annotated/annotations/sequential_annotations/iob_annotations/without_named_entities/htfl_en_067_seq_terms.tsv: 17 sentences\n",
            "Processed /content/ACTER/en/htfl/annotated/annotations/sequential_annotations/iob_annotations/without_named_entities/htfl_en_108_seq_terms.tsv: 11 sentences\n",
            "Processed /content/ACTER/en/htfl/annotated/annotations/sequential_annotations/iob_annotations/without_named_entities/htfl_en_098_seq_terms.tsv: 14 sentences\n",
            "Processed /content/ACTER/en/htfl/annotated/annotations/sequential_annotations/iob_annotations/without_named_entities/htfl_en_060_seq_terms.tsv: 6 sentences\n",
            "Processed /content/ACTER/en/htfl/annotated/annotations/sequential_annotations/iob_annotations/without_named_entities/htfl_en_006_seq_terms.tsv: 3 sentences\n",
            "Processed /content/ACTER/en/htfl/annotated/annotations/sequential_annotations/iob_annotations/without_named_entities/htfl_en_038_seq_terms.tsv: 17 sentences\n",
            "Processed /content/ACTER/en/htfl/annotated/annotations/sequential_annotations/iob_annotations/without_named_entities/htfl_en_109_seq_terms.tsv: 17 sentences\n",
            "Processed /content/ACTER/en/htfl/annotated/annotations/sequential_annotations/iob_annotations/without_named_entities/htfl_en_182_seq_terms.tsv: 17 sentences\n",
            "Processed /content/ACTER/en/htfl/annotated/annotations/sequential_annotations/iob_annotations/without_named_entities/htfl_en_097_seq_terms.tsv: 15 sentences\n",
            "Processed /content/ACTER/en/htfl/annotated/annotations/sequential_annotations/iob_annotations/without_named_entities/htfl_en_156_seq_terms.tsv: 7 sentences\n",
            "Processed /content/ACTER/en/htfl/annotated/annotations/sequential_annotations/iob_annotations/without_named_entities/htfl_en_114_seq_terms.tsv: 11 sentences\n",
            "Processed /content/ACTER/en/htfl/annotated/annotations/sequential_annotations/iob_annotations/without_named_entities/htfl_en_011_seq_terms.tsv: 13 sentences\n",
            "Processed /content/ACTER/en/htfl/annotated/annotations/sequential_annotations/iob_annotations/without_named_entities/htfl_en_122_seq_terms.tsv: 4 sentences\n",
            "Processed /content/ACTER/en/htfl/annotated/annotations/sequential_annotations/iob_annotations/without_named_entities/htfl_en_173_seq_terms.tsv: 9 sentences\n",
            "Processed /content/ACTER/en/htfl/annotated/annotations/sequential_annotations/iob_annotations/without_named_entities/htfl_en_004_seq_terms.tsv: 11 sentences\n",
            "Processed /content/ACTER/en/htfl/annotated/annotations/sequential_annotations/iob_annotations/without_named_entities/htfl_en_034_seq_terms.tsv: 12 sentences\n",
            "Processed /content/ACTER/en/htfl/annotated/annotations/sequential_annotations/iob_annotations/without_named_entities/htfl_en_181_seq_terms.tsv: 14 sentences\n",
            "Processed /content/ACTER/en/htfl/annotated/annotations/sequential_annotations/iob_annotations/without_named_entities/htfl_en_187_seq_terms.tsv: 26 sentences\n",
            "Processed /content/ACTER/en/htfl/annotated/annotations/sequential_annotations/iob_annotations/without_named_entities/htfl_en_141_seq_terms.tsv: 7 sentences\n",
            "Processed /content/ACTER/en/htfl/annotated/annotations/sequential_annotations/iob_annotations/without_named_entities/htfl_en_145_seq_terms.tsv: 16 sentences\n",
            "Processed /content/ACTER/en/htfl/annotated/annotations/sequential_annotations/iob_annotations/without_named_entities/htfl_en_180_seq_terms.tsv: 12 sentences\n",
            "Processed /content/ACTER/en/htfl/annotated/annotations/sequential_annotations/iob_annotations/without_named_entities/htfl_en_166_seq_terms.tsv: 16 sentences\n",
            "Processed /content/ACTER/en/htfl/annotated/annotations/sequential_annotations/iob_annotations/without_named_entities/htfl_en_049_seq_terms.tsv: 17 sentences\n",
            "Processed /content/ACTER/en/htfl/annotated/annotations/sequential_annotations/iob_annotations/without_named_entities/htfl_en_176_seq_terms.tsv: 16 sentences\n",
            "Processed /content/ACTER/en/htfl/annotated/annotations/sequential_annotations/iob_annotations/without_named_entities/htfl_en_171_seq_terms.tsv: 6 sentences\n",
            "Processed /content/ACTER/en/htfl/annotated/annotations/sequential_annotations/iob_annotations/without_named_entities/htfl_en_030_seq_terms.tsv: 17 sentences\n",
            "Processed /content/ACTER/en/htfl/annotated/annotations/sequential_annotations/iob_annotations/without_named_entities/htfl_en_104_seq_terms.tsv: 5 sentences\n",
            "Processed /content/ACTER/en/htfl/annotated/annotations/sequential_annotations/iob_annotations/without_named_entities/htfl_en_074_seq_terms.tsv: 14 sentences\n",
            "Processed /content/ACTER/en/htfl/annotated/annotations/sequential_annotations/iob_annotations/without_named_entities/htfl_en_017_seq_terms.tsv: 10 sentences\n",
            "Processed /content/ACTER/en/htfl/annotated/annotations/sequential_annotations/iob_annotations/without_named_entities/htfl_en_117_seq_terms.tsv: 14 sentences\n",
            "Processed /content/ACTER/en/htfl/annotated/annotations/sequential_annotations/iob_annotations/without_named_entities/htfl_en_037_seq_terms.tsv: 17 sentences\n",
            "Processed /content/ACTER/en/htfl/annotated/annotations/sequential_annotations/iob_annotations/without_named_entities/htfl_en_089_seq_terms.tsv: 16 sentences\n",
            "Processed /content/ACTER/en/htfl/annotated/annotations/sequential_annotations/iob_annotations/without_named_entities/htfl_en_172_seq_terms.tsv: 4 sentences\n",
            "Processed /content/ACTER/en/htfl/annotated/annotations/sequential_annotations/iob_annotations/without_named_entities/htfl_en_150_seq_terms.tsv: 8 sentences\n",
            "Processed /content/ACTER/en/htfl/annotated/annotations/sequential_annotations/iob_annotations/without_named_entities/htfl_en_007_seq_terms.tsv: 3 sentences\n",
            "Processed /content/ACTER/en/htfl/annotated/annotations/sequential_annotations/iob_annotations/without_named_entities/htfl_en_009_seq_terms.tsv: 20 sentences\n",
            "Processed /content/ACTER/en/htfl/annotated/annotations/sequential_annotations/iob_annotations/without_named_entities/htfl_en_183_seq_terms.tsv: 14 sentences\n",
            "Processed /content/ACTER/en/htfl/annotated/annotations/sequential_annotations/iob_annotations/without_named_entities/htfl_en_016_seq_terms.tsv: 26 sentences\n",
            "Processed /content/ACTER/en/htfl/annotated/annotations/sequential_annotations/iob_annotations/without_named_entities/htfl_en_135_seq_terms.tsv: 4 sentences\n",
            "Processed /content/ACTER/en/htfl/annotated/annotations/sequential_annotations/iob_annotations/without_named_entities/htfl_en_178_seq_terms.tsv: 18 sentences\n",
            "Processed /content/ACTER/en/htfl/annotated/annotations/sequential_annotations/iob_annotations/without_named_entities/htfl_en_015_seq_terms.tsv: 17 sentences\n",
            "Processed /content/ACTER/en/htfl/annotated/annotations/sequential_annotations/iob_annotations/without_named_entities/htfl_en_163_seq_terms.tsv: 17 sentences\n",
            "Processed /content/ACTER/en/htfl/annotated/annotations/sequential_annotations/iob_annotations/without_named_entities/htfl_en_080_seq_terms.tsv: 11 sentences\n",
            "Processed /content/ACTER/en/htfl/annotated/annotations/sequential_annotations/iob_annotations/without_named_entities/htfl_en_167_seq_terms.tsv: 16 sentences\n",
            "Processed /content/ACTER/en/htfl/annotated/annotations/sequential_annotations/iob_annotations/without_named_entities/htfl_en_153_seq_terms.tsv: 20 sentences\n",
            "Processed /content/ACTER/en/htfl/annotated/annotations/sequential_annotations/iob_annotations/without_named_entities/htfl_en_132_seq_terms.tsv: 14 sentences\n",
            "Processed /content/ACTER/en/htfl/annotated/annotations/sequential_annotations/iob_annotations/without_named_entities/htfl_en_126_seq_terms.tsv: 15 sentences\n",
            "Processed /content/ACTER/en/htfl/annotated/annotations/sequential_annotations/iob_annotations/without_named_entities/htfl_en_082_seq_terms.tsv: 8 sentences\n",
            "Processed /content/ACTER/en/htfl/annotated/annotations/sequential_annotations/iob_annotations/without_named_entities/htfl_en_175_seq_terms.tsv: 24 sentences\n",
            "Processed /content/ACTER/en/htfl/annotated/annotations/sequential_annotations/iob_annotations/without_named_entities/htfl_en_079_seq_terms.tsv: 13 sentences\n",
            "Processed /content/ACTER/en/htfl/annotated/annotations/sequential_annotations/iob_annotations/without_named_entities/htfl_en_177_seq_terms.tsv: 17 sentences\n",
            "Processed /content/ACTER/en/htfl/annotated/annotations/sequential_annotations/iob_annotations/without_named_entities/htfl_en_047_seq_terms.tsv: 18 sentences\n",
            "Processed /content/ACTER/en/htfl/annotated/annotations/sequential_annotations/iob_annotations/without_named_entities/htfl_en_113_seq_terms.tsv: 7 sentences\n",
            "Processed /content/ACTER/en/htfl/annotated/annotations/sequential_annotations/iob_annotations/without_named_entities/htfl_en_158_seq_terms.tsv: 9 sentences\n",
            "Processed /content/ACTER/en/htfl/annotated/annotations/sequential_annotations/iob_annotations/without_named_entities/htfl_en_142_seq_terms.tsv: 17 sentences\n",
            "Processed /content/ACTER/en/htfl/annotated/annotations/sequential_annotations/iob_annotations/without_named_entities/htfl_en_164_seq_terms.tsv: 16 sentences\n",
            "Processed /content/ACTER/en/htfl/annotated/annotations/sequential_annotations/iob_annotations/without_named_entities/htfl_en_165_seq_terms.tsv: 7 sentences\n",
            "Processed /content/ACTER/en/htfl/annotated/annotations/sequential_annotations/iob_annotations/without_named_entities/htfl_en_148_seq_terms.tsv: 7 sentences\n",
            "Processed /content/ACTER/en/htfl/annotated/annotations/sequential_annotations/iob_annotations/without_named_entities/htfl_en_083_seq_terms.tsv: 3 sentences\n",
            "Processed /content/ACTER/en/htfl/annotated/annotations/sequential_annotations/iob_annotations/without_named_entities/htfl_en_095_seq_terms.tsv: 12 sentences\n",
            "Processed /content/ACTER/en/htfl/annotated/annotations/sequential_annotations/iob_annotations/without_named_entities/htfl_en_086_seq_terms.tsv: 11 sentences\n",
            "Processed /content/ACTER/en/htfl/annotated/annotations/sequential_annotations/iob_annotations/without_named_entities/htfl_en_063_seq_terms.tsv: 15 sentences\n",
            "Processed /content/ACTER/en/htfl/annotated/annotations/sequential_annotations/iob_annotations/without_named_entities/htfl_en_058_seq_terms.tsv: 5 sentences\n",
            "Processed /content/ACTER/en/htfl/annotated/annotations/sequential_annotations/iob_annotations/without_named_entities/htfl_en_106_seq_terms.tsv: 19 sentences\n",
            "Processed /content/ACTER/en/htfl/annotated/annotations/sequential_annotations/iob_annotations/without_named_entities/htfl_en_032_seq_terms.tsv: 17 sentences\n",
            "Processed /content/ACTER/en/htfl/annotated/annotations/sequential_annotations/iob_annotations/without_named_entities/htfl_en_040_seq_terms.tsv: 10 sentences\n",
            "Processed /content/ACTER/en/htfl/annotated/annotations/sequential_annotations/iob_annotations/without_named_entities/htfl_en_112_seq_terms.tsv: 6 sentences\n",
            "Processed /content/ACTER/en/htfl/annotated/annotations/sequential_annotations/iob_annotations/without_named_entities/htfl_en_084_seq_terms.tsv: 18 sentences\n",
            "Processed /content/ACTER/en/htfl/annotated/annotations/sequential_annotations/iob_annotations/without_named_entities/htfl_en_036_seq_terms.tsv: 17 sentences\n",
            "Processed /content/ACTER/en/htfl/annotated/annotations/sequential_annotations/iob_annotations/without_named_entities/htfl_en_012_seq_terms.tsv: 9 sentences\n",
            "Processed /content/ACTER/en/htfl/annotated/annotations/sequential_annotations/iob_annotations/without_named_entities/htfl_en_078_seq_terms.tsv: 18 sentences\n",
            "Processed /content/ACTER/en/htfl/annotated/annotations/sequential_annotations/iob_annotations/without_named_entities/htfl_en_073_seq_terms.tsv: 17 sentences\n",
            "Processed /content/ACTER/en/htfl/annotated/annotations/sequential_annotations/iob_annotations/without_named_entities/htfl_en_162_seq_terms.tsv: 13 sentences\n",
            "Processed /content/ACTER/en/htfl/annotated/annotations/sequential_annotations/iob_annotations/without_named_entities/htfl_en_110_seq_terms.tsv: 14 sentences\n",
            "Processed /content/ACTER/en/htfl/annotated/annotations/sequential_annotations/iob_annotations/without_named_entities/htfl_en_092_seq_terms.tsv: 6 sentences\n",
            "Processed /content/ACTER/en/htfl/annotated/annotations/sequential_annotations/iob_annotations/without_named_entities/htfl_en_055_seq_terms.tsv: 16 sentences\n",
            "Processed /content/ACTER/en/htfl/annotated/annotations/sequential_annotations/iob_annotations/without_named_entities/htfl_en_018_seq_terms.tsv: 7 sentences\n",
            "Processed /content/ACTER/en/htfl/annotated/annotations/sequential_annotations/iob_annotations/without_named_entities/htfl_en_020_seq_terms.tsv: 16 sentences\n",
            "Processed /content/ACTER/en/htfl/annotated/annotations/sequential_annotations/iob_annotations/without_named_entities/htfl_en_140_seq_terms.tsv: 16 sentences\n",
            "Processed /content/ACTER/en/htfl/annotated/annotations/sequential_annotations/iob_annotations/without_named_entities/htfl_en_025_seq_terms.tsv: 10 sentences\n",
            "Processed /content/ACTER/en/htfl/annotated/annotations/sequential_annotations/iob_annotations/without_named_entities/htfl_en_090_seq_terms.tsv: 15 sentences\n",
            "Processed /content/ACTER/en/htfl/annotated/annotations/sequential_annotations/iob_annotations/without_named_entities/htfl_en_021_seq_terms.tsv: 6 sentences\n",
            "Processed /content/ACTER/en/htfl/annotated/annotations/sequential_annotations/iob_annotations/without_named_entities/htfl_en_099_seq_terms.tsv: 11 sentences\n",
            "Processed /content/ACTER/en/htfl/annotated/annotations/sequential_annotations/iob_annotations/without_named_entities/htfl_en_056_seq_terms.tsv: 13 sentences\n",
            "Processed /content/ACTER/en/htfl/annotated/annotations/sequential_annotations/iob_annotations/without_named_entities/htfl_en_168_seq_terms.tsv: 15 sentences\n",
            "Processed /content/ACTER/en/htfl/annotated/annotations/sequential_annotations/iob_annotations/without_named_entities/htfl_en_157_seq_terms.tsv: 8 sentences\n",
            "Processed /content/ACTER/en/htfl/annotated/annotations/sequential_annotations/iob_annotations/without_named_entities/htfl_en_184_seq_terms.tsv: 16 sentences\n",
            "Processed /content/ACTER/en/htfl/annotated/annotations/sequential_annotations/iob_annotations/without_named_entities/htfl_en_087_seq_terms.tsv: 3 sentences\n",
            "Processed /content/ACTER/en/htfl/annotated/annotations/sequential_annotations/iob_annotations/without_named_entities/htfl_en_061_seq_terms.tsv: 7 sentences\n",
            "Processed /content/ACTER/en/htfl/annotated/annotations/sequential_annotations/iob_annotations/without_named_entities/htfl_en_019_seq_terms.tsv: 12 sentences\n",
            "Processed /content/ACTER/en/htfl/annotated/annotations/sequential_annotations/iob_annotations/without_named_entities/htfl_en_029_seq_terms.tsv: 13 sentences\n",
            "Processed /content/ACTER/en/htfl/annotated/annotations/sequential_annotations/iob_annotations/without_named_entities/htfl_en_161_seq_terms.tsv: 12 sentences\n",
            "Processed /content/ACTER/en/htfl/annotated/annotations/sequential_annotations/iob_annotations/without_named_entities/htfl_en_026_seq_terms.tsv: 21 sentences\n",
            "Processed /content/ACTER/en/htfl/annotated/annotations/sequential_annotations/iob_annotations/without_named_entities/htfl_en_085_seq_terms.tsv: 5 sentences\n",
            "Processed /content/ACTER/en/htfl/annotated/annotations/sequential_annotations/iob_annotations/without_named_entities/htfl_en_107_seq_terms.tsv: 14 sentences\n",
            "Processed /content/ACTER/en/htfl/annotated/annotations/sequential_annotations/iob_annotations/without_named_entities/htfl_en_071_seq_terms.tsv: 16 sentences\n",
            "Processed /content/ACTER/en/htfl/annotated/annotations/sequential_annotations/iob_annotations/without_named_entities/htfl_en_151_seq_terms.tsv: 13 sentences\n",
            "Processed /content/ACTER/en/htfl/annotated/annotations/sequential_annotations/iob_annotations/without_named_entities/htfl_en_152_seq_terms.tsv: 16 sentences\n",
            "Processed /content/ACTER/en/htfl/annotated/annotations/sequential_annotations/iob_annotations/without_named_entities/htfl_en_057_seq_terms.tsv: 17 sentences\n",
            "Processed /content/ACTER/en/htfl/annotated/annotations/sequential_annotations/iob_annotations/without_named_entities/htfl_en_186_seq_terms.tsv: 10 sentences\n",
            "Processed /content/ACTER/en/htfl/annotated/annotations/sequential_annotations/iob_annotations/without_named_entities/htfl_en_130_seq_terms.tsv: 15 sentences\n",
            "Processed /content/ACTER/en/htfl/annotated/annotations/sequential_annotations/iob_annotations/without_named_entities/htfl_en_124_seq_terms.tsv: 6 sentences\n",
            "Processed /content/ACTER/en/htfl/annotated/annotations/sequential_annotations/iob_annotations/without_named_entities/htfl_en_001_seq_terms.tsv: 8 sentences\n",
            "Processed /content/ACTER/en/htfl/annotated/annotations/sequential_annotations/iob_annotations/without_named_entities/htfl_en_059_seq_terms.tsv: 7 sentences\n",
            "Processed /content/ACTER/en/htfl/annotated/annotations/sequential_annotations/iob_annotations/without_named_entities/htfl_en_119_seq_terms.tsv: 12 sentences\n",
            "Processed /content/ACTER/en/htfl/annotated/annotations/sequential_annotations/iob_annotations/without_named_entities/htfl_en_179_seq_terms.tsv: 12 sentences\n",
            "Processed /content/ACTER/en/htfl/annotated/annotations/sequential_annotations/iob_annotations/without_named_entities/htfl_en_053_seq_terms.tsv: 8 sentences\n",
            "Processed /content/ACTER/en/htfl/annotated/annotations/sequential_annotations/iob_annotations/without_named_entities/htfl_en_024_seq_terms.tsv: 12 sentences\n",
            "Processed /content/ACTER/en/htfl/annotated/annotations/sequential_annotations/iob_annotations/without_named_entities/htfl_en_123_seq_terms.tsv: 11 sentences\n",
            "Processed /content/ACTER/en/htfl/annotated/annotations/sequential_annotations/iob_annotations/without_named_entities/htfl_en_028_seq_terms.tsv: 11 sentences\n",
            "Processed /content/ACTER/en/htfl/annotated/annotations/sequential_annotations/iob_annotations/without_named_entities/htfl_en_170_seq_terms.tsv: 13 sentences\n",
            "Processed /content/ACTER/en/htfl/annotated/annotations/sequential_annotations/iob_annotations/without_named_entities/htfl_en_035_seq_terms.tsv: 15 sentences\n",
            "Processed /content/ACTER/en/htfl/annotated/annotations/sequential_annotations/iob_annotations/without_named_entities/htfl_en_134_seq_terms.tsv: 4 sentences\n",
            "Processed /content/ACTER/en/htfl/annotated/annotations/sequential_annotations/iob_annotations/without_named_entities/htfl_en_002_seq_terms.tsv: 17 sentences\n",
            "Processed /content/ACTER/en/htfl/annotated/annotations/sequential_annotations/iob_annotations/without_named_entities/htfl_en_149_seq_terms.tsv: 19 sentences\n",
            "Processed /content/ACTER/en/htfl/annotated/annotations/sequential_annotations/iob_annotations/without_named_entities/htfl_en_068_seq_terms.tsv: 14 sentences\n",
            "Processed /content/ACTER/en/htfl/annotated/annotations/sequential_annotations/iob_annotations/without_named_entities/htfl_en_129_seq_terms.tsv: 11 sentences\n",
            "Processed /content/ACTER/en/htfl/annotated/annotations/sequential_annotations/iob_annotations/without_named_entities/htfl_en_013_seq_terms.tsv: 9 sentences\n",
            "Processed /content/ACTER/en/htfl/annotated/annotations/sequential_annotations/iob_annotations/without_named_entities/htfl_en_077_seq_terms.tsv: 14 sentences\n",
            "Processed /content/ACTER/en/htfl/annotated/annotations/sequential_annotations/iob_annotations/without_named_entities/htfl_en_005_seq_terms.tsv: 15 sentences\n",
            "Processed /content/ACTER/en/htfl/annotated/annotations/sequential_annotations/iob_annotations/without_named_entities/htfl_en_096_seq_terms.tsv: 14 sentences\n",
            "Processed /content/ACTER/en/htfl/annotated/annotations/sequential_annotations/iob_annotations/without_named_entities/htfl_en_008_seq_terms.tsv: 16 sentences\n",
            "Processed /content/ACTER/en/htfl/annotated/annotations/sequential_annotations/iob_annotations/without_named_entities/htfl_en_144_seq_terms.tsv: 19 sentences\n",
            "Processed /content/ACTER/en/htfl/annotated/annotations/sequential_annotations/iob_annotations/without_named_entities/htfl_en_069_seq_terms.tsv: 6 sentences\n",
            "Processed /content/ACTER/en/htfl/annotated/annotations/sequential_annotations/iob_annotations/without_named_entities/htfl_en_127_seq_terms.tsv: 16 sentences\n",
            "Processed /content/ACTER/en/htfl/annotated/annotations/sequential_annotations/iob_annotations/without_named_entities/htfl_en_101_seq_terms.tsv: 16 sentences\n",
            "Processed /content/ACTER/en/htfl/annotated/annotations/sequential_annotations/iob_annotations/without_named_entities/htfl_en_051_seq_terms.tsv: 13 sentences\n",
            "Processed /content/ACTER/en/htfl/annotated/annotations/sequential_annotations/iob_annotations/without_named_entities/htfl_en_137_seq_terms.tsv: 8 sentences\n",
            "Processed /content/ACTER/en/htfl/annotated/annotations/sequential_annotations/iob_annotations/without_named_entities/htfl_en_102_seq_terms.tsv: 13 sentences\n",
            "Processed /content/ACTER/en/htfl/annotated/annotations/sequential_annotations/iob_annotations/without_named_entities/htfl_en_065_seq_terms.tsv: 15 sentences\n",
            "Processed /content/ACTER/en/htfl/annotated/annotations/sequential_annotations/iob_annotations/without_named_entities/htfl_en_041_seq_terms.tsv: 15 sentences\n",
            "Processed /content/ACTER/en/htfl/annotated/annotations/sequential_annotations/iob_annotations/without_named_entities/htfl_en_136_seq_terms.tsv: 6 sentences\n",
            "Processed /content/ACTER/en/htfl/annotated/annotations/sequential_annotations/iob_annotations/without_named_entities/htfl_en_022_seq_terms.tsv: 4 sentences\n",
            "Processed /content/ACTER/en/htfl/annotated/annotations/sequential_annotations/iob_annotations/without_named_entities/htfl_en_010_seq_terms.tsv: 4 sentences\n",
            "Processed /content/ACTER/en/htfl/annotated/annotations/sequential_annotations/iob_annotations/without_named_entities/htfl_en_081_seq_terms.tsv: 15 sentences\n",
            "Processed /content/ACTER/en/htfl/annotated/annotations/sequential_annotations/iob_annotations/without_named_entities/htfl_en_131_seq_terms.tsv: 11 sentences\n",
            "Processed /content/ACTER/en/htfl/annotated/annotations/sequential_annotations/iob_annotations/without_named_entities/htfl_en_128_seq_terms.tsv: 9 sentences\n",
            "Processed /content/ACTER/en/htfl/annotated/annotations/sequential_annotations/iob_annotations/without_named_entities/htfl_en_111_seq_terms.tsv: 13 sentences\n",
            "Processed /content/ACTER/en/htfl/annotated/annotations/sequential_annotations/iob_annotations/without_named_entities/htfl_en_039_seq_terms.tsv: 14 sentences\n",
            "Processed /content/ACTER/en/htfl/annotated/annotations/sequential_annotations/iob_annotations/without_named_entities/htfl_en_050_seq_terms.tsv: 18 sentences\n",
            "Processed /content/ACTER/en/htfl/annotated/annotations/sequential_annotations/iob_annotations/without_named_entities/htfl_en_139_seq_terms.tsv: 5 sentences\n",
            "Processed /content/ACTER/en/htfl/annotated/annotations/sequential_annotations/iob_annotations/without_named_entities/htfl_en_048_seq_terms.tsv: 13 sentences\n",
            "Processed /content/ACTER/en/htfl/annotated/annotations/sequential_annotations/iob_annotations/without_named_entities/htfl_en_169_seq_terms.tsv: 14 sentences\n",
            "Processed /content/ACTER/en/htfl/annotated/annotations/sequential_annotations/iob_annotations/without_named_entities/htfl_en_154_seq_terms.tsv: 17 sentences\n",
            "Processed /content/ACTER/en/htfl/annotated/annotations/sequential_annotations/iob_annotations/without_named_entities/htfl_en_066_seq_terms.tsv: 16 sentences\n",
            "Processed /content/ACTER/en/htfl/annotated/annotations/sequential_annotations/iob_annotations/without_named_entities/htfl_en_033_seq_terms.tsv: 49 sentences\n",
            "Processed /content/ACTER/en/htfl/annotated/annotations/sequential_annotations/iob_annotations/without_named_entities/htfl_en_075_seq_terms.tsv: 12 sentences\n",
            "Processed /content/ACTER/en/htfl/annotated/annotations/sequential_annotations/iob_annotations/without_named_entities/htfl_en_185_seq_terms.tsv: 20 sentences\n",
            "Processed /content/ACTER/en/htfl/annotated/annotations/sequential_annotations/iob_annotations/without_named_entities/htfl_en_054_seq_terms.tsv: 23 sentences\n",
            "Processed /content/ACTER/en/htfl/annotated/annotations/sequential_annotations/iob_annotations/without_named_entities/htfl_en_125_seq_terms.tsv: 14 sentences\n",
            "Processed /content/ACTER/en/htfl/annotated/annotations/sequential_annotations/iob_annotations/without_named_entities/htfl_en_103_seq_terms.tsv: 4 sentences\n",
            "Processed /content/ACTER/en/htfl/annotated/annotations/sequential_annotations/iob_annotations/without_named_entities/htfl_en_143_seq_terms.tsv: 11 sentences\n",
            "\n",
            "Processing directory: /content/ACTER/en/wind/annotated/annotations/sequential_annotations/iob_annotations/without_named_entities\n",
            "Processed /content/ACTER/en/wind/annotated/annotations/sequential_annotations/iob_annotations/without_named_entities/wind_en_26_seq_terms.tsv: 111 sentences\n",
            "Processed /content/ACTER/en/wind/annotated/annotations/sequential_annotations/iob_annotations/without_named_entities/wind_en_01_seq_terms.tsv: 5259 sentences\n",
            "Processed /content/ACTER/en/wind/annotated/annotations/sequential_annotations/iob_annotations/without_named_entities/wind_en_02_seq_terms.tsv: 776 sentences\n",
            "Processed /content/ACTER/en/wind/annotated/annotations/sequential_annotations/iob_annotations/without_named_entities/wind_en_04_seq_terms.tsv: 338 sentences\n",
            "Processed /content/ACTER/en/wind/annotated/annotations/sequential_annotations/iob_annotations/without_named_entities/wind_en_32_seq_terms.tsv: 154 sentences\n",
            "\n",
            "Processing directory: /content/ACTER/fr/corp/annotated/annotations/sequential_annotations/iob_annotations/without_named_entities\n",
            "Processed /content/ACTER/fr/corp/annotated/annotations/sequential_annotations/iob_annotations/without_named_entities/corp_fr_05_seq_terms.tsv: 52 sentences\n",
            "Processed /content/ACTER/fr/corp/annotated/annotations/sequential_annotations/iob_annotations/without_named_entities/corp_fr_11_seq_terms.tsv: 273 sentences\n",
            "Processed /content/ACTER/fr/corp/annotated/annotations/sequential_annotations/iob_annotations/without_named_entities/corp_fr_04_seq_terms.tsv: 62 sentences\n",
            "Processed /content/ACTER/fr/corp/annotated/annotations/sequential_annotations/iob_annotations/without_named_entities/corp_fr_08_seq_terms.tsv: 163 sentences\n",
            "Processed /content/ACTER/fr/corp/annotated/annotations/sequential_annotations/iob_annotations/without_named_entities/corp_fr_09_seq_terms.tsv: 108 sentences\n",
            "Processed /content/ACTER/fr/corp/annotated/annotations/sequential_annotations/iob_annotations/without_named_entities/corp_fr_07_seq_terms.tsv: 332 sentences\n",
            "Processed /content/ACTER/fr/corp/annotated/annotations/sequential_annotations/iob_annotations/without_named_entities/corp_fr_02_seq_terms.tsv: 59 sentences\n",
            "Processed /content/ACTER/fr/corp/annotated/annotations/sequential_annotations/iob_annotations/without_named_entities/corp_fr_06_seq_terms.tsv: 362 sentences\n",
            "Processed /content/ACTER/fr/corp/annotated/annotations/sequential_annotations/iob_annotations/without_named_entities/corp_fr_12_seq_terms.tsv: 276 sentences\n",
            "Processed /content/ACTER/fr/corp/annotated/annotations/sequential_annotations/iob_annotations/without_named_entities/corp_fr_19_seq_terms.tsv: 57 sentences\n",
            "Processed /content/ACTER/fr/corp/annotated/annotations/sequential_annotations/iob_annotations/without_named_entities/corp_fr_10_seq_terms.tsv: 28 sentences\n",
            "Processed /content/ACTER/fr/corp/annotated/annotations/sequential_annotations/iob_annotations/without_named_entities/corp_fr_01_seq_terms.tsv: 205 sentences\n",
            "\n",
            "Processing directory: /content/ACTER/fr/equi/annotated/annotations/sequential_annotations/iob_annotations/without_named_entities\n",
            "Processed /content/ACTER/fr/equi/annotated/annotations/sequential_annotations/iob_annotations/without_named_entities/equi_fr_073_seq_terms.tsv: 62 sentences\n",
            "Processed /content/ACTER/fr/equi/annotated/annotations/sequential_annotations/iob_annotations/without_named_entities/equi_fr_045_seq_terms.tsv: 14 sentences\n",
            "Processed /content/ACTER/fr/equi/annotated/annotations/sequential_annotations/iob_annotations/without_named_entities/equi_fr_054_seq_terms.tsv: 23 sentences\n",
            "Processed /content/ACTER/fr/equi/annotated/annotations/sequential_annotations/iob_annotations/without_named_entities/equi_fr_074_seq_terms.tsv: 56 sentences\n",
            "Processed /content/ACTER/fr/equi/annotated/annotations/sequential_annotations/iob_annotations/without_named_entities/equi_fr_024_seq_terms.tsv: 23 sentences\n",
            "Processed /content/ACTER/fr/equi/annotated/annotations/sequential_annotations/iob_annotations/without_named_entities/equi_fr_023_seq_terms.tsv: 15 sentences\n",
            "Processed /content/ACTER/fr/equi/annotated/annotations/sequential_annotations/iob_annotations/without_named_entities/equi_fr_049_seq_terms.tsv: 15 sentences\n",
            "Processed /content/ACTER/fr/equi/annotated/annotations/sequential_annotations/iob_annotations/without_named_entities/equi_fr_022_seq_terms.tsv: 25 sentences\n",
            "Processed /content/ACTER/fr/equi/annotated/annotations/sequential_annotations/iob_annotations/without_named_entities/equi_fr_076_seq_terms.tsv: 83 sentences\n",
            "Processed /content/ACTER/fr/equi/annotated/annotations/sequential_annotations/iob_annotations/without_named_entities/equi_fr_025_seq_terms.tsv: 25 sentences\n",
            "Processed /content/ACTER/fr/equi/annotated/annotations/sequential_annotations/iob_annotations/without_named_entities/equi_fr_042_seq_terms.tsv: 23 sentences\n",
            "Processed /content/ACTER/fr/equi/annotated/annotations/sequential_annotations/iob_annotations/without_named_entities/equi_fr_041_seq_terms.tsv: 16 sentences\n",
            "Processed /content/ACTER/fr/equi/annotated/annotations/sequential_annotations/iob_annotations/without_named_entities/equi_fr_075_seq_terms.tsv: 54 sentences\n",
            "Processed /content/ACTER/fr/equi/annotated/annotations/sequential_annotations/iob_annotations/without_named_entities/equi_fr_078_seq_terms.tsv: 58 sentences\n",
            "Processed /content/ACTER/fr/equi/annotated/annotations/sequential_annotations/iob_annotations/without_named_entities/equi_fr_050_seq_terms.tsv: 16 sentences\n",
            "Processed /content/ACTER/fr/equi/annotated/annotations/sequential_annotations/iob_annotations/without_named_entities/equi_fr_047_seq_terms.tsv: 16 sentences\n",
            "Processed /content/ACTER/fr/equi/annotated/annotations/sequential_annotations/iob_annotations/without_named_entities/equi_fr_011_seq_terms.tsv: 4 sentences\n",
            "Processed /content/ACTER/fr/equi/annotated/annotations/sequential_annotations/iob_annotations/without_named_entities/equi_fr_040_seq_terms.tsv: 29 sentences\n",
            "Processed /content/ACTER/fr/equi/annotated/annotations/sequential_annotations/iob_annotations/without_named_entities/equi_fr_028_seq_terms.tsv: 14 sentences\n",
            "Processed /content/ACTER/fr/equi/annotated/annotations/sequential_annotations/iob_annotations/without_named_entities/equi_fr_037_seq_terms.tsv: 10 sentences\n",
            "Processed /content/ACTER/fr/equi/annotated/annotations/sequential_annotations/iob_annotations/without_named_entities/equi_fr_020_seq_terms.tsv: 200 sentences\n",
            "Processed /content/ACTER/fr/equi/annotated/annotations/sequential_annotations/iob_annotations/without_named_entities/equi_fr_015_seq_terms.tsv: 4 sentences\n",
            "Processed /content/ACTER/fr/equi/annotated/annotations/sequential_annotations/iob_annotations/without_named_entities/equi_fr_009_seq_terms.tsv: 17 sentences\n",
            "Processed /content/ACTER/fr/equi/annotated/annotations/sequential_annotations/iob_annotations/without_named_entities/equi_fr_026_seq_terms.tsv: 19 sentences\n",
            "Processed /content/ACTER/fr/equi/annotated/annotations/sequential_annotations/iob_annotations/without_named_entities/equi_fr_072_seq_terms.tsv: 34 sentences\n",
            "Processed /content/ACTER/fr/equi/annotated/annotations/sequential_annotations/iob_annotations/without_named_entities/equi_fr_061_seq_terms.tsv: 13 sentences\n",
            "Processed /content/ACTER/fr/equi/annotated/annotations/sequential_annotations/iob_annotations/without_named_entities/equi_fr_007_seq_terms.tsv: 205 sentences\n",
            "Processed /content/ACTER/fr/equi/annotated/annotations/sequential_annotations/iob_annotations/without_named_entities/equi_fr_068_seq_terms.tsv: 258 sentences\n",
            "Processed /content/ACTER/fr/equi/annotated/annotations/sequential_annotations/iob_annotations/without_named_entities/equi_fr_056_seq_terms.tsv: 13 sentences\n",
            "Processed /content/ACTER/fr/equi/annotated/annotations/sequential_annotations/iob_annotations/without_named_entities/equi_fr_048_seq_terms.tsv: 18 sentences\n",
            "Processed /content/ACTER/fr/equi/annotated/annotations/sequential_annotations/iob_annotations/without_named_entities/equi_fr_017_seq_terms.tsv: 5 sentences\n",
            "Processed /content/ACTER/fr/equi/annotated/annotations/sequential_annotations/iob_annotations/without_named_entities/equi_fr_038_seq_terms.tsv: 23 sentences\n",
            "Processed /content/ACTER/fr/equi/annotated/annotations/sequential_annotations/iob_annotations/without_named_entities/equi_fr_051_seq_terms.tsv: 16 sentences\n",
            "Processed /content/ACTER/fr/equi/annotated/annotations/sequential_annotations/iob_annotations/without_named_entities/equi_fr_071_seq_terms.tsv: 42 sentences\n",
            "Processed /content/ACTER/fr/equi/annotated/annotations/sequential_annotations/iob_annotations/without_named_entities/equi_fr_001_seq_terms.tsv: 67 sentences\n",
            "Processed /content/ACTER/fr/equi/annotated/annotations/sequential_annotations/iob_annotations/without_named_entities/equi_fr_008_seq_terms.tsv: 19 sentences\n",
            "Processed /content/ACTER/fr/equi/annotated/annotations/sequential_annotations/iob_annotations/without_named_entities/equi_fr_063_seq_terms.tsv: 12 sentences\n",
            "Processed /content/ACTER/fr/equi/annotated/annotations/sequential_annotations/iob_annotations/without_named_entities/equi_fr_016_seq_terms.tsv: 5 sentences\n",
            "Processed /content/ACTER/fr/equi/annotated/annotations/sequential_annotations/iob_annotations/without_named_entities/equi_fr_004_seq_terms.tsv: 38 sentences\n",
            "Processed /content/ACTER/fr/equi/annotated/annotations/sequential_annotations/iob_annotations/without_named_entities/equi_fr_055_seq_terms.tsv: 15 sentences\n",
            "Processed /content/ACTER/fr/equi/annotated/annotations/sequential_annotations/iob_annotations/without_named_entities/equi_fr_003_seq_terms.tsv: 203 sentences\n",
            "Processed /content/ACTER/fr/equi/annotated/annotations/sequential_annotations/iob_annotations/without_named_entities/equi_fr_066_seq_terms.tsv: 67 sentences\n",
            "Processed /content/ACTER/fr/equi/annotated/annotations/sequential_annotations/iob_annotations/without_named_entities/equi_fr_057_seq_terms.tsv: 33 sentences\n",
            "Processed /content/ACTER/fr/equi/annotated/annotations/sequential_annotations/iob_annotations/without_named_entities/equi_fr_005_seq_terms.tsv: 14 sentences\n",
            "Processed /content/ACTER/fr/equi/annotated/annotations/sequential_annotations/iob_annotations/without_named_entities/equi_fr_062_seq_terms.tsv: 18 sentences\n",
            "Processed /content/ACTER/fr/equi/annotated/annotations/sequential_annotations/iob_annotations/without_named_entities/equi_fr_027_seq_terms.tsv: 7 sentences\n",
            "Processed /content/ACTER/fr/equi/annotated/annotations/sequential_annotations/iob_annotations/without_named_entities/equi_fr_059_seq_terms.tsv: 15 sentences\n",
            "Processed /content/ACTER/fr/equi/annotated/annotations/sequential_annotations/iob_annotations/without_named_entities/equi_fr_067_seq_terms.tsv: 33 sentences\n",
            "Processed /content/ACTER/fr/equi/annotated/annotations/sequential_annotations/iob_annotations/without_named_entities/equi_fr_053_seq_terms.tsv: 15 sentences\n",
            "Processed /content/ACTER/fr/equi/annotated/annotations/sequential_annotations/iob_annotations/without_named_entities/equi_fr_030_seq_terms.tsv: 15 sentences\n",
            "Processed /content/ACTER/fr/equi/annotated/annotations/sequential_annotations/iob_annotations/without_named_entities/equi_fr_070_seq_terms.tsv: 20 sentences\n",
            "Processed /content/ACTER/fr/equi/annotated/annotations/sequential_annotations/iob_annotations/without_named_entities/equi_fr_006_seq_terms.tsv: 19 sentences\n",
            "Processed /content/ACTER/fr/equi/annotated/annotations/sequential_annotations/iob_annotations/without_named_entities/equi_fr_012_seq_terms.tsv: 10 sentences\n",
            "Processed /content/ACTER/fr/equi/annotated/annotations/sequential_annotations/iob_annotations/without_named_entities/equi_fr_069_seq_terms.tsv: 71 sentences\n",
            "Processed /content/ACTER/fr/equi/annotated/annotations/sequential_annotations/iob_annotations/without_named_entities/equi_fr_029_seq_terms.tsv: 20 sentences\n",
            "Processed /content/ACTER/fr/equi/annotated/annotations/sequential_annotations/iob_annotations/without_named_entities/equi_fr_036_seq_terms.tsv: 22 sentences\n",
            "Processed /content/ACTER/fr/equi/annotated/annotations/sequential_annotations/iob_annotations/without_named_entities/equi_fr_034_seq_terms.tsv: 22 sentences\n",
            "Processed /content/ACTER/fr/equi/annotated/annotations/sequential_annotations/iob_annotations/without_named_entities/equi_fr_010_seq_terms.tsv: 5 sentences\n",
            "Processed /content/ACTER/fr/equi/annotated/annotations/sequential_annotations/iob_annotations/without_named_entities/equi_fr_031_seq_terms.tsv: 14 sentences\n",
            "Processed /content/ACTER/fr/equi/annotated/annotations/sequential_annotations/iob_annotations/without_named_entities/equi_fr_039_seq_terms.tsv: 21 sentences\n",
            "Processed /content/ACTER/fr/equi/annotated/annotations/sequential_annotations/iob_annotations/without_named_entities/equi_fr_002_seq_terms.tsv: 22 sentences\n",
            "Processed /content/ACTER/fr/equi/annotated/annotations/sequential_annotations/iob_annotations/without_named_entities/equi_fr_077_seq_terms.tsv: 50 sentences\n",
            "Processed /content/ACTER/fr/equi/annotated/annotations/sequential_annotations/iob_annotations/without_named_entities/equi_fr_014_seq_terms.tsv: 9 sentences\n",
            "Processed /content/ACTER/fr/equi/annotated/annotations/sequential_annotations/iob_annotations/without_named_entities/equi_fr_058_seq_terms.tsv: 19 sentences\n",
            "Processed /content/ACTER/fr/equi/annotated/annotations/sequential_annotations/iob_annotations/without_named_entities/equi_fr_033_seq_terms.tsv: 19 sentences\n",
            "Processed /content/ACTER/fr/equi/annotated/annotations/sequential_annotations/iob_annotations/without_named_entities/equi_fr_043_seq_terms.tsv: 14 sentences\n",
            "Processed /content/ACTER/fr/equi/annotated/annotations/sequential_annotations/iob_annotations/without_named_entities/equi_fr_013_seq_terms.tsv: 7 sentences\n",
            "Processed /content/ACTER/fr/equi/annotated/annotations/sequential_annotations/iob_annotations/without_named_entities/equi_fr_019_seq_terms.tsv: 59 sentences\n",
            "Processed /content/ACTER/fr/equi/annotated/annotations/sequential_annotations/iob_annotations/without_named_entities/equi_fr_064_seq_terms.tsv: 63 sentences\n",
            "Processed /content/ACTER/fr/equi/annotated/annotations/sequential_annotations/iob_annotations/without_named_entities/equi_fr_052_seq_terms.tsv: 17 sentences\n",
            "Processed /content/ACTER/fr/equi/annotated/annotations/sequential_annotations/iob_annotations/without_named_entities/equi_fr_021_seq_terms.tsv: 84 sentences\n",
            "Processed /content/ACTER/fr/equi/annotated/annotations/sequential_annotations/iob_annotations/without_named_entities/equi_fr_018_seq_terms.tsv: 47 sentences\n",
            "Processed /content/ACTER/fr/equi/annotated/annotations/sequential_annotations/iob_annotations/without_named_entities/equi_fr_044_seq_terms.tsv: 9 sentences\n",
            "Processed /content/ACTER/fr/equi/annotated/annotations/sequential_annotations/iob_annotations/without_named_entities/equi_fr_046_seq_terms.tsv: 9 sentences\n",
            "Processed /content/ACTER/fr/equi/annotated/annotations/sequential_annotations/iob_annotations/without_named_entities/equi_fr_065_seq_terms.tsv: 42 sentences\n",
            "Processed /content/ACTER/fr/equi/annotated/annotations/sequential_annotations/iob_annotations/without_named_entities/equi_fr_032_seq_terms.tsv: 41 sentences\n",
            "Processed /content/ACTER/fr/equi/annotated/annotations/sequential_annotations/iob_annotations/without_named_entities/equi_fr_060_seq_terms.tsv: 19 sentences\n",
            "Processed /content/ACTER/fr/equi/annotated/annotations/sequential_annotations/iob_annotations/without_named_entities/equi_fr_035_seq_terms.tsv: 31 sentences\n",
            "\n",
            "Processing directory: /content/ACTER/fr/htfl/annotated/annotations/sequential_annotations/iob_annotations/without_named_entities\n",
            "Processed /content/ACTER/fr/htfl/annotated/annotations/sequential_annotations/iob_annotations/without_named_entities/htfl_fr_118_seq_terms.tsv: 16 sentences\n",
            "Processed /content/ACTER/fr/htfl/annotated/annotations/sequential_annotations/iob_annotations/without_named_entities/htfl_fr_179_seq_terms.tsv: 10 sentences\n",
            "Processed /content/ACTER/fr/htfl/annotated/annotations/sequential_annotations/iob_annotations/without_named_entities/htfl_fr_156_seq_terms.tsv: 21 sentences\n",
            "Processed /content/ACTER/fr/htfl/annotated/annotations/sequential_annotations/iob_annotations/without_named_entities/htfl_fr_033_seq_terms.tsv: 12 sentences\n",
            "Processed /content/ACTER/fr/htfl/annotated/annotations/sequential_annotations/iob_annotations/without_named_entities/htfl_fr_180_seq_terms.tsv: 12 sentences\n",
            "Processed /content/ACTER/fr/htfl/annotated/annotations/sequential_annotations/iob_annotations/without_named_entities/htfl_fr_176_seq_terms.tsv: 7 sentences\n",
            "Processed /content/ACTER/fr/htfl/annotated/annotations/sequential_annotations/iob_annotations/without_named_entities/htfl_fr_104_seq_terms.tsv: 14 sentences\n",
            "Processed /content/ACTER/fr/htfl/annotated/annotations/sequential_annotations/iob_annotations/without_named_entities/htfl_fr_185_seq_terms.tsv: 12 sentences\n",
            "Processed /content/ACTER/fr/htfl/annotated/annotations/sequential_annotations/iob_annotations/without_named_entities/htfl_fr_199_seq_terms.tsv: 12 sentences\n",
            "Processed /content/ACTER/fr/htfl/annotated/annotations/sequential_annotations/iob_annotations/without_named_entities/htfl_fr_089_seq_terms.tsv: 13 sentences\n",
            "Processed /content/ACTER/fr/htfl/annotated/annotations/sequential_annotations/iob_annotations/without_named_entities/htfl_fr_175_seq_terms.tsv: 15 sentences\n",
            "Processed /content/ACTER/fr/htfl/annotated/annotations/sequential_annotations/iob_annotations/without_named_entities/htfl_fr_126_seq_terms.tsv: 5 sentences\n",
            "Processed /content/ACTER/fr/htfl/annotated/annotations/sequential_annotations/iob_annotations/without_named_entities/htfl_fr_186_seq_terms.tsv: 10 sentences\n",
            "Processed /content/ACTER/fr/htfl/annotated/annotations/sequential_annotations/iob_annotations/without_named_entities/htfl_fr_157_seq_terms.tsv: 8 sentences\n",
            "Processed /content/ACTER/fr/htfl/annotated/annotations/sequential_annotations/iob_annotations/without_named_entities/htfl_fr_128_seq_terms.tsv: 9 sentences\n",
            "Processed /content/ACTER/fr/htfl/annotated/annotations/sequential_annotations/iob_annotations/without_named_entities/htfl_fr_044_seq_terms.tsv: 12 sentences\n",
            "Processed /content/ACTER/fr/htfl/annotated/annotations/sequential_annotations/iob_annotations/without_named_entities/htfl_fr_112_seq_terms.tsv: 19 sentences\n",
            "Processed /content/ACTER/fr/htfl/annotated/annotations/sequential_annotations/iob_annotations/without_named_entities/htfl_fr_039_seq_terms.tsv: 17 sentences\n",
            "Processed /content/ACTER/fr/htfl/annotated/annotations/sequential_annotations/iob_annotations/without_named_entities/htfl_fr_046_seq_terms.tsv: 5 sentences\n",
            "Processed /content/ACTER/fr/htfl/annotated/annotations/sequential_annotations/iob_annotations/without_named_entities/htfl_fr_076_seq_terms.tsv: 10 sentences\n",
            "Processed /content/ACTER/fr/htfl/annotated/annotations/sequential_annotations/iob_annotations/without_named_entities/htfl_fr_100_seq_terms.tsv: 16 sentences\n",
            "Processed /content/ACTER/fr/htfl/annotated/annotations/sequential_annotations/iob_annotations/without_named_entities/htfl_fr_167_seq_terms.tsv: 10 sentences\n",
            "Processed /content/ACTER/fr/htfl/annotated/annotations/sequential_annotations/iob_annotations/without_named_entities/htfl_fr_132_seq_terms.tsv: 9 sentences\n",
            "Processed /content/ACTER/fr/htfl/annotated/annotations/sequential_annotations/iob_annotations/without_named_entities/htfl_fr_069_seq_terms.tsv: 9 sentences\n",
            "Processed /content/ACTER/fr/htfl/annotated/annotations/sequential_annotations/iob_annotations/without_named_entities/htfl_fr_121_seq_terms.tsv: 5 sentences\n",
            "Processed /content/ACTER/fr/htfl/annotated/annotations/sequential_annotations/iob_annotations/without_named_entities/htfl_fr_106_seq_terms.tsv: 7 sentences\n",
            "Processed /content/ACTER/fr/htfl/annotated/annotations/sequential_annotations/iob_annotations/without_named_entities/htfl_fr_147_seq_terms.tsv: 12 sentences\n",
            "Processed /content/ACTER/fr/htfl/annotated/annotations/sequential_annotations/iob_annotations/without_named_entities/htfl_fr_010_seq_terms.tsv: 20 sentences\n",
            "Processed /content/ACTER/fr/htfl/annotated/annotations/sequential_annotations/iob_annotations/without_named_entities/htfl_fr_108_seq_terms.tsv: 4 sentences\n",
            "Processed /content/ACTER/fr/htfl/annotated/annotations/sequential_annotations/iob_annotations/without_named_entities/htfl_fr_060_seq_terms.tsv: 6 sentences\n",
            "Processed /content/ACTER/fr/htfl/annotated/annotations/sequential_annotations/iob_annotations/without_named_entities/htfl_fr_031_seq_terms.tsv: 7 sentences\n",
            "Processed /content/ACTER/fr/htfl/annotated/annotations/sequential_annotations/iob_annotations/without_named_entities/htfl_fr_032_seq_terms.tsv: 13 sentences\n",
            "Processed /content/ACTER/fr/htfl/annotated/annotations/sequential_annotations/iob_annotations/without_named_entities/htfl_fr_165_seq_terms.tsv: 12 sentences\n",
            "Processed /content/ACTER/fr/htfl/annotated/annotations/sequential_annotations/iob_annotations/without_named_entities/htfl_fr_114_seq_terms.tsv: 16 sentences\n",
            "Processed /content/ACTER/fr/htfl/annotated/annotations/sequential_annotations/iob_annotations/without_named_entities/htfl_fr_170_seq_terms.tsv: 8 sentences\n",
            "Processed /content/ACTER/fr/htfl/annotated/annotations/sequential_annotations/iob_annotations/without_named_entities/htfl_fr_208_seq_terms.tsv: 15 sentences\n",
            "Processed /content/ACTER/fr/htfl/annotated/annotations/sequential_annotations/iob_annotations/without_named_entities/htfl_fr_119_seq_terms.tsv: 9 sentences\n",
            "Processed /content/ACTER/fr/htfl/annotated/annotations/sequential_annotations/iob_annotations/without_named_entities/htfl_fr_094_seq_terms.tsv: 9 sentences\n",
            "Processed /content/ACTER/fr/htfl/annotated/annotations/sequential_annotations/iob_annotations/without_named_entities/htfl_fr_042_seq_terms.tsv: 10 sentences\n",
            "Processed /content/ACTER/fr/htfl/annotated/annotations/sequential_annotations/iob_annotations/without_named_entities/htfl_fr_174_seq_terms.tsv: 15 sentences\n",
            "Processed /content/ACTER/fr/htfl/annotated/annotations/sequential_annotations/iob_annotations/without_named_entities/htfl_fr_073_seq_terms.tsv: 12 sentences\n",
            "Processed /content/ACTER/fr/htfl/annotated/annotations/sequential_annotations/iob_annotations/without_named_entities/htfl_fr_093_seq_terms.tsv: 6 sentences\n",
            "Processed /content/ACTER/fr/htfl/annotated/annotations/sequential_annotations/iob_annotations/without_named_entities/htfl_fr_048_seq_terms.tsv: 19 sentences\n",
            "Processed /content/ACTER/fr/htfl/annotated/annotations/sequential_annotations/iob_annotations/without_named_entities/htfl_fr_139_seq_terms.tsv: 6 sentences\n",
            "Processed /content/ACTER/fr/htfl/annotated/annotations/sequential_annotations/iob_annotations/without_named_entities/htfl_fr_019_seq_terms.tsv: 10 sentences\n",
            "Processed /content/ACTER/fr/htfl/annotated/annotations/sequential_annotations/iob_annotations/without_named_entities/htfl_fr_125_seq_terms.tsv: 11 sentences\n",
            "Processed /content/ACTER/fr/htfl/annotated/annotations/sequential_annotations/iob_annotations/without_named_entities/htfl_fr_055_seq_terms.tsv: 10 sentences\n",
            "Processed /content/ACTER/fr/htfl/annotated/annotations/sequential_annotations/iob_annotations/without_named_entities/htfl_fr_120_seq_terms.tsv: 8 sentences\n",
            "Processed /content/ACTER/fr/htfl/annotated/annotations/sequential_annotations/iob_annotations/without_named_entities/htfl_fr_021_seq_terms.tsv: 6 sentences\n",
            "Processed /content/ACTER/fr/htfl/annotated/annotations/sequential_annotations/iob_annotations/without_named_entities/htfl_fr_111_seq_terms.tsv: 6 sentences\n",
            "Processed /content/ACTER/fr/htfl/annotated/annotations/sequential_annotations/iob_annotations/without_named_entities/htfl_fr_087_seq_terms.tsv: 8 sentences\n",
            "Processed /content/ACTER/fr/htfl/annotated/annotations/sequential_annotations/iob_annotations/without_named_entities/htfl_fr_067_seq_terms.tsv: 5 sentences\n",
            "Processed /content/ACTER/fr/htfl/annotated/annotations/sequential_annotations/iob_annotations/without_named_entities/htfl_fr_117_seq_terms.tsv: 10 sentences\n",
            "Processed /content/ACTER/fr/htfl/annotated/annotations/sequential_annotations/iob_annotations/without_named_entities/htfl_fr_084_seq_terms.tsv: 6 sentences\n",
            "Processed /content/ACTER/fr/htfl/annotated/annotations/sequential_annotations/iob_annotations/without_named_entities/htfl_fr_201_seq_terms.tsv: 6 sentences\n",
            "Processed /content/ACTER/fr/htfl/annotated/annotations/sequential_annotations/iob_annotations/without_named_entities/htfl_fr_107_seq_terms.tsv: 20 sentences\n",
            "Processed /content/ACTER/fr/htfl/annotated/annotations/sequential_annotations/iob_annotations/without_named_entities/htfl_fr_095_seq_terms.tsv: 18 sentences\n",
            "Processed /content/ACTER/fr/htfl/annotated/annotations/sequential_annotations/iob_annotations/without_named_entities/htfl_fr_004_seq_terms.tsv: 14 sentences\n",
            "Processed /content/ACTER/fr/htfl/annotated/annotations/sequential_annotations/iob_annotations/without_named_entities/htfl_fr_138_seq_terms.tsv: 17 sentences\n",
            "Processed /content/ACTER/fr/htfl/annotated/annotations/sequential_annotations/iob_annotations/without_named_entities/htfl_fr_011_seq_terms.tsv: 9 sentences\n",
            "Processed /content/ACTER/fr/htfl/annotated/annotations/sequential_annotations/iob_annotations/without_named_entities/htfl_fr_025_seq_terms.tsv: 8 sentences\n",
            "Processed /content/ACTER/fr/htfl/annotated/annotations/sequential_annotations/iob_annotations/without_named_entities/htfl_fr_045_seq_terms.tsv: 6 sentences\n",
            "Processed /content/ACTER/fr/htfl/annotated/annotations/sequential_annotations/iob_annotations/without_named_entities/htfl_fr_001_seq_terms.tsv: 11 sentences\n",
            "Processed /content/ACTER/fr/htfl/annotated/annotations/sequential_annotations/iob_annotations/without_named_entities/htfl_fr_016_seq_terms.tsv: 15 sentences\n",
            "Processed /content/ACTER/fr/htfl/annotated/annotations/sequential_annotations/iob_annotations/without_named_entities/htfl_fr_183_seq_terms.tsv: 7 sentences\n",
            "Processed /content/ACTER/fr/htfl/annotated/annotations/sequential_annotations/iob_annotations/without_named_entities/htfl_fr_113_seq_terms.tsv: 8 sentences\n",
            "Processed /content/ACTER/fr/htfl/annotated/annotations/sequential_annotations/iob_annotations/without_named_entities/htfl_fr_007_seq_terms.tsv: 6 sentences\n",
            "Processed /content/ACTER/fr/htfl/annotated/annotations/sequential_annotations/iob_annotations/without_named_entities/htfl_fr_129_seq_terms.tsv: 13 sentences\n",
            "Processed /content/ACTER/fr/htfl/annotated/annotations/sequential_annotations/iob_annotations/without_named_entities/htfl_fr_102_seq_terms.tsv: 9 sentences\n",
            "Processed /content/ACTER/fr/htfl/annotated/annotations/sequential_annotations/iob_annotations/without_named_entities/htfl_fr_083_seq_terms.tsv: 5 sentences\n",
            "Processed /content/ACTER/fr/htfl/annotated/annotations/sequential_annotations/iob_annotations/without_named_entities/htfl_fr_075_seq_terms.tsv: 18 sentences\n",
            "Processed /content/ACTER/fr/htfl/annotated/annotations/sequential_annotations/iob_annotations/without_named_entities/htfl_fr_012_seq_terms.tsv: 9 sentences\n",
            "Processed /content/ACTER/fr/htfl/annotated/annotations/sequential_annotations/iob_annotations/without_named_entities/htfl_fr_203_seq_terms.tsv: 14 sentences\n",
            "Processed /content/ACTER/fr/htfl/annotated/annotations/sequential_annotations/iob_annotations/without_named_entities/htfl_fr_035_seq_terms.tsv: 13 sentences\n",
            "Processed /content/ACTER/fr/htfl/annotated/annotations/sequential_annotations/iob_annotations/without_named_entities/htfl_fr_066_seq_terms.tsv: 11 sentences\n",
            "Processed /content/ACTER/fr/htfl/annotated/annotations/sequential_annotations/iob_annotations/without_named_entities/htfl_fr_040_seq_terms.tsv: 12 sentences\n",
            "Processed /content/ACTER/fr/htfl/annotated/annotations/sequential_annotations/iob_annotations/without_named_entities/htfl_fr_015_seq_terms.tsv: 14 sentences\n",
            "Processed /content/ACTER/fr/htfl/annotated/annotations/sequential_annotations/iob_annotations/without_named_entities/htfl_fr_209_seq_terms.tsv: 8 sentences\n",
            "Processed /content/ACTER/fr/htfl/annotated/annotations/sequential_annotations/iob_annotations/without_named_entities/htfl_fr_080_seq_terms.tsv: 4 sentences\n",
            "Processed /content/ACTER/fr/htfl/annotated/annotations/sequential_annotations/iob_annotations/without_named_entities/htfl_fr_166_seq_terms.tsv: 15 sentences\n",
            "Processed /content/ACTER/fr/htfl/annotated/annotations/sequential_annotations/iob_annotations/without_named_entities/htfl_fr_052_seq_terms.tsv: 12 sentences\n",
            "Processed /content/ACTER/fr/htfl/annotated/annotations/sequential_annotations/iob_annotations/without_named_entities/htfl_fr_006_seq_terms.tsv: 8 sentences\n",
            "Processed /content/ACTER/fr/htfl/annotated/annotations/sequential_annotations/iob_annotations/without_named_entities/htfl_fr_172_seq_terms.tsv: 8 sentences\n",
            "Processed /content/ACTER/fr/htfl/annotated/annotations/sequential_annotations/iob_annotations/without_named_entities/htfl_fr_054_seq_terms.tsv: 2 sentences\n",
            "Processed /content/ACTER/fr/htfl/annotated/annotations/sequential_annotations/iob_annotations/without_named_entities/htfl_fr_017_seq_terms.tsv: 11 sentences\n",
            "Processed /content/ACTER/fr/htfl/annotated/annotations/sequential_annotations/iob_annotations/without_named_entities/htfl_fr_122_seq_terms.tsv: 7 sentences\n",
            "Processed /content/ACTER/fr/htfl/annotated/annotations/sequential_annotations/iob_annotations/without_named_entities/htfl_fr_098_seq_terms.tsv: 10 sentences\n",
            "Processed /content/ACTER/fr/htfl/annotated/annotations/sequential_annotations/iob_annotations/without_named_entities/htfl_fr_189_seq_terms.tsv: 15 sentences\n",
            "Processed /content/ACTER/fr/htfl/annotated/annotations/sequential_annotations/iob_annotations/without_named_entities/htfl_fr_072_seq_terms.tsv: 8 sentences\n",
            "Processed /content/ACTER/fr/htfl/annotated/annotations/sequential_annotations/iob_annotations/without_named_entities/htfl_fr_022_seq_terms.tsv: 5 sentences\n",
            "Processed /content/ACTER/fr/htfl/annotated/annotations/sequential_annotations/iob_annotations/without_named_entities/htfl_fr_037_seq_terms.tsv: 15 sentences\n",
            "Processed /content/ACTER/fr/htfl/annotated/annotations/sequential_annotations/iob_annotations/without_named_entities/htfl_fr_078_seq_terms.tsv: 8 sentences\n",
            "Processed /content/ACTER/fr/htfl/annotated/annotations/sequential_annotations/iob_annotations/without_named_entities/htfl_fr_133_seq_terms.tsv: 7 sentences\n",
            "Processed /content/ACTER/fr/htfl/annotated/annotations/sequential_annotations/iob_annotations/without_named_entities/htfl_fr_152_seq_terms.tsv: 21 sentences\n",
            "Processed /content/ACTER/fr/htfl/annotated/annotations/sequential_annotations/iob_annotations/without_named_entities/htfl_fr_193_seq_terms.tsv: 7 sentences\n",
            "Processed /content/ACTER/fr/htfl/annotated/annotations/sequential_annotations/iob_annotations/without_named_entities/htfl_fr_141_seq_terms.tsv: 15 sentences\n",
            "Processed /content/ACTER/fr/htfl/annotated/annotations/sequential_annotations/iob_annotations/without_named_entities/htfl_fr_081_seq_terms.tsv: 8 sentences\n",
            "Processed /content/ACTER/fr/htfl/annotated/annotations/sequential_annotations/iob_annotations/without_named_entities/htfl_fr_027_seq_terms.tsv: 7 sentences\n",
            "Processed /content/ACTER/fr/htfl/annotated/annotations/sequential_annotations/iob_annotations/without_named_entities/htfl_fr_064_seq_terms.tsv: 12 sentences\n",
            "Processed /content/ACTER/fr/htfl/annotated/annotations/sequential_annotations/iob_annotations/without_named_entities/htfl_fr_127_seq_terms.tsv: 10 sentences\n",
            "Processed /content/ACTER/fr/htfl/annotated/annotations/sequential_annotations/iob_annotations/without_named_entities/htfl_fr_091_seq_terms.tsv: 10 sentences\n",
            "Processed /content/ACTER/fr/htfl/annotated/annotations/sequential_annotations/iob_annotations/without_named_entities/htfl_fr_028_seq_terms.tsv: 9 sentences\n",
            "Processed /content/ACTER/fr/htfl/annotated/annotations/sequential_annotations/iob_annotations/without_named_entities/htfl_fr_178_seq_terms.tsv: 11 sentences\n",
            "Processed /content/ACTER/fr/htfl/annotated/annotations/sequential_annotations/iob_annotations/without_named_entities/htfl_fr_070_seq_terms.tsv: 6 sentences\n",
            "Processed /content/ACTER/fr/htfl/annotated/annotations/sequential_annotations/iob_annotations/without_named_entities/htfl_fr_036_seq_terms.tsv: 9 sentences\n",
            "Processed /content/ACTER/fr/htfl/annotated/annotations/sequential_annotations/iob_annotations/without_named_entities/htfl_fr_088_seq_terms.tsv: 15 sentences\n",
            "Processed /content/ACTER/fr/htfl/annotated/annotations/sequential_annotations/iob_annotations/without_named_entities/htfl_fr_194_seq_terms.tsv: 12 sentences\n",
            "Processed /content/ACTER/fr/htfl/annotated/annotations/sequential_annotations/iob_annotations/without_named_entities/htfl_fr_026_seq_terms.tsv: 7 sentences\n",
            "Processed /content/ACTER/fr/htfl/annotated/annotations/sequential_annotations/iob_annotations/without_named_entities/htfl_fr_056_seq_terms.tsv: 6 sentences\n",
            "Processed /content/ACTER/fr/htfl/annotated/annotations/sequential_annotations/iob_annotations/without_named_entities/htfl_fr_008_seq_terms.tsv: 14 sentences\n",
            "Processed /content/ACTER/fr/htfl/annotated/annotations/sequential_annotations/iob_annotations/without_named_entities/htfl_fr_190_seq_terms.tsv: 9 sentences\n",
            "Processed /content/ACTER/fr/htfl/annotated/annotations/sequential_annotations/iob_annotations/without_named_entities/htfl_fr_155_seq_terms.tsv: 9 sentences\n",
            "Processed /content/ACTER/fr/htfl/annotated/annotations/sequential_annotations/iob_annotations/without_named_entities/htfl_fr_009_seq_terms.tsv: 8 sentences\n",
            "Processed /content/ACTER/fr/htfl/annotated/annotations/sequential_annotations/iob_annotations/without_named_entities/htfl_fr_101_seq_terms.tsv: 5 sentences\n",
            "Processed /content/ACTER/fr/htfl/annotated/annotations/sequential_annotations/iob_annotations/without_named_entities/htfl_fr_198_seq_terms.tsv: 9 sentences\n",
            "Processed /content/ACTER/fr/htfl/annotated/annotations/sequential_annotations/iob_annotations/without_named_entities/htfl_fr_163_seq_terms.tsv: 10 sentences\n",
            "Processed /content/ACTER/fr/htfl/annotated/annotations/sequential_annotations/iob_annotations/without_named_entities/htfl_fr_082_seq_terms.tsv: 8 sentences\n",
            "Processed /content/ACTER/fr/htfl/annotated/annotations/sequential_annotations/iob_annotations/without_named_entities/htfl_fr_210_seq_terms.tsv: 12 sentences\n",
            "Processed /content/ACTER/fr/htfl/annotated/annotations/sequential_annotations/iob_annotations/without_named_entities/htfl_fr_096_seq_terms.tsv: 15 sentences\n",
            "Processed /content/ACTER/fr/htfl/annotated/annotations/sequential_annotations/iob_annotations/without_named_entities/htfl_fr_051_seq_terms.tsv: 10 sentences\n",
            "Processed /content/ACTER/fr/htfl/annotated/annotations/sequential_annotations/iob_annotations/without_named_entities/htfl_fr_099_seq_terms.tsv: 7 sentences\n",
            "Processed /content/ACTER/fr/htfl/annotated/annotations/sequential_annotations/iob_annotations/without_named_entities/htfl_fr_065_seq_terms.tsv: 5 sentences\n",
            "Processed /content/ACTER/fr/htfl/annotated/annotations/sequential_annotations/iob_annotations/without_named_entities/htfl_fr_142_seq_terms.tsv: 17 sentences\n",
            "Processed /content/ACTER/fr/htfl/annotated/annotations/sequential_annotations/iob_annotations/without_named_entities/htfl_fr_200_seq_terms.tsv: 14 sentences\n",
            "Processed /content/ACTER/fr/htfl/annotated/annotations/sequential_annotations/iob_annotations/without_named_entities/htfl_fr_115_seq_terms.tsv: 9 sentences\n",
            "Processed /content/ACTER/fr/htfl/annotated/annotations/sequential_annotations/iob_annotations/without_named_entities/htfl_fr_188_seq_terms.tsv: 5 sentences\n",
            "Processed /content/ACTER/fr/htfl/annotated/annotations/sequential_annotations/iob_annotations/without_named_entities/htfl_fr_140_seq_terms.tsv: 7 sentences\n",
            "Processed /content/ACTER/fr/htfl/annotated/annotations/sequential_annotations/iob_annotations/without_named_entities/htfl_fr_049_seq_terms.tsv: 3 sentences\n",
            "Processed /content/ACTER/fr/htfl/annotated/annotations/sequential_annotations/iob_annotations/without_named_entities/htfl_fr_145_seq_terms.tsv: 11 sentences\n",
            "Processed /content/ACTER/fr/htfl/annotated/annotations/sequential_annotations/iob_annotations/without_named_entities/htfl_fr_062_seq_terms.tsv: 6 sentences\n",
            "Processed /content/ACTER/fr/htfl/annotated/annotations/sequential_annotations/iob_annotations/without_named_entities/htfl_fr_103_seq_terms.tsv: 6 sentences\n",
            "Processed /content/ACTER/fr/htfl/annotated/annotations/sequential_annotations/iob_annotations/without_named_entities/htfl_fr_135_seq_terms.tsv: 6 sentences\n",
            "Processed /content/ACTER/fr/htfl/annotated/annotations/sequential_annotations/iob_annotations/without_named_entities/htfl_fr_047_seq_terms.tsv: 20 sentences\n",
            "Processed /content/ACTER/fr/htfl/annotated/annotations/sequential_annotations/iob_annotations/without_named_entities/htfl_fr_053_seq_terms.tsv: 11 sentences\n",
            "Processed /content/ACTER/fr/htfl/annotated/annotations/sequential_annotations/iob_annotations/without_named_entities/htfl_fr_123_seq_terms.tsv: 9 sentences\n",
            "Processed /content/ACTER/fr/htfl/annotated/annotations/sequential_annotations/iob_annotations/without_named_entities/htfl_fr_105_seq_terms.tsv: 8 sentences\n",
            "Processed /content/ACTER/fr/htfl/annotated/annotations/sequential_annotations/iob_annotations/without_named_entities/htfl_fr_079_seq_terms.tsv: 17 sentences\n",
            "Processed /content/ACTER/fr/htfl/annotated/annotations/sequential_annotations/iob_annotations/without_named_entities/htfl_fr_014_seq_terms.tsv: 9 sentences\n",
            "Processed /content/ACTER/fr/htfl/annotated/annotations/sequential_annotations/iob_annotations/without_named_entities/htfl_fr_173_seq_terms.tsv: 10 sentences\n",
            "Processed /content/ACTER/fr/htfl/annotated/annotations/sequential_annotations/iob_annotations/without_named_entities/htfl_fr_196_seq_terms.tsv: 18 sentences\n",
            "Processed /content/ACTER/fr/htfl/annotated/annotations/sequential_annotations/iob_annotations/without_named_entities/htfl_fr_003_seq_terms.tsv: 10 sentences\n",
            "Processed /content/ACTER/fr/htfl/annotated/annotations/sequential_annotations/iob_annotations/without_named_entities/htfl_fr_204_seq_terms.tsv: 15 sentences\n",
            "Processed /content/ACTER/fr/htfl/annotated/annotations/sequential_annotations/iob_annotations/without_named_entities/htfl_fr_023_seq_terms.tsv: 5 sentences\n",
            "Processed /content/ACTER/fr/htfl/annotated/annotations/sequential_annotations/iob_annotations/without_named_entities/htfl_fr_038_seq_terms.tsv: 7 sentences\n",
            "Processed /content/ACTER/fr/htfl/annotated/annotations/sequential_annotations/iob_annotations/without_named_entities/htfl_fr_202_seq_terms.tsv: 9 sentences\n",
            "Processed /content/ACTER/fr/htfl/annotated/annotations/sequential_annotations/iob_annotations/without_named_entities/htfl_fr_205_seq_terms.tsv: 9 sentences\n",
            "Processed /content/ACTER/fr/htfl/annotated/annotations/sequential_annotations/iob_annotations/without_named_entities/htfl_fr_134_seq_terms.tsv: 13 sentences\n",
            "Processed /content/ACTER/fr/htfl/annotated/annotations/sequential_annotations/iob_annotations/without_named_entities/htfl_fr_059_seq_terms.tsv: 3 sentences\n",
            "Processed /content/ACTER/fr/htfl/annotated/annotations/sequential_annotations/iob_annotations/without_named_entities/htfl_fr_148_seq_terms.tsv: 8 sentences\n",
            "Processed /content/ACTER/fr/htfl/annotated/annotations/sequential_annotations/iob_annotations/without_named_entities/htfl_fr_097_seq_terms.tsv: 10 sentences\n",
            "Processed /content/ACTER/fr/htfl/annotated/annotations/sequential_annotations/iob_annotations/without_named_entities/htfl_fr_158_seq_terms.tsv: 21 sentences\n",
            "Processed /content/ACTER/fr/htfl/annotated/annotations/sequential_annotations/iob_annotations/without_named_entities/htfl_fr_013_seq_terms.tsv: 6 sentences\n",
            "Processed /content/ACTER/fr/htfl/annotated/annotations/sequential_annotations/iob_annotations/without_named_entities/htfl_fr_124_seq_terms.tsv: 6 sentences\n",
            "Processed /content/ACTER/fr/htfl/annotated/annotations/sequential_annotations/iob_annotations/without_named_entities/htfl_fr_151_seq_terms.tsv: 17 sentences\n",
            "Processed /content/ACTER/fr/htfl/annotated/annotations/sequential_annotations/iob_annotations/without_named_entities/htfl_fr_161_seq_terms.tsv: 9 sentences\n",
            "Processed /content/ACTER/fr/htfl/annotated/annotations/sequential_annotations/iob_annotations/without_named_entities/htfl_fr_085_seq_terms.tsv: 10 sentences\n",
            "Processed /content/ACTER/fr/htfl/annotated/annotations/sequential_annotations/iob_annotations/without_named_entities/htfl_fr_090_seq_terms.tsv: 15 sentences\n",
            "Processed /content/ACTER/fr/htfl/annotated/annotations/sequential_annotations/iob_annotations/without_named_entities/htfl_fr_034_seq_terms.tsv: 8 sentences\n",
            "Processed /content/ACTER/fr/htfl/annotated/annotations/sequential_annotations/iob_annotations/without_named_entities/htfl_fr_164_seq_terms.tsv: 8 sentences\n",
            "Processed /content/ACTER/fr/htfl/annotated/annotations/sequential_annotations/iob_annotations/without_named_entities/htfl_fr_043_seq_terms.tsv: 9 sentences\n",
            "Processed /content/ACTER/fr/htfl/annotated/annotations/sequential_annotations/iob_annotations/without_named_entities/htfl_fr_146_seq_terms.tsv: 7 sentences\n",
            "Processed /content/ACTER/fr/htfl/annotated/annotations/sequential_annotations/iob_annotations/without_named_entities/htfl_fr_131_seq_terms.tsv: 7 sentences\n",
            "Processed /content/ACTER/fr/htfl/annotated/annotations/sequential_annotations/iob_annotations/without_named_entities/htfl_fr_137_seq_terms.tsv: 5 sentences\n",
            "Processed /content/ACTER/fr/htfl/annotated/annotations/sequential_annotations/iob_annotations/without_named_entities/htfl_fr_182_seq_terms.tsv: 13 sentences\n",
            "Processed /content/ACTER/fr/htfl/annotated/annotations/sequential_annotations/iob_annotations/without_named_entities/htfl_fr_057_seq_terms.tsv: 8 sentences\n",
            "Processed /content/ACTER/fr/htfl/annotated/annotations/sequential_annotations/iob_annotations/without_named_entities/htfl_fr_063_seq_terms.tsv: 6 sentences\n",
            "Processed /content/ACTER/fr/htfl/annotated/annotations/sequential_annotations/iob_annotations/without_named_entities/htfl_fr_206_seq_terms.tsv: 15 sentences\n",
            "Processed /content/ACTER/fr/htfl/annotated/annotations/sequential_annotations/iob_annotations/without_named_entities/htfl_fr_086_seq_terms.tsv: 11 sentences\n",
            "Processed /content/ACTER/fr/htfl/annotated/annotations/sequential_annotations/iob_annotations/without_named_entities/htfl_fr_143_seq_terms.tsv: 10 sentences\n",
            "Processed /content/ACTER/fr/htfl/annotated/annotations/sequential_annotations/iob_annotations/without_named_entities/htfl_fr_150_seq_terms.tsv: 10 sentences\n",
            "Processed /content/ACTER/fr/htfl/annotated/annotations/sequential_annotations/iob_annotations/without_named_entities/htfl_fr_171_seq_terms.tsv: 5 sentences\n",
            "Processed /content/ACTER/fr/htfl/annotated/annotations/sequential_annotations/iob_annotations/without_named_entities/htfl_fr_071_seq_terms.tsv: 11 sentences\n",
            "Processed /content/ACTER/fr/htfl/annotated/annotations/sequential_annotations/iob_annotations/without_named_entities/htfl_fr_074_seq_terms.tsv: 10 sentences\n",
            "Processed /content/ACTER/fr/htfl/annotated/annotations/sequential_annotations/iob_annotations/without_named_entities/htfl_fr_018_seq_terms.tsv: 7 sentences\n",
            "Processed /content/ACTER/fr/htfl/annotated/annotations/sequential_annotations/iob_annotations/without_named_entities/htfl_fr_191_seq_terms.tsv: 6 sentences\n",
            "Processed /content/ACTER/fr/htfl/annotated/annotations/sequential_annotations/iob_annotations/without_named_entities/htfl_fr_160_seq_terms.tsv: 17 sentences\n",
            "Processed /content/ACTER/fr/htfl/annotated/annotations/sequential_annotations/iob_annotations/without_named_entities/htfl_fr_154_seq_terms.tsv: 12 sentences\n",
            "Processed /content/ACTER/fr/htfl/annotated/annotations/sequential_annotations/iob_annotations/without_named_entities/htfl_fr_168_seq_terms.tsv: 15 sentences\n",
            "Processed /content/ACTER/fr/htfl/annotated/annotations/sequential_annotations/iob_annotations/without_named_entities/htfl_fr_197_seq_terms.tsv: 5 sentences\n",
            "Processed /content/ACTER/fr/htfl/annotated/annotations/sequential_annotations/iob_annotations/without_named_entities/htfl_fr_144_seq_terms.tsv: 8 sentences\n",
            "Processed /content/ACTER/fr/htfl/annotated/annotations/sequential_annotations/iob_annotations/without_named_entities/htfl_fr_207_seq_terms.tsv: 8 sentences\n",
            "Processed /content/ACTER/fr/htfl/annotated/annotations/sequential_annotations/iob_annotations/without_named_entities/htfl_fr_184_seq_terms.tsv: 6 sentences\n",
            "Processed /content/ACTER/fr/htfl/annotated/annotations/sequential_annotations/iob_annotations/without_named_entities/htfl_fr_195_seq_terms.tsv: 8 sentences\n",
            "Processed /content/ACTER/fr/htfl/annotated/annotations/sequential_annotations/iob_annotations/without_named_entities/htfl_fr_058_seq_terms.tsv: 6 sentences\n",
            "Processed /content/ACTER/fr/htfl/annotated/annotations/sequential_annotations/iob_annotations/without_named_entities/htfl_fr_020_seq_terms.tsv: 11 sentences\n",
            "Processed /content/ACTER/fr/htfl/annotated/annotations/sequential_annotations/iob_annotations/without_named_entities/htfl_fr_169_seq_terms.tsv: 13 sentences\n",
            "Processed /content/ACTER/fr/htfl/annotated/annotations/sequential_annotations/iob_annotations/without_named_entities/htfl_fr_136_seq_terms.tsv: 19 sentences\n",
            "Processed /content/ACTER/fr/htfl/annotated/annotations/sequential_annotations/iob_annotations/without_named_entities/htfl_fr_162_seq_terms.tsv: 17 sentences\n",
            "Processed /content/ACTER/fr/htfl/annotated/annotations/sequential_annotations/iob_annotations/without_named_entities/htfl_fr_061_seq_terms.tsv: 6 sentences\n",
            "Processed /content/ACTER/fr/htfl/annotated/annotations/sequential_annotations/iob_annotations/without_named_entities/htfl_fr_153_seq_terms.tsv: 16 sentences\n",
            "Processed /content/ACTER/fr/htfl/annotated/annotations/sequential_annotations/iob_annotations/without_named_entities/htfl_fr_192_seq_terms.tsv: 11 sentences\n",
            "Processed /content/ACTER/fr/htfl/annotated/annotations/sequential_annotations/iob_annotations/without_named_entities/htfl_fr_041_seq_terms.tsv: 11 sentences\n",
            "Processed /content/ACTER/fr/htfl/annotated/annotations/sequential_annotations/iob_annotations/without_named_entities/htfl_fr_077_seq_terms.tsv: 15 sentences\n",
            "Processed /content/ACTER/fr/htfl/annotated/annotations/sequential_annotations/iob_annotations/without_named_entities/htfl_fr_109_seq_terms.tsv: 13 sentences\n",
            "Processed /content/ACTER/fr/htfl/annotated/annotations/sequential_annotations/iob_annotations/without_named_entities/htfl_fr_177_seq_terms.tsv: 15 sentences\n",
            "Processed /content/ACTER/fr/htfl/annotated/annotations/sequential_annotations/iob_annotations/without_named_entities/htfl_fr_029_seq_terms.tsv: 10 sentences\n",
            "Processed /content/ACTER/fr/htfl/annotated/annotations/sequential_annotations/iob_annotations/without_named_entities/htfl_fr_187_seq_terms.tsv: 8 sentences\n",
            "Processed /content/ACTER/fr/htfl/annotated/annotations/sequential_annotations/iob_annotations/without_named_entities/htfl_fr_149_seq_terms.tsv: 17 sentences\n",
            "Processed /content/ACTER/fr/htfl/annotated/annotations/sequential_annotations/iob_annotations/without_named_entities/htfl_fr_030_seq_terms.tsv: 7 sentences\n",
            "Processed /content/ACTER/fr/htfl/annotated/annotations/sequential_annotations/iob_annotations/without_named_entities/htfl_fr_116_seq_terms.tsv: 10 sentences\n",
            "Processed /content/ACTER/fr/htfl/annotated/annotations/sequential_annotations/iob_annotations/without_named_entities/htfl_fr_110_seq_terms.tsv: 9 sentences\n",
            "Processed /content/ACTER/fr/htfl/annotated/annotations/sequential_annotations/iob_annotations/without_named_entities/htfl_fr_181_seq_terms.tsv: 13 sentences\n",
            "Processed /content/ACTER/fr/htfl/annotated/annotations/sequential_annotations/iob_annotations/without_named_entities/htfl_fr_005_seq_terms.tsv: 8 sentences\n",
            "Processed /content/ACTER/fr/htfl/annotated/annotations/sequential_annotations/iob_annotations/without_named_entities/htfl_fr_092_seq_terms.tsv: 9 sentences\n",
            "Processed /content/ACTER/fr/htfl/annotated/annotations/sequential_annotations/iob_annotations/without_named_entities/htfl_fr_024_seq_terms.tsv: 14 sentences\n",
            "Processed /content/ACTER/fr/htfl/annotated/annotations/sequential_annotations/iob_annotations/without_named_entities/htfl_fr_068_seq_terms.tsv: 7 sentences\n",
            "Processed /content/ACTER/fr/htfl/annotated/annotations/sequential_annotations/iob_annotations/without_named_entities/htfl_fr_159_seq_terms.tsv: 7 sentences\n",
            "Processed /content/ACTER/fr/htfl/annotated/annotations/sequential_annotations/iob_annotations/without_named_entities/htfl_fr_130_seq_terms.tsv: 15 sentences\n",
            "Processed /content/ACTER/fr/htfl/annotated/annotations/sequential_annotations/iob_annotations/without_named_entities/htfl_fr_002_seq_terms.tsv: 19 sentences\n",
            "Processed /content/ACTER/fr/htfl/annotated/annotations/sequential_annotations/iob_annotations/without_named_entities/htfl_fr_050_seq_terms.tsv: 11 sentences\n",
            "\n",
            "Processing directory: /content/ACTER/fr/wind/annotated/annotations/sequential_annotations/iob_annotations/without_named_entities\n",
            "Processed /content/ACTER/fr/wind/annotated/annotations/sequential_annotations/iob_annotations/without_named_entities/wind_fr_06_seq_terms.tsv: 4579 sentences\n",
            "Processed /content/ACTER/fr/wind/annotated/annotations/sequential_annotations/iob_annotations/without_named_entities/wind_fr_10_seq_terms.tsv: 191 sentences\n",
            "\n",
            "Total sentences collected: 25895\n",
            "\n",
            "Split sizes:\n",
            "Train: 20716 sentences\n",
            "Validation: 0 sentences\n",
            "Test: 5179 sentences\n",
            "\n",
            "Writing output files...\n",
            "\n",
            "Dataset preparation completed!\n"
          ]
        }
      ]
    },
    {
      "cell_type": "code",
      "source": [
        "!spacy convert --converter iob train_full.tsv output && \\\n",
        "  spacy convert --converter iob test_full.tsv output\n"
      ],
      "metadata": {
        "colab": {
          "base_uri": "https://localhost:8080/"
        },
        "id": "K52AmYesowiq",
        "outputId": "02afc4bf-52ac-4447-ee3b-d7586cbf3e9a"
      },
      "execution_count": 9,
      "outputs": [
        {
          "output_type": "stream",
          "name": "stdout",
          "text": [
            "\u001b[38;5;4mℹ Auto-detected token-per-line NER format\u001b[0m\n",
            "\u001b[38;5;4mℹ Grouping every 1 sentences into a document.\u001b[0m\n",
            "\u001b[38;5;3m⚠ To generate better training data, you may want to group sentences\n",
            "into documents with `-n 10`.\u001b[0m\n",
            "\u001b[38;5;2m✔ Generated output file (20716 documents): output/train_full.spacy\u001b[0m\n",
            "\u001b[38;5;4mℹ Auto-detected token-per-line NER format\u001b[0m\n",
            "\u001b[38;5;4mℹ Grouping every 1 sentences into a document.\u001b[0m\n",
            "\u001b[38;5;3m⚠ To generate better training data, you may want to group sentences\n",
            "into documents with `-n 10`.\u001b[0m\n",
            "\u001b[38;5;2m✔ Generated output file (5179 documents): output/test_full.spacy\u001b[0m\n"
          ]
        }
      ]
    },
    {
      "cell_type": "code",
      "source": [
        "!mkdir input_data && \\\n",
        "  mv output/train_full.spacy input_data/train_full.spacy && \\\n",
        "  mv output/test_full.spacy input_data/test_full.spacy && \\\n",
        "  mkdir /drive/MyDrive/ucu/ner/output"
      ],
      "metadata": {
        "id": "MW4g58A-pgXk",
        "outputId": "ae10bffc-c053-468b-8578-f0d1d21c325e",
        "colab": {
          "base_uri": "https://localhost:8080/"
        }
      },
      "execution_count": 10,
      "outputs": [
        {
          "output_type": "stream",
          "name": "stdout",
          "text": [
            "mkdir: cannot create directory ‘/drive/MyDrive/ucu/ner/output’: No such file or directory\n"
          ]
        }
      ]
    },
    {
      "cell_type": "code",
      "source": [
        "!pip install 'spacy[transformers]' -q"
      ],
      "metadata": {
        "collapsed": true,
        "id": "hhr_t0BEp5Qs",
        "outputId": "f58bb448-02a0-49ad-88db-638e5e69a6fc",
        "colab": {
          "base_uri": "https://localhost:8080/"
        }
      },
      "execution_count": 11,
      "outputs": [
        {
          "output_type": "stream",
          "name": "stdout",
          "text": [
            "\u001b[2K     \u001b[90m━━━━━━━━━━━━━━━━━━━━━━━━━━━━━━━━━━━━━━━━\u001b[0m \u001b[32m44.0/44.0 kB\u001b[0m \u001b[31m2.7 MB/s\u001b[0m eta \u001b[36m0:00:00\u001b[0m\n",
            "\u001b[2K   \u001b[90m━━━━━━━━━━━━━━━━━━━━━━━━━━━━━━━━━━━━━━━━\u001b[0m \u001b[32m756.2/756.2 kB\u001b[0m \u001b[31m21.3 MB/s\u001b[0m eta \u001b[36m0:00:00\u001b[0m\n",
            "\u001b[2K   \u001b[90m━━━━━━━━━━━━━━━━━━━━━━━━━━━━━━━━━━━━━━━━\u001b[0m \u001b[32m314.0/314.0 kB\u001b[0m \u001b[31m29.1 MB/s\u001b[0m eta \u001b[36m0:00:00\u001b[0m\n",
            "\u001b[2K   \u001b[90m━━━━━━━━━━━━━━━━━━━━━━━━━━━━━━━━━━━━━━━━\u001b[0m \u001b[32m363.4/363.4 MB\u001b[0m \u001b[31m2.9 MB/s\u001b[0m eta \u001b[36m0:00:00\u001b[0m\n",
            "\u001b[2K   \u001b[90m━━━━━━━━━━━━━━━━━━━━━━━━━━━━━━━━━━━━━━━━\u001b[0m \u001b[32m13.8/13.8 MB\u001b[0m \u001b[31m105.2 MB/s\u001b[0m eta \u001b[36m0:00:00\u001b[0m\n",
            "\u001b[2K   \u001b[90m━━━━━━━━━━━━━━━━━━━━━━━━━━━━━━━━━━━━━━━━\u001b[0m \u001b[32m24.6/24.6 MB\u001b[0m \u001b[31m84.3 MB/s\u001b[0m eta \u001b[36m0:00:00\u001b[0m\n",
            "\u001b[2K   \u001b[90m━━━━━━━━━━━━━━━━━━━━━━━━━━━━━━━━━━━━━━━━\u001b[0m \u001b[32m883.7/883.7 kB\u001b[0m \u001b[31m57.0 MB/s\u001b[0m eta \u001b[36m0:00:00\u001b[0m\n",
            "\u001b[2K   \u001b[90m━━━━━━━━━━━━━━━━━━━━━━━━━━━━━━━━━━━━━━━━\u001b[0m \u001b[32m664.8/664.8 MB\u001b[0m \u001b[31m2.1 MB/s\u001b[0m eta \u001b[36m0:00:00\u001b[0m\n",
            "\u001b[2K   \u001b[90m━━━━━━━━━━━━━━━━━━━━━━━━━━━━━━━━━━━━━━━━\u001b[0m \u001b[32m211.5/211.5 MB\u001b[0m \u001b[31m5.9 MB/s\u001b[0m eta \u001b[36m0:00:00\u001b[0m\n",
            "\u001b[2K   \u001b[90m━━━━━━━━━━━━━━━━━━━━━━━━━━━━━━━━━━━━━━━━\u001b[0m \u001b[32m56.3/56.3 MB\u001b[0m \u001b[31m40.7 MB/s\u001b[0m eta \u001b[36m0:00:00\u001b[0m\n",
            "\u001b[2K   \u001b[90m━━━━━━━━━━━━━━━━━━━━━━━━━━━━━━━━━━━━━━━━\u001b[0m \u001b[32m127.9/127.9 MB\u001b[0m \u001b[31m18.8 MB/s\u001b[0m eta \u001b[36m0:00:00\u001b[0m\n",
            "\u001b[2K   \u001b[90m━━━━━━━━━━━━━━━━━━━━━━━━━━━━━━━━━━━━━━━━\u001b[0m \u001b[32m207.5/207.5 MB\u001b[0m \u001b[31m3.8 MB/s\u001b[0m eta \u001b[36m0:00:00\u001b[0m\n",
            "\u001b[2K   \u001b[90m━━━━━━━━━━━━━━━━━━━━━━━━━━━━━━━━━━━━━━━━\u001b[0m \u001b[32m21.1/21.1 MB\u001b[0m \u001b[31m94.0 MB/s\u001b[0m eta \u001b[36m0:00:00\u001b[0m\n",
            "\u001b[2K   \u001b[90m━━━━━━━━━━━━━━━━━━━━━━━━━━━━━━━━━━━━━━━━\u001b[0m \u001b[32m10.0/10.0 MB\u001b[0m \u001b[31m124.5 MB/s\u001b[0m eta \u001b[36m0:00:00\u001b[0m\n",
            "\u001b[?25h"
          ]
        }
      ]
    },
    {
      "cell_type": "code",
      "source": [
        "!spacy train configs/config_base.cfg --gpu-id 0 --output /drive/MyDrive/ucu/ner/output"
      ],
      "metadata": {
        "colab": {
          "base_uri": "https://localhost:8080/"
        },
        "id": "ZaYbLOFUoqhx",
        "outputId": "0d987be2-69c3-4d17-d940-7d0562f52af7"
      },
      "execution_count": null,
      "outputs": [
        {
          "output_type": "stream",
          "name": "stdout",
          "text": [
            "\u001b[38;5;2m✔ Created output directory: /drive/MyDrive/ucu/ner/output\u001b[0m\n",
            "\u001b[38;5;4mℹ Saving to output directory: /drive/MyDrive/ucu/ner/output\u001b[0m\n",
            "\u001b[38;5;4mℹ Using GPU: 0\u001b[0m\n",
            "\u001b[1m\n",
            "=========================== Initializing pipeline ===========================\u001b[0m\n",
            "tokenizer_config.json: 100% 25.0/25.0 [00:00<00:00, 178kB/s]\n",
            "config.json: 100% 482/482 [00:00<00:00, 3.73MB/s]\n",
            "vocab.json: 100% 899k/899k [00:00<00:00, 7.48MB/s]\n",
            "merges.txt: 100% 456k/456k [00:00<00:00, 3.72MB/s]\n",
            "tokenizer.json: 100% 1.36M/1.36M [00:00<00:00, 9.51MB/s]\n",
            "2025-04-02 12:56:27.500738: I tensorflow/core/util/port.cc:153] oneDNN custom operations are on. You may see slightly different numerical results due to floating-point round-off errors from different computation orders. To turn them off, set the environment variable `TF_ENABLE_ONEDNN_OPTS=0`.\n",
            "2025-04-02 12:56:27.521883: E external/local_xla/xla/stream_executor/cuda/cuda_fft.cc:477] Unable to register cuFFT factory: Attempting to register factory for plugin cuFFT when one has already been registered\n",
            "WARNING: All log messages before absl::InitializeLog() is called are written to STDERR\n",
            "E0000 00:00:1743598587.545596    1955 cuda_dnn.cc:8310] Unable to register cuDNN factory: Attempting to register factory for plugin cuDNN when one has already been registered\n",
            "E0000 00:00:1743598587.552771    1955 cuda_blas.cc:1418] Unable to register cuBLAS factory: Attempting to register factory for plugin cuBLAS when one has already been registered\n",
            "2025-04-02 12:56:27.577650: I tensorflow/core/platform/cpu_feature_guard.cc:210] This TensorFlow binary is optimized to use available CPU instructions in performance-critical operations.\n",
            "To enable the following instructions: AVX2 AVX512F AVX512_VNNI FMA, in other operations, rebuild TensorFlow with the appropriate compiler flags.\n",
            "model.safetensors: 100% 1.42G/1.42G [00:07<00:00, 183MB/s]\n",
            "Some weights of RobertaModel were not initialized from the model checkpoint at FacebookAI/roberta-large and are newly initialized: ['roberta.pooler.dense.bias', 'roberta.pooler.dense.weight']\n",
            "You should probably TRAIN this model on a down-stream task to be able to use it for predictions and inference.\n",
            "\u001b[38;5;2m✔ Initialized pipeline\u001b[0m\n",
            "\u001b[1m\n",
            "============================= Training pipeline =============================\u001b[0m\n",
            "\u001b[38;5;4mℹ Pipeline: ['transformer', 'ner']\u001b[0m\n",
            "\u001b[38;5;4mℹ Initial learn rate: 1e-05\u001b[0m\n",
            "E    #       LOSS TRANS...  LOSS NER  ENTS_F  ENTS_P  ENTS_R  SCORE \n",
            "---  ------  -------------  --------  ------  ------  ------  ------\n",
            "  0       0         199.92    398.91   13.47    7.49   67.03    0.13\n",
            "  0     200       12382.78  27092.43   74.64   75.66   73.64    0.75\n",
            "  1     400        5975.11  12850.48   81.20   83.47   79.05    0.81\n",
            "  1     600        4601.62   9875.18   83.71   82.49   84.96    0.84\n",
            "  2     800        3771.09   8176.58   85.27   84.71   85.84    0.85\n"
          ]
        }
      ]
    },
    {
      "cell_type": "code",
      "source": [
        "from google.colab import runtime\n",
        "runtime.unassign()"
      ],
      "metadata": {
        "id": "xEdymJL1j5h4"
      },
      "execution_count": null,
      "outputs": []
    }
  ]
}