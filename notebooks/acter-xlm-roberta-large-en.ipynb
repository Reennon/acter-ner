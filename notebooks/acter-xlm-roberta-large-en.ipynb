{
 "nbformat": 4,
 "nbformat_minor": 0,
 "metadata": {
  "colab": {
   "provenance": [],
   "machine_shape": "hm",
   "gpuType": "L4",
   "include_colab_link": true
  },
  "kernelspec": {
   "name": "python3",
   "display_name": "Python 3"
  },
  "language_info": {
   "name": "python"
  },
  "accelerator": "GPU"
 },
 "cells": [
  {
   "cell_type": "markdown",
   "metadata": {
    "id": "view-in-github",
    "colab_type": "text"
   },
   "source": [
    "<a href=\"https://colab.research.google.com/github/Reennon/acter-ner/blob/main/notebooks/acter-xlm-roberta-large-en.ipynb\" target=\"_parent\"><img src=\"https://colab.research.google.com/assets/colab-badge.svg\" alt=\"Open In Colab\"/></a>"
   ]
  },
  {
   "cell_type": "code",
   "execution_count": 1,
   "metadata": {
    "colab": {
     "base_uri": "https://localhost:8080/"
    },
    "id": "b5X8eBFzlToi",
    "outputId": "6c99bd0d-b714-4a41-e409-77f556345853"
   },
   "outputs": [
    {
     "output_type": "stream",
     "name": "stdout",
     "text": [
      "Cloning into 'acter-ner'...\n",
      "remote: Enumerating objects: 102, done.\u001B[K\n",
      "remote: Counting objects: 100% (102/102), done.\u001B[K\n",
      "remote: Compressing objects: 100% (81/81), done.\u001B[K\n",
      "remote: Total 102 (delta 53), reused 53 (delta 19), pack-reused 0 (from 0)\u001B[K\n",
      "Receiving objects: 100% (102/102), 2.34 MiB | 27.83 MiB/s, done.\n",
      "Resolving deltas: 100% (53/53), done.\n"
     ]
    }
   ],
   "source": [
    "!git clone https://github.com/Reennon/acter-ner"
   ]
  },
  {
   "cell_type": "code",
   "source": [
    "!git clone https://github.com/AylaRT/ACTER"
   ],
   "metadata": {
    "colab": {
     "base_uri": "https://localhost:8080/"
    },
    "id": "anL-YTxVlmw4",
    "outputId": "afbea515-8d31-485b-f956-ac7b37610aa2"
   },
   "execution_count": 2,
   "outputs": [
    {
     "output_type": "stream",
     "name": "stdout",
     "text": [
      "Cloning into 'ACTER'...\n",
      "remote: Enumerating objects: 5448, done.\u001B[K\n",
      "remote: Counting objects: 100% (5448/5448), done.\u001B[K\n",
      "remote: Compressing objects: 100% (3304/3304), done.\u001B[K\n",
      "remote: Total 5448 (delta 2684), reused 4893 (delta 2132), pack-reused 0 (from 0)\u001B[K\n",
      "Receiving objects: 100% (5448/5448), 11.90 MiB | 16.83 MiB/s, done.\n",
      "Resolving deltas: 100% (2684/2684), done.\n"
     ]
    }
   ]
  },
  {
   "cell_type": "code",
   "source": [
    "%cd /content/ACTER"
   ],
   "metadata": {
    "colab": {
     "base_uri": "https://localhost:8080/"
    },
    "id": "IfCPdbitmcnO",
    "outputId": "64ef0059-2343-4332-84e1-83f5481690ad"
   },
   "execution_count": 3,
   "outputs": [
    {
     "output_type": "stream",
     "name": "stdout",
     "text": [
      "/content/ACTER\n"
     ]
    }
   ]
  },
  {
   "cell_type": "code",
   "source": [
    "%cd /content/acter-ner/term_extractor"
   ],
   "metadata": {
    "colab": {
     "base_uri": "https://localhost:8080/"
    },
    "id": "U0nNt6v-mJi-",
    "outputId": "0344a396-b7f9-4ab2-bbde-bef78806d658"
   },
   "execution_count": 4,
   "outputs": [
    {
     "output_type": "stream",
     "name": "stdout",
     "text": [
      "/content/acter-ner/term_extractor\n"
     ]
    }
   ]
  },
  {
   "cell_type": "code",
   "source": [
    "ls"
   ],
   "metadata": {
    "colab": {
     "base_uri": "https://localhost:8080/"
    },
    "id": "tKm-vAEvmQW9",
    "outputId": "f9f178dd-afe5-4d2a-d139-c8565165d3c6"
   },
   "execution_count": 5,
   "outputs": [
    {
     "output_type": "stream",
     "name": "stdout",
     "text": [
      "combine_corpora-en-fr-nl.sh  \u001B[0m\u001B[01;34mconfigs\u001B[0m/              preprocess_acter.py  train_model.py\n",
      "combine_corpora-en-fr.sh     dataset_processor.py  test_full.tsv        train_spacy_model.py\n",
      "combine_corpora.sh           \u001B[01;34moutput\u001B[0m/               train_full.tsv       Untitled.ipynb\n"
     ]
    }
   ]
  },
  {
   "cell_type": "code",
   "source": [
    "from google.colab import drive\n",
    "drive.mount('/content/drive/')"
   ],
   "metadata": {
    "id": "6H1zKnTuxP2G",
    "outputId": "0b371ba5-c6c9-4656-cd35-f1d510fefb74",
    "colab": {
     "base_uri": "https://localhost:8080/"
    }
   },
   "execution_count": 7,
   "outputs": [
    {
     "output_type": "stream",
     "name": "stdout",
     "text": [
      "Mounted at /content/drive/\n"
     ]
    }
   ]
  },
  {
   "cell_type": "code",
   "source": [
    "!git checkout main"
   ],
   "metadata": {
    "colab": {
     "base_uri": "https://localhost:8080/"
    },
    "id": "b-6rpUVOol5A",
    "outputId": "e951b2c5-1907-47ee-84e8-3bef2c5faa25"
   },
   "execution_count": 8,
   "outputs": [
    {
     "output_type": "stream",
     "name": "stdout",
     "text": [
      "Already on 'main'\n",
      "Your branch is up to date with 'origin/main'.\n"
     ]
    }
   ]
  },
  {
   "cell_type": "code",
   "source": [
    "!bash combine_corpora.sh"
   ],
   "metadata": {
    "id": "1WlGm-kRl9tu",
    "outputId": "9c5d42f2-4efc-4aa4-9e77-383dae0425a5",
    "colab": {
     "base_uri": "https://localhost:8080/"
    }
   },
   "execution_count": 9,
   "outputs": [
    {
     "output_type": "stream",
     "name": "stdout",
     "text": [
      "\n",
      "Processing directory: /content/ACTER/en/corp/annotated/annotations/sequential_annotations/iob_annotations/without_named_entities\n",
      "Processed /content/ACTER/en/corp/annotated/annotations/sequential_annotations/iob_annotations/without_named_entities/corp_en_08_seq_terms.tsv: 163 sentences\n",
      "Processed /content/ACTER/en/corp/annotated/annotations/sequential_annotations/iob_annotations/without_named_entities/corp_en_12_seq_terms.tsv: 278 sentences\n",
      "Processed /content/ACTER/en/corp/annotated/annotations/sequential_annotations/iob_annotations/without_named_entities/corp_en_06_seq_terms.tsv: 364 sentences\n",
      "Processed /content/ACTER/en/corp/annotated/annotations/sequential_annotations/iob_annotations/without_named_entities/corp_en_07_seq_terms.tsv: 334 sentences\n",
      "Processed /content/ACTER/en/corp/annotated/annotations/sequential_annotations/iob_annotations/without_named_entities/corp_en_19_seq_terms.tsv: 56 sentences\n",
      "Processed /content/ACTER/en/corp/annotated/annotations/sequential_annotations/iob_annotations/without_named_entities/corp_en_09_seq_terms.tsv: 107 sentences\n",
      "Processed /content/ACTER/en/corp/annotated/annotations/sequential_annotations/iob_annotations/without_named_entities/corp_en_04_seq_terms.tsv: 62 sentences\n",
      "Processed /content/ACTER/en/corp/annotated/annotations/sequential_annotations/iob_annotations/without_named_entities/corp_en_11_seq_terms.tsv: 273 sentences\n",
      "Processed /content/ACTER/en/corp/annotated/annotations/sequential_annotations/iob_annotations/without_named_entities/corp_en_01_seq_terms.tsv: 227 sentences\n",
      "Processed /content/ACTER/en/corp/annotated/annotations/sequential_annotations/iob_annotations/without_named_entities/corp_en_02_seq_terms.tsv: 59 sentences\n",
      "Processed /content/ACTER/en/corp/annotated/annotations/sequential_annotations/iob_annotations/without_named_entities/corp_en_05_seq_terms.tsv: 51 sentences\n",
      "Processed /content/ACTER/en/corp/annotated/annotations/sequential_annotations/iob_annotations/without_named_entities/corp_en_10_seq_terms.tsv: 28 sentences\n",
      "\n",
      "Processing directory: /content/ACTER/en/equi/annotated/annotations/sequential_annotations/iob_annotations/without_named_entities\n",
      "Processed /content/ACTER/en/equi/annotated/annotations/sequential_annotations/iob_annotations/without_named_entities/equi_en_032_seq_terms.tsv: 54 sentences\n",
      "Processed /content/ACTER/en/equi/annotated/annotations/sequential_annotations/iob_annotations/without_named_entities/equi_en_020_seq_terms.tsv: 30 sentences\n",
      "Processed /content/ACTER/en/equi/annotated/annotations/sequential_annotations/iob_annotations/without_named_entities/equi_en_002_seq_terms.tsv: 265 sentences\n",
      "Processed /content/ACTER/en/equi/annotated/annotations/sequential_annotations/iob_annotations/without_named_entities/equi_en_026_seq_terms.tsv: 149 sentences\n",
      "Processed /content/ACTER/en/equi/annotated/annotations/sequential_annotations/iob_annotations/without_named_entities/equi_en_033_seq_terms.tsv: 180 sentences\n",
      "Processed /content/ACTER/en/equi/annotated/annotations/sequential_annotations/iob_annotations/without_named_entities/equi_en_012_seq_terms.tsv: 37 sentences\n",
      "Processed /content/ACTER/en/equi/annotated/annotations/sequential_annotations/iob_annotations/without_named_entities/equi_en_004_seq_terms.tsv: 41 sentences\n",
      "Processed /content/ACTER/en/equi/annotated/annotations/sequential_annotations/iob_annotations/without_named_entities/equi_en_024_seq_terms.tsv: 19 sentences\n",
      "Processed /content/ACTER/en/equi/annotated/annotations/sequential_annotations/iob_annotations/without_named_entities/equi_en_018_seq_terms.tsv: 8 sentences\n",
      "Processed /content/ACTER/en/equi/annotated/annotations/sequential_annotations/iob_annotations/without_named_entities/equi_en_014_seq_terms.tsv: 67 sentences\n",
      "Processed /content/ACTER/en/equi/annotated/annotations/sequential_annotations/iob_annotations/without_named_entities/equi_en_017_seq_terms.tsv: 57 sentences\n",
      "Processed /content/ACTER/en/equi/annotated/annotations/sequential_annotations/iob_annotations/without_named_entities/equi_en_027_seq_terms.tsv: 46 sentences\n",
      "Processed /content/ACTER/en/equi/annotated/annotations/sequential_annotations/iob_annotations/without_named_entities/equi_en_011_seq_terms.tsv: 45 sentences\n",
      "Processed /content/ACTER/en/equi/annotated/annotations/sequential_annotations/iob_annotations/without_named_entities/equi_en_007_seq_terms.tsv: 28 sentences\n",
      "Processed /content/ACTER/en/equi/annotated/annotations/sequential_annotations/iob_annotations/without_named_entities/equi_en_022_seq_terms.tsv: 22 sentences\n",
      "Processed /content/ACTER/en/equi/annotated/annotations/sequential_annotations/iob_annotations/without_named_entities/equi_en_013_seq_terms.tsv: 74 sentences\n",
      "Processed /content/ACTER/en/equi/annotated/annotations/sequential_annotations/iob_annotations/without_named_entities/equi_en_015_seq_terms.tsv: 36 sentences\n",
      "Processed /content/ACTER/en/equi/annotated/annotations/sequential_annotations/iob_annotations/without_named_entities/equi_en_025_seq_terms.tsv: 97 sentences\n",
      "Processed /content/ACTER/en/equi/annotated/annotations/sequential_annotations/iob_annotations/without_named_entities/equi_en_006_seq_terms.tsv: 9 sentences\n",
      "Processed /content/ACTER/en/equi/annotated/annotations/sequential_annotations/iob_annotations/without_named_entities/equi_en_016_seq_terms.tsv: 88 sentences\n",
      "Processed /content/ACTER/en/equi/annotated/annotations/sequential_annotations/iob_annotations/without_named_entities/equi_en_029_seq_terms.tsv: 316 sentences\n",
      "Processed /content/ACTER/en/equi/annotated/annotations/sequential_annotations/iob_annotations/without_named_entities/equi_en_023_seq_terms.tsv: 104 sentences\n",
      "Processed /content/ACTER/en/equi/annotated/annotations/sequential_annotations/iob_annotations/without_named_entities/equi_en_009_seq_terms.tsv: 26 sentences\n",
      "Processed /content/ACTER/en/equi/annotated/annotations/sequential_annotations/iob_annotations/without_named_entities/equi_en_028_seq_terms.tsv: 70 sentences\n",
      "Processed /content/ACTER/en/equi/annotated/annotations/sequential_annotations/iob_annotations/without_named_entities/equi_en_005_seq_terms.tsv: 24 sentences\n",
      "Processed /content/ACTER/en/equi/annotated/annotations/sequential_annotations/iob_annotations/without_named_entities/equi_en_010_seq_terms.tsv: 126 sentences\n",
      "Processed /content/ACTER/en/equi/annotated/annotations/sequential_annotations/iob_annotations/without_named_entities/equi_en_001_seq_terms.tsv: 304 sentences\n",
      "Processed /content/ACTER/en/equi/annotated/annotations/sequential_annotations/iob_annotations/without_named_entities/equi_en_008_seq_terms.tsv: 101 sentences\n",
      "Processed /content/ACTER/en/equi/annotated/annotations/sequential_annotations/iob_annotations/without_named_entities/equi_en_030_seq_terms.tsv: 173 sentences\n",
      "Processed /content/ACTER/en/equi/annotated/annotations/sequential_annotations/iob_annotations/without_named_entities/equi_en_034_seq_terms.tsv: 175 sentences\n",
      "Processed /content/ACTER/en/equi/annotated/annotations/sequential_annotations/iob_annotations/without_named_entities/equi_en_019_seq_terms.tsv: 65 sentences\n",
      "Processed /content/ACTER/en/equi/annotated/annotations/sequential_annotations/iob_annotations/without_named_entities/equi_en_021_seq_terms.tsv: 144 sentences\n",
      "Processed /content/ACTER/en/equi/annotated/annotations/sequential_annotations/iob_annotations/without_named_entities/equi_en_031_seq_terms.tsv: 36 sentences\n",
      "Processed /content/ACTER/en/equi/annotated/annotations/sequential_annotations/iob_annotations/without_named_entities/equi_en_003_seq_terms.tsv: 74 sentences\n",
      "\n",
      "Processing directory: /content/ACTER/en/htfl/annotated/annotations/sequential_annotations/iob_annotations/without_named_entities\n",
      "Processed /content/ACTER/en/htfl/annotated/annotations/sequential_annotations/iob_annotations/without_named_entities/htfl_en_079_seq_terms.tsv: 13 sentences\n",
      "Processed /content/ACTER/en/htfl/annotated/annotations/sequential_annotations/iob_annotations/without_named_entities/htfl_en_163_seq_terms.tsv: 17 sentences\n",
      "Processed /content/ACTER/en/htfl/annotated/annotations/sequential_annotations/iob_annotations/without_named_entities/htfl_en_161_seq_terms.tsv: 12 sentences\n",
      "Processed /content/ACTER/en/htfl/annotated/annotations/sequential_annotations/iob_annotations/without_named_entities/htfl_en_133_seq_terms.tsv: 9 sentences\n",
      "Processed /content/ACTER/en/htfl/annotated/annotations/sequential_annotations/iob_annotations/without_named_entities/htfl_en_013_seq_terms.tsv: 9 sentences\n",
      "Processed /content/ACTER/en/htfl/annotated/annotations/sequential_annotations/iob_annotations/without_named_entities/htfl_en_027_seq_terms.tsv: 15 sentences\n",
      "Processed /content/ACTER/en/htfl/annotated/annotations/sequential_annotations/iob_annotations/without_named_entities/htfl_en_174_seq_terms.tsv: 9 sentences\n",
      "Processed /content/ACTER/en/htfl/annotated/annotations/sequential_annotations/iob_annotations/without_named_entities/htfl_en_118_seq_terms.tsv: 14 sentences\n",
      "Processed /content/ACTER/en/htfl/annotated/annotations/sequential_annotations/iob_annotations/without_named_entities/htfl_en_186_seq_terms.tsv: 10 sentences\n",
      "Processed /content/ACTER/en/htfl/annotated/annotations/sequential_annotations/iob_annotations/without_named_entities/htfl_en_088_seq_terms.tsv: 20 sentences\n",
      "Processed /content/ACTER/en/htfl/annotated/annotations/sequential_annotations/iob_annotations/without_named_entities/htfl_en_080_seq_terms.tsv: 11 sentences\n",
      "Processed /content/ACTER/en/htfl/annotated/annotations/sequential_annotations/iob_annotations/without_named_entities/htfl_en_047_seq_terms.tsv: 18 sentences\n",
      "Processed /content/ACTER/en/htfl/annotated/annotations/sequential_annotations/iob_annotations/without_named_entities/htfl_en_112_seq_terms.tsv: 6 sentences\n",
      "Processed /content/ACTER/en/htfl/annotated/annotations/sequential_annotations/iob_annotations/without_named_entities/htfl_en_083_seq_terms.tsv: 3 sentences\n",
      "Processed /content/ACTER/en/htfl/annotated/annotations/sequential_annotations/iob_annotations/without_named_entities/htfl_en_031_seq_terms.tsv: 12 sentences\n",
      "Processed /content/ACTER/en/htfl/annotated/annotations/sequential_annotations/iob_annotations/without_named_entities/htfl_en_078_seq_terms.tsv: 18 sentences\n",
      "Processed /content/ACTER/en/htfl/annotated/annotations/sequential_annotations/iob_annotations/without_named_entities/htfl_en_117_seq_terms.tsv: 14 sentences\n",
      "Processed /content/ACTER/en/htfl/annotated/annotations/sequential_annotations/iob_annotations/without_named_entities/htfl_en_059_seq_terms.tsv: 7 sentences\n",
      "Processed /content/ACTER/en/htfl/annotated/annotations/sequential_annotations/iob_annotations/without_named_entities/htfl_en_156_seq_terms.tsv: 7 sentences\n",
      "Processed /content/ACTER/en/htfl/annotated/annotations/sequential_annotations/iob_annotations/without_named_entities/htfl_en_046_seq_terms.tsv: 13 sentences\n",
      "Processed /content/ACTER/en/htfl/annotated/annotations/sequential_annotations/iob_annotations/without_named_entities/htfl_en_125_seq_terms.tsv: 14 sentences\n",
      "Processed /content/ACTER/en/htfl/annotated/annotations/sequential_annotations/iob_annotations/without_named_entities/htfl_en_109_seq_terms.tsv: 17 sentences\n",
      "Processed /content/ACTER/en/htfl/annotated/annotations/sequential_annotations/iob_annotations/without_named_entities/htfl_en_061_seq_terms.tsv: 7 sentences\n",
      "Processed /content/ACTER/en/htfl/annotated/annotations/sequential_annotations/iob_annotations/without_named_entities/htfl_en_021_seq_terms.tsv: 6 sentences\n",
      "Processed /content/ACTER/en/htfl/annotated/annotations/sequential_annotations/iob_annotations/without_named_entities/htfl_en_183_seq_terms.tsv: 14 sentences\n",
      "Processed /content/ACTER/en/htfl/annotated/annotations/sequential_annotations/iob_annotations/without_named_entities/htfl_en_082_seq_terms.tsv: 8 sentences\n",
      "Processed /content/ACTER/en/htfl/annotated/annotations/sequential_annotations/iob_annotations/without_named_entities/htfl_en_157_seq_terms.tsv: 8 sentences\n",
      "Processed /content/ACTER/en/htfl/annotated/annotations/sequential_annotations/iob_annotations/without_named_entities/htfl_en_149_seq_terms.tsv: 19 sentences\n",
      "Processed /content/ACTER/en/htfl/annotated/annotations/sequential_annotations/iob_annotations/without_named_entities/htfl_en_153_seq_terms.tsv: 20 sentences\n",
      "Processed /content/ACTER/en/htfl/annotated/annotations/sequential_annotations/iob_annotations/without_named_entities/htfl_en_081_seq_terms.tsv: 15 sentences\n",
      "Processed /content/ACTER/en/htfl/annotated/annotations/sequential_annotations/iob_annotations/without_named_entities/htfl_en_140_seq_terms.tsv: 16 sentences\n",
      "Processed /content/ACTER/en/htfl/annotated/annotations/sequential_annotations/iob_annotations/without_named_entities/htfl_en_181_seq_terms.tsv: 14 sentences\n",
      "Processed /content/ACTER/en/htfl/annotated/annotations/sequential_annotations/iob_annotations/without_named_entities/htfl_en_190_seq_terms.tsv: 6 sentences\n",
      "Processed /content/ACTER/en/htfl/annotated/annotations/sequential_annotations/iob_annotations/without_named_entities/htfl_en_085_seq_terms.tsv: 5 sentences\n",
      "Processed /content/ACTER/en/htfl/annotated/annotations/sequential_annotations/iob_annotations/without_named_entities/htfl_en_104_seq_terms.tsv: 5 sentences\n",
      "Processed /content/ACTER/en/htfl/annotated/annotations/sequential_annotations/iob_annotations/without_named_entities/htfl_en_175_seq_terms.tsv: 24 sentences\n",
      "Processed /content/ACTER/en/htfl/annotated/annotations/sequential_annotations/iob_annotations/without_named_entities/htfl_en_170_seq_terms.tsv: 13 sentences\n",
      "Processed /content/ACTER/en/htfl/annotated/annotations/sequential_annotations/iob_annotations/without_named_entities/htfl_en_143_seq_terms.tsv: 11 sentences\n",
      "Processed /content/ACTER/en/htfl/annotated/annotations/sequential_annotations/iob_annotations/without_named_entities/htfl_en_134_seq_terms.tsv: 4 sentences\n",
      "Processed /content/ACTER/en/htfl/annotated/annotations/sequential_annotations/iob_annotations/without_named_entities/htfl_en_028_seq_terms.tsv: 11 sentences\n",
      "Processed /content/ACTER/en/htfl/annotated/annotations/sequential_annotations/iob_annotations/without_named_entities/htfl_en_064_seq_terms.tsv: 14 sentences\n",
      "Processed /content/ACTER/en/htfl/annotated/annotations/sequential_annotations/iob_annotations/without_named_entities/htfl_en_051_seq_terms.tsv: 13 sentences\n",
      "Processed /content/ACTER/en/htfl/annotated/annotations/sequential_annotations/iob_annotations/without_named_entities/htfl_en_131_seq_terms.tsv: 11 sentences\n",
      "Processed /content/ACTER/en/htfl/annotated/annotations/sequential_annotations/iob_annotations/without_named_entities/htfl_en_043_seq_terms.tsv: 10 sentences\n",
      "Processed /content/ACTER/en/htfl/annotated/annotations/sequential_annotations/iob_annotations/without_named_entities/htfl_en_060_seq_terms.tsv: 6 sentences\n",
      "Processed /content/ACTER/en/htfl/annotated/annotations/sequential_annotations/iob_annotations/without_named_entities/htfl_en_124_seq_terms.tsv: 6 sentences\n",
      "Processed /content/ACTER/en/htfl/annotated/annotations/sequential_annotations/iob_annotations/without_named_entities/htfl_en_130_seq_terms.tsv: 15 sentences\n",
      "Processed /content/ACTER/en/htfl/annotated/annotations/sequential_annotations/iob_annotations/without_named_entities/htfl_en_098_seq_terms.tsv: 14 sentences\n",
      "Processed /content/ACTER/en/htfl/annotated/annotations/sequential_annotations/iob_annotations/without_named_entities/htfl_en_050_seq_terms.tsv: 18 sentences\n",
      "Processed /content/ACTER/en/htfl/annotated/annotations/sequential_annotations/iob_annotations/without_named_entities/htfl_en_106_seq_terms.tsv: 19 sentences\n",
      "Processed /content/ACTER/en/htfl/annotated/annotations/sequential_annotations/iob_annotations/without_named_entities/htfl_en_058_seq_terms.tsv: 5 sentences\n",
      "Processed /content/ACTER/en/htfl/annotated/annotations/sequential_annotations/iob_annotations/without_named_entities/htfl_en_067_seq_terms.tsv: 17 sentences\n",
      "Processed /content/ACTER/en/htfl/annotated/annotations/sequential_annotations/iob_annotations/without_named_entities/htfl_en_062_seq_terms.tsv: 14 sentences\n",
      "Processed /content/ACTER/en/htfl/annotated/annotations/sequential_annotations/iob_annotations/without_named_entities/htfl_en_009_seq_terms.tsv: 20 sentences\n",
      "Processed /content/ACTER/en/htfl/annotated/annotations/sequential_annotations/iob_annotations/without_named_entities/htfl_en_110_seq_terms.tsv: 14 sentences\n",
      "Processed /content/ACTER/en/htfl/annotated/annotations/sequential_annotations/iob_annotations/without_named_entities/htfl_en_159_seq_terms.tsv: 9 sentences\n",
      "Processed /content/ACTER/en/htfl/annotated/annotations/sequential_annotations/iob_annotations/without_named_entities/htfl_en_093_seq_terms.tsv: 14 sentences\n",
      "Processed /content/ACTER/en/htfl/annotated/annotations/sequential_annotations/iob_annotations/without_named_entities/htfl_en_019_seq_terms.tsv: 12 sentences\n",
      "Processed /content/ACTER/en/htfl/annotated/annotations/sequential_annotations/iob_annotations/without_named_entities/htfl_en_102_seq_terms.tsv: 13 sentences\n",
      "Processed /content/ACTER/en/htfl/annotated/annotations/sequential_annotations/iob_annotations/without_named_entities/htfl_en_057_seq_terms.tsv: 17 sentences\n",
      "Processed /content/ACTER/en/htfl/annotated/annotations/sequential_annotations/iob_annotations/without_named_entities/htfl_en_077_seq_terms.tsv: 14 sentences\n",
      "Processed /content/ACTER/en/htfl/annotated/annotations/sequential_annotations/iob_annotations/without_named_entities/htfl_en_054_seq_terms.tsv: 23 sentences\n",
      "Processed /content/ACTER/en/htfl/annotated/annotations/sequential_annotations/iob_annotations/without_named_entities/htfl_en_020_seq_terms.tsv: 16 sentences\n",
      "Processed /content/ACTER/en/htfl/annotated/annotations/sequential_annotations/iob_annotations/without_named_entities/htfl_en_182_seq_terms.tsv: 17 sentences\n",
      "Processed /content/ACTER/en/htfl/annotated/annotations/sequential_annotations/iob_annotations/without_named_entities/htfl_en_017_seq_terms.tsv: 10 sentences\n",
      "Processed /content/ACTER/en/htfl/annotated/annotations/sequential_annotations/iob_annotations/without_named_entities/htfl_en_087_seq_terms.tsv: 3 sentences\n",
      "Processed /content/ACTER/en/htfl/annotated/annotations/sequential_annotations/iob_annotations/without_named_entities/htfl_en_063_seq_terms.tsv: 15 sentences\n",
      "Processed /content/ACTER/en/htfl/annotated/annotations/sequential_annotations/iob_annotations/without_named_entities/htfl_en_011_seq_terms.tsv: 13 sentences\n",
      "Processed /content/ACTER/en/htfl/annotated/annotations/sequential_annotations/iob_annotations/without_named_entities/htfl_en_101_seq_terms.tsv: 16 sentences\n",
      "Processed /content/ACTER/en/htfl/annotated/annotations/sequential_annotations/iob_annotations/without_named_entities/htfl_en_168_seq_terms.tsv: 15 sentences\n",
      "Processed /content/ACTER/en/htfl/annotated/annotations/sequential_annotations/iob_annotations/without_named_entities/htfl_en_007_seq_terms.tsv: 3 sentences\n",
      "Processed /content/ACTER/en/htfl/annotated/annotations/sequential_annotations/iob_annotations/without_named_entities/htfl_en_037_seq_terms.tsv: 17 sentences\n",
      "Processed /content/ACTER/en/htfl/annotated/annotations/sequential_annotations/iob_annotations/without_named_entities/htfl_en_014_seq_terms.tsv: 19 sentences\n",
      "Processed /content/ACTER/en/htfl/annotated/annotations/sequential_annotations/iob_annotations/without_named_entities/htfl_en_138_seq_terms.tsv: 6 sentences\n",
      "Processed /content/ACTER/en/htfl/annotated/annotations/sequential_annotations/iob_annotations/without_named_entities/htfl_en_177_seq_terms.tsv: 17 sentences\n",
      "Processed /content/ACTER/en/htfl/annotated/annotations/sequential_annotations/iob_annotations/without_named_entities/htfl_en_075_seq_terms.tsv: 12 sentences\n",
      "Processed /content/ACTER/en/htfl/annotated/annotations/sequential_annotations/iob_annotations/without_named_entities/htfl_en_055_seq_terms.tsv: 16 sentences\n",
      "Processed /content/ACTER/en/htfl/annotated/annotations/sequential_annotations/iob_annotations/without_named_entities/htfl_en_135_seq_terms.tsv: 4 sentences\n",
      "Processed /content/ACTER/en/htfl/annotated/annotations/sequential_annotations/iob_annotations/without_named_entities/htfl_en_173_seq_terms.tsv: 9 sentences\n",
      "Processed /content/ACTER/en/htfl/annotated/annotations/sequential_annotations/iob_annotations/without_named_entities/htfl_en_166_seq_terms.tsv: 16 sentences\n",
      "Processed /content/ACTER/en/htfl/annotated/annotations/sequential_annotations/iob_annotations/without_named_entities/htfl_en_119_seq_terms.tsv: 12 sentences\n",
      "Processed /content/ACTER/en/htfl/annotated/annotations/sequential_annotations/iob_annotations/without_named_entities/htfl_en_045_seq_terms.tsv: 12 sentences\n",
      "Processed /content/ACTER/en/htfl/annotated/annotations/sequential_annotations/iob_annotations/without_named_entities/htfl_en_024_seq_terms.tsv: 12 sentences\n",
      "Processed /content/ACTER/en/htfl/annotated/annotations/sequential_annotations/iob_annotations/without_named_entities/htfl_en_144_seq_terms.tsv: 19 sentences\n",
      "Processed /content/ACTER/en/htfl/annotated/annotations/sequential_annotations/iob_annotations/without_named_entities/htfl_en_030_seq_terms.tsv: 17 sentences\n",
      "Processed /content/ACTER/en/htfl/annotated/annotations/sequential_annotations/iob_annotations/without_named_entities/htfl_en_154_seq_terms.tsv: 17 sentences\n",
      "Processed /content/ACTER/en/htfl/annotated/annotations/sequential_annotations/iob_annotations/without_named_entities/htfl_en_074_seq_terms.tsv: 14 sentences\n",
      "Processed /content/ACTER/en/htfl/annotated/annotations/sequential_annotations/iob_annotations/without_named_entities/htfl_en_091_seq_terms.tsv: 7 sentences\n",
      "Processed /content/ACTER/en/htfl/annotated/annotations/sequential_annotations/iob_annotations/without_named_entities/htfl_en_003_seq_terms.tsv: 8 sentences\n",
      "Processed /content/ACTER/en/htfl/annotated/annotations/sequential_annotations/iob_annotations/without_named_entities/htfl_en_141_seq_terms.tsv: 7 sentences\n",
      "Processed /content/ACTER/en/htfl/annotated/annotations/sequential_annotations/iob_annotations/without_named_entities/htfl_en_147_seq_terms.tsv: 12 sentences\n",
      "Processed /content/ACTER/en/htfl/annotated/annotations/sequential_annotations/iob_annotations/without_named_entities/htfl_en_169_seq_terms.tsv: 14 sentences\n",
      "Processed /content/ACTER/en/htfl/annotated/annotations/sequential_annotations/iob_annotations/without_named_entities/htfl_en_187_seq_terms.tsv: 26 sentences\n",
      "Processed /content/ACTER/en/htfl/annotated/annotations/sequential_annotations/iob_annotations/without_named_entities/htfl_en_126_seq_terms.tsv: 15 sentences\n",
      "Processed /content/ACTER/en/htfl/annotated/annotations/sequential_annotations/iob_annotations/without_named_entities/htfl_en_056_seq_terms.tsv: 13 sentences\n",
      "Processed /content/ACTER/en/htfl/annotated/annotations/sequential_annotations/iob_annotations/without_named_entities/htfl_en_053_seq_terms.tsv: 8 sentences\n",
      "Processed /content/ACTER/en/htfl/annotated/annotations/sequential_annotations/iob_annotations/without_named_entities/htfl_en_150_seq_terms.tsv: 8 sentences\n",
      "Processed /content/ACTER/en/htfl/annotated/annotations/sequential_annotations/iob_annotations/without_named_entities/htfl_en_040_seq_terms.tsv: 10 sentences\n",
      "Processed /content/ACTER/en/htfl/annotated/annotations/sequential_annotations/iob_annotations/without_named_entities/htfl_en_084_seq_terms.tsv: 18 sentences\n",
      "Processed /content/ACTER/en/htfl/annotated/annotations/sequential_annotations/iob_annotations/without_named_entities/htfl_en_165_seq_terms.tsv: 7 sentences\n",
      "Processed /content/ACTER/en/htfl/annotated/annotations/sequential_annotations/iob_annotations/without_named_entities/htfl_en_128_seq_terms.tsv: 9 sentences\n",
      "Processed /content/ACTER/en/htfl/annotated/annotations/sequential_annotations/iob_annotations/without_named_entities/htfl_en_152_seq_terms.tsv: 16 sentences\n",
      "Processed /content/ACTER/en/htfl/annotated/annotations/sequential_annotations/iob_annotations/without_named_entities/htfl_en_004_seq_terms.tsv: 11 sentences\n",
      "Processed /content/ACTER/en/htfl/annotated/annotations/sequential_annotations/iob_annotations/without_named_entities/htfl_en_097_seq_terms.tsv: 15 sentences\n",
      "Processed /content/ACTER/en/htfl/annotated/annotations/sequential_annotations/iob_annotations/without_named_entities/htfl_en_162_seq_terms.tsv: 13 sentences\n",
      "Processed /content/ACTER/en/htfl/annotated/annotations/sequential_annotations/iob_annotations/without_named_entities/htfl_en_189_seq_terms.tsv: 15 sentences\n",
      "Processed /content/ACTER/en/htfl/annotated/annotations/sequential_annotations/iob_annotations/without_named_entities/htfl_en_113_seq_terms.tsv: 7 sentences\n",
      "Processed /content/ACTER/en/htfl/annotated/annotations/sequential_annotations/iob_annotations/without_named_entities/htfl_en_179_seq_terms.tsv: 12 sentences\n",
      "Processed /content/ACTER/en/htfl/annotated/annotations/sequential_annotations/iob_annotations/without_named_entities/htfl_en_026_seq_terms.tsv: 21 sentences\n",
      "Processed /content/ACTER/en/htfl/annotated/annotations/sequential_annotations/iob_annotations/without_named_entities/htfl_en_042_seq_terms.tsv: 8 sentences\n",
      "Processed /content/ACTER/en/htfl/annotated/annotations/sequential_annotations/iob_annotations/without_named_entities/htfl_en_121_seq_terms.tsv: 7 sentences\n",
      "Processed /content/ACTER/en/htfl/annotated/annotations/sequential_annotations/iob_annotations/without_named_entities/htfl_en_012_seq_terms.tsv: 9 sentences\n",
      "Processed /content/ACTER/en/htfl/annotated/annotations/sequential_annotations/iob_annotations/without_named_entities/htfl_en_036_seq_terms.tsv: 17 sentences\n",
      "Processed /content/ACTER/en/htfl/annotated/annotations/sequential_annotations/iob_annotations/without_named_entities/htfl_en_172_seq_terms.tsv: 4 sentences\n",
      "Processed /content/ACTER/en/htfl/annotated/annotations/sequential_annotations/iob_annotations/without_named_entities/htfl_en_136_seq_terms.tsv: 6 sentences\n",
      "Processed /content/ACTER/en/htfl/annotated/annotations/sequential_annotations/iob_annotations/without_named_entities/htfl_en_108_seq_terms.tsv: 11 sentences\n",
      "Processed /content/ACTER/en/htfl/annotated/annotations/sequential_annotations/iob_annotations/without_named_entities/htfl_en_095_seq_terms.tsv: 12 sentences\n",
      "Processed /content/ACTER/en/htfl/annotated/annotations/sequential_annotations/iob_annotations/without_named_entities/htfl_en_107_seq_terms.tsv: 14 sentences\n",
      "Processed /content/ACTER/en/htfl/annotated/annotations/sequential_annotations/iob_annotations/without_named_entities/htfl_en_071_seq_terms.tsv: 16 sentences\n",
      "Processed /content/ACTER/en/htfl/annotated/annotations/sequential_annotations/iob_annotations/without_named_entities/htfl_en_070_seq_terms.tsv: 12 sentences\n",
      "Processed /content/ACTER/en/htfl/annotated/annotations/sequential_annotations/iob_annotations/without_named_entities/htfl_en_188_seq_terms.tsv: 20 sentences\n",
      "Processed /content/ACTER/en/htfl/annotated/annotations/sequential_annotations/iob_annotations/without_named_entities/htfl_en_068_seq_terms.tsv: 14 sentences\n",
      "Processed /content/ACTER/en/htfl/annotated/annotations/sequential_annotations/iob_annotations/without_named_entities/htfl_en_005_seq_terms.tsv: 15 sentences\n",
      "Processed /content/ACTER/en/htfl/annotated/annotations/sequential_annotations/iob_annotations/without_named_entities/htfl_en_127_seq_terms.tsv: 16 sentences\n",
      "Processed /content/ACTER/en/htfl/annotated/annotations/sequential_annotations/iob_annotations/without_named_entities/htfl_en_048_seq_terms.tsv: 13 sentences\n",
      "Processed /content/ACTER/en/htfl/annotated/annotations/sequential_annotations/iob_annotations/without_named_entities/htfl_en_001_seq_terms.tsv: 8 sentences\n",
      "Processed /content/ACTER/en/htfl/annotated/annotations/sequential_annotations/iob_annotations/without_named_entities/htfl_en_148_seq_terms.tsv: 7 sentences\n",
      "Processed /content/ACTER/en/htfl/annotated/annotations/sequential_annotations/iob_annotations/without_named_entities/htfl_en_123_seq_terms.tsv: 11 sentences\n",
      "Processed /content/ACTER/en/htfl/annotated/annotations/sequential_annotations/iob_annotations/without_named_entities/htfl_en_164_seq_terms.tsv: 16 sentences\n",
      "Processed /content/ACTER/en/htfl/annotated/annotations/sequential_annotations/iob_annotations/without_named_entities/htfl_en_137_seq_terms.tsv: 8 sentences\n",
      "Processed /content/ACTER/en/htfl/annotated/annotations/sequential_annotations/iob_annotations/without_named_entities/htfl_en_184_seq_terms.tsv: 16 sentences\n",
      "Processed /content/ACTER/en/htfl/annotated/annotations/sequential_annotations/iob_annotations/without_named_entities/htfl_en_090_seq_terms.tsv: 15 sentences\n",
      "Processed /content/ACTER/en/htfl/annotated/annotations/sequential_annotations/iob_annotations/without_named_entities/htfl_en_006_seq_terms.tsv: 3 sentences\n",
      "Processed /content/ACTER/en/htfl/annotated/annotations/sequential_annotations/iob_annotations/without_named_entities/htfl_en_145_seq_terms.tsv: 16 sentences\n",
      "Processed /content/ACTER/en/htfl/annotated/annotations/sequential_annotations/iob_annotations/without_named_entities/htfl_en_010_seq_terms.tsv: 4 sentences\n",
      "Processed /content/ACTER/en/htfl/annotated/annotations/sequential_annotations/iob_annotations/without_named_entities/htfl_en_044_seq_terms.tsv: 12 sentences\n",
      "Processed /content/ACTER/en/htfl/annotated/annotations/sequential_annotations/iob_annotations/without_named_entities/htfl_en_035_seq_terms.tsv: 15 sentences\n",
      "Processed /content/ACTER/en/htfl/annotated/annotations/sequential_annotations/iob_annotations/without_named_entities/htfl_en_015_seq_terms.tsv: 17 sentences\n",
      "Processed /content/ACTER/en/htfl/annotated/annotations/sequential_annotations/iob_annotations/without_named_entities/htfl_en_185_seq_terms.tsv: 20 sentences\n",
      "Processed /content/ACTER/en/htfl/annotated/annotations/sequential_annotations/iob_annotations/without_named_entities/htfl_en_008_seq_terms.tsv: 16 sentences\n",
      "Processed /content/ACTER/en/htfl/annotated/annotations/sequential_annotations/iob_annotations/without_named_entities/htfl_en_086_seq_terms.tsv: 11 sentences\n",
      "Processed /content/ACTER/en/htfl/annotated/annotations/sequential_annotations/iob_annotations/without_named_entities/htfl_en_120_seq_terms.tsv: 14 sentences\n",
      "Processed /content/ACTER/en/htfl/annotated/annotations/sequential_annotations/iob_annotations/without_named_entities/htfl_en_065_seq_terms.tsv: 15 sentences\n",
      "Processed /content/ACTER/en/htfl/annotated/annotations/sequential_annotations/iob_annotations/without_named_entities/htfl_en_092_seq_terms.tsv: 6 sentences\n",
      "Processed /content/ACTER/en/htfl/annotated/annotations/sequential_annotations/iob_annotations/without_named_entities/htfl_en_105_seq_terms.tsv: 4 sentences\n",
      "Processed /content/ACTER/en/htfl/annotated/annotations/sequential_annotations/iob_annotations/without_named_entities/htfl_en_018_seq_terms.tsv: 7 sentences\n",
      "Processed /content/ACTER/en/htfl/annotated/annotations/sequential_annotations/iob_annotations/without_named_entities/htfl_en_076_seq_terms.tsv: 15 sentences\n",
      "Processed /content/ACTER/en/htfl/annotated/annotations/sequential_annotations/iob_annotations/without_named_entities/htfl_en_158_seq_terms.tsv: 9 sentences\n",
      "Processed /content/ACTER/en/htfl/annotated/annotations/sequential_annotations/iob_annotations/without_named_entities/htfl_en_032_seq_terms.tsv: 17 sentences\n",
      "Processed /content/ACTER/en/htfl/annotated/annotations/sequential_annotations/iob_annotations/without_named_entities/htfl_en_142_seq_terms.tsv: 17 sentences\n",
      "Processed /content/ACTER/en/htfl/annotated/annotations/sequential_annotations/iob_annotations/without_named_entities/htfl_en_146_seq_terms.tsv: 8 sentences\n",
      "Processed /content/ACTER/en/htfl/annotated/annotations/sequential_annotations/iob_annotations/without_named_entities/htfl_en_033_seq_terms.tsv: 49 sentences\n",
      "Processed /content/ACTER/en/htfl/annotated/annotations/sequential_annotations/iob_annotations/without_named_entities/htfl_en_122_seq_terms.tsv: 4 sentences\n",
      "Processed /content/ACTER/en/htfl/annotated/annotations/sequential_annotations/iob_annotations/without_named_entities/htfl_en_180_seq_terms.tsv: 12 sentences\n",
      "Processed /content/ACTER/en/htfl/annotated/annotations/sequential_annotations/iob_annotations/without_named_entities/htfl_en_049_seq_terms.tsv: 17 sentences\n",
      "Processed /content/ACTER/en/htfl/annotated/annotations/sequential_annotations/iob_annotations/without_named_entities/htfl_en_176_seq_terms.tsv: 16 sentences\n",
      "Processed /content/ACTER/en/htfl/annotated/annotations/sequential_annotations/iob_annotations/without_named_entities/htfl_en_116_seq_terms.tsv: 6 sentences\n",
      "Processed /content/ACTER/en/htfl/annotated/annotations/sequential_annotations/iob_annotations/without_named_entities/htfl_en_029_seq_terms.tsv: 13 sentences\n",
      "Processed /content/ACTER/en/htfl/annotated/annotations/sequential_annotations/iob_annotations/without_named_entities/htfl_en_111_seq_terms.tsv: 13 sentences\n",
      "Processed /content/ACTER/en/htfl/annotated/annotations/sequential_annotations/iob_annotations/without_named_entities/htfl_en_025_seq_terms.tsv: 10 sentences\n",
      "Processed /content/ACTER/en/htfl/annotated/annotations/sequential_annotations/iob_annotations/without_named_entities/htfl_en_129_seq_terms.tsv: 11 sentences\n",
      "Processed /content/ACTER/en/htfl/annotated/annotations/sequential_annotations/iob_annotations/without_named_entities/htfl_en_139_seq_terms.tsv: 5 sentences\n",
      "Processed /content/ACTER/en/htfl/annotated/annotations/sequential_annotations/iob_annotations/without_named_entities/htfl_en_023_seq_terms.tsv: 22 sentences\n",
      "Processed /content/ACTER/en/htfl/annotated/annotations/sequential_annotations/iob_annotations/without_named_entities/htfl_en_002_seq_terms.tsv: 17 sentences\n",
      "Processed /content/ACTER/en/htfl/annotated/annotations/sequential_annotations/iob_annotations/without_named_entities/htfl_en_089_seq_terms.tsv: 16 sentences\n",
      "Processed /content/ACTER/en/htfl/annotated/annotations/sequential_annotations/iob_annotations/without_named_entities/htfl_en_171_seq_terms.tsv: 6 sentences\n",
      "Processed /content/ACTER/en/htfl/annotated/annotations/sequential_annotations/iob_annotations/without_named_entities/htfl_en_073_seq_terms.tsv: 17 sentences\n",
      "Processed /content/ACTER/en/htfl/annotated/annotations/sequential_annotations/iob_annotations/without_named_entities/htfl_en_034_seq_terms.tsv: 12 sentences\n",
      "Processed /content/ACTER/en/htfl/annotated/annotations/sequential_annotations/iob_annotations/without_named_entities/htfl_en_099_seq_terms.tsv: 11 sentences\n",
      "Processed /content/ACTER/en/htfl/annotated/annotations/sequential_annotations/iob_annotations/without_named_entities/htfl_en_155_seq_terms.tsv: 18 sentences\n",
      "Processed /content/ACTER/en/htfl/annotated/annotations/sequential_annotations/iob_annotations/without_named_entities/htfl_en_039_seq_terms.tsv: 14 sentences\n",
      "Processed /content/ACTER/en/htfl/annotated/annotations/sequential_annotations/iob_annotations/without_named_entities/htfl_en_115_seq_terms.tsv: 13 sentences\n",
      "Processed /content/ACTER/en/htfl/annotated/annotations/sequential_annotations/iob_annotations/without_named_entities/htfl_en_103_seq_terms.tsv: 4 sentences\n",
      "Processed /content/ACTER/en/htfl/annotated/annotations/sequential_annotations/iob_annotations/without_named_entities/htfl_en_041_seq_terms.tsv: 15 sentences\n",
      "Processed /content/ACTER/en/htfl/annotated/annotations/sequential_annotations/iob_annotations/without_named_entities/htfl_en_052_seq_terms.tsv: 20 sentences\n",
      "Processed /content/ACTER/en/htfl/annotated/annotations/sequential_annotations/iob_annotations/without_named_entities/htfl_en_022_seq_terms.tsv: 4 sentences\n",
      "Processed /content/ACTER/en/htfl/annotated/annotations/sequential_annotations/iob_annotations/without_named_entities/htfl_en_178_seq_terms.tsv: 18 sentences\n",
      "Processed /content/ACTER/en/htfl/annotated/annotations/sequential_annotations/iob_annotations/without_named_entities/htfl_en_016_seq_terms.tsv: 26 sentences\n",
      "Processed /content/ACTER/en/htfl/annotated/annotations/sequential_annotations/iob_annotations/without_named_entities/htfl_en_100_seq_terms.tsv: 18 sentences\n",
      "Processed /content/ACTER/en/htfl/annotated/annotations/sequential_annotations/iob_annotations/without_named_entities/htfl_en_072_seq_terms.tsv: 20 sentences\n",
      "Processed /content/ACTER/en/htfl/annotated/annotations/sequential_annotations/iob_annotations/without_named_entities/htfl_en_038_seq_terms.tsv: 17 sentences\n",
      "Processed /content/ACTER/en/htfl/annotated/annotations/sequential_annotations/iob_annotations/without_named_entities/htfl_en_069_seq_terms.tsv: 6 sentences\n",
      "Processed /content/ACTER/en/htfl/annotated/annotations/sequential_annotations/iob_annotations/without_named_entities/htfl_en_096_seq_terms.tsv: 14 sentences\n",
      "Processed /content/ACTER/en/htfl/annotated/annotations/sequential_annotations/iob_annotations/without_named_entities/htfl_en_114_seq_terms.tsv: 11 sentences\n",
      "Processed /content/ACTER/en/htfl/annotated/annotations/sequential_annotations/iob_annotations/without_named_entities/htfl_en_151_seq_terms.tsv: 13 sentences\n",
      "Processed /content/ACTER/en/htfl/annotated/annotations/sequential_annotations/iob_annotations/without_named_entities/htfl_en_167_seq_terms.tsv: 16 sentences\n",
      "Processed /content/ACTER/en/htfl/annotated/annotations/sequential_annotations/iob_annotations/without_named_entities/htfl_en_160_seq_terms.tsv: 18 sentences\n",
      "Processed /content/ACTER/en/htfl/annotated/annotations/sequential_annotations/iob_annotations/without_named_entities/htfl_en_094_seq_terms.tsv: 8 sentences\n",
      "Processed /content/ACTER/en/htfl/annotated/annotations/sequential_annotations/iob_annotations/without_named_entities/htfl_en_132_seq_terms.tsv: 14 sentences\n",
      "Processed /content/ACTER/en/htfl/annotated/annotations/sequential_annotations/iob_annotations/without_named_entities/htfl_en_066_seq_terms.tsv: 16 sentences\n",
      "\n",
      "Processing directory: /content/ACTER/en/wind/annotated/annotations/sequential_annotations/iob_annotations/without_named_entities\n",
      "Processed /content/ACTER/en/wind/annotated/annotations/sequential_annotations/iob_annotations/without_named_entities/wind_en_26_seq_terms.tsv: 111 sentences\n",
      "Processed /content/ACTER/en/wind/annotated/annotations/sequential_annotations/iob_annotations/without_named_entities/wind_en_32_seq_terms.tsv: 154 sentences\n",
      "Processed /content/ACTER/en/wind/annotated/annotations/sequential_annotations/iob_annotations/without_named_entities/wind_en_01_seq_terms.tsv: 5259 sentences\n",
      "Processed /content/ACTER/en/wind/annotated/annotations/sequential_annotations/iob_annotations/without_named_entities/wind_en_04_seq_terms.tsv: 338 sentences\n",
      "Processed /content/ACTER/en/wind/annotated/annotations/sequential_annotations/iob_annotations/without_named_entities/wind_en_02_seq_terms.tsv: 776 sentences\n",
      "\n",
      "Total sentences collected: 14162\n",
      "\n",
      "Split sizes:\n",
      "Train: 11329 sentences\n",
      "Validation: 0 sentences\n",
      "Test: 2833 sentences\n",
      "\n",
      "Writing output files...\n",
      "\n",
      "Dataset preparation completed!\n"
     ]
    }
   ]
  },
  {
   "cell_type": "code",
   "source": [
    "!spacy convert --converter iob train_full.tsv output && \\\n",
    "  spacy convert --converter iob test_full.tsv output\n"
   ],
   "metadata": {
    "colab": {
     "base_uri": "https://localhost:8080/"
    },
    "id": "K52AmYesowiq",
    "outputId": "35781b50-ad3b-402a-d933-772b3f0a0d7c"
   },
   "execution_count": 10,
   "outputs": [
    {
     "output_type": "stream",
     "name": "stdout",
     "text": [
      "\u001B[38;5;4mℹ Auto-detected token-per-line NER format\u001B[0m\n",
      "\u001B[38;5;4mℹ Grouping every 1 sentences into a document.\u001B[0m\n",
      "\u001B[38;5;3m⚠ To generate better training data, you may want to group sentences\n",
      "into documents with `-n 10`.\u001B[0m\n",
      "\u001B[38;5;2m✔ Generated output file (11329 documents): output/train_full.spacy\u001B[0m\n",
      "\u001B[38;5;4mℹ Auto-detected token-per-line NER format\u001B[0m\n",
      "\u001B[38;5;4mℹ Grouping every 1 sentences into a document.\u001B[0m\n",
      "\u001B[38;5;3m⚠ To generate better training data, you may want to group sentences\n",
      "into documents with `-n 10`.\u001B[0m\n",
      "\u001B[38;5;2m✔ Generated output file (2833 documents): output/test_full.spacy\u001B[0m\n"
     ]
    }
   ]
  },
  {
   "cell_type": "code",
   "source": [
    "!git pull"
   ],
   "metadata": {
    "id": "QBQd1Jwpx-99",
    "outputId": "7d870c1a-dab1-4a64-9aee-5f8bce1077e8",
    "colab": {
     "base_uri": "https://localhost:8080/"
    }
   },
   "execution_count": 11,
   "outputs": [
    {
     "output_type": "stream",
     "name": "stdout",
     "text": [
      "Already up to date.\n"
     ]
    }
   ]
  },
  {
   "cell_type": "code",
   "source": [
    "!mkdir input_data -p && \\\n",
    "  mkdir /content/drive/MyDrive/ucu/ner/output-xlm-roberta-large-en -p && \\\n",
    "  mv output/train_full.spacy input_data/train_full.spacy && \\\n",
    "  mv output/test_full.spacy input_data/test_full.spacy"
   ],
   "metadata": {
    "id": "MW4g58A-pgXk"
   },
   "execution_count": 12,
   "outputs": []
  },
  {
   "cell_type": "code",
   "source": [
    "!pip install 'spacy[transformers]' -q"
   ],
   "metadata": {
    "collapsed": true,
    "id": "hhr_t0BEp5Qs",
    "outputId": "3c07d239-4e53-4a0c-cf29-492032ce52f6",
    "colab": {
     "base_uri": "https://localhost:8080/"
    }
   },
   "execution_count": 13,
   "outputs": [
    {
     "output_type": "stream",
     "name": "stdout",
     "text": [
      "\u001B[2K     \u001B[90m━━━━━━━━━━━━━━━━━━━━━━━━━━━━━━━━━━━━━━━━\u001B[0m \u001B[32m44.0/44.0 kB\u001B[0m \u001B[31m3.6 MB/s\u001B[0m eta \u001B[36m0:00:00\u001B[0m\n",
      "\u001B[2K   \u001B[90m━━━━━━━━━━━━━━━━━━━━━━━━━━━━━━━━━━━━━━━━\u001B[0m \u001B[32m756.2/756.2 kB\u001B[0m \u001B[31m44.0 MB/s\u001B[0m eta \u001B[36m0:00:00\u001B[0m\n",
      "\u001B[2K   \u001B[90m━━━━━━━━━━━━━━━━━━━━━━━━━━━━━━━━━━━━━━━━\u001B[0m \u001B[32m314.0/314.0 kB\u001B[0m \u001B[31m24.4 MB/s\u001B[0m eta \u001B[36m0:00:00\u001B[0m\n",
      "\u001B[2K   \u001B[90m━━━━━━━━━━━━━━━━━━━━━━━━━━━━━━━━━━━━━━━━\u001B[0m \u001B[32m363.4/363.4 MB\u001B[0m \u001B[31m3.1 MB/s\u001B[0m eta \u001B[36m0:00:00\u001B[0m\n",
      "\u001B[2K   \u001B[90m━━━━━━━━━━━━━━━━━━━━━━━━━━━━━━━━━━━━━━━━\u001B[0m \u001B[32m13.8/13.8 MB\u001B[0m \u001B[31m115.8 MB/s\u001B[0m eta \u001B[36m0:00:00\u001B[0m\n",
      "\u001B[2K   \u001B[90m━━━━━━━━━━━━━━━━━━━━━━━━━━━━━━━━━━━━━━━━\u001B[0m \u001B[32m24.6/24.6 MB\u001B[0m \u001B[31m79.6 MB/s\u001B[0m eta \u001B[36m0:00:00\u001B[0m\n",
      "\u001B[2K   \u001B[90m━━━━━━━━━━━━━━━━━━━━━━━━━━━━━━━━━━━━━━━━\u001B[0m \u001B[32m883.7/883.7 kB\u001B[0m \u001B[31m54.9 MB/s\u001B[0m eta \u001B[36m0:00:00\u001B[0m\n",
      "\u001B[2K   \u001B[90m━━━━━━━━━━━━━━━━━━━━━━━━━━━━━━━━━━━━━━━━\u001B[0m \u001B[32m664.8/664.8 MB\u001B[0m \u001B[31m2.0 MB/s\u001B[0m eta \u001B[36m0:00:00\u001B[0m\n",
      "\u001B[2K   \u001B[90m━━━━━━━━━━━━━━━━━━━━━━━━━━━━━━━━━━━━━━━━\u001B[0m \u001B[32m211.5/211.5 MB\u001B[0m \u001B[31m4.6 MB/s\u001B[0m eta \u001B[36m0:00:00\u001B[0m\n",
      "\u001B[2K   \u001B[90m━━━━━━━━━━━━━━━━━━━━━━━━━━━━━━━━━━━━━━━━\u001B[0m \u001B[32m56.3/56.3 MB\u001B[0m \u001B[31m40.1 MB/s\u001B[0m eta \u001B[36m0:00:00\u001B[0m\n",
      "\u001B[2K   \u001B[90m━━━━━━━━━━━━━━━━━━━━━━━━━━━━━━━━━━━━━━━━\u001B[0m \u001B[32m127.9/127.9 MB\u001B[0m \u001B[31m18.8 MB/s\u001B[0m eta \u001B[36m0:00:00\u001B[0m\n",
      "\u001B[2K   \u001B[90m━━━━━━━━━━━━━━━━━━━━━━━━━━━━━━━━━━━━━━━━\u001B[0m \u001B[32m207.5/207.5 MB\u001B[0m \u001B[31m5.8 MB/s\u001B[0m eta \u001B[36m0:00:00\u001B[0m\n",
      "\u001B[2K   \u001B[90m━━━━━━━━━━━━━━━━━━━━━━━━━━━━━━━━━━━━━━━━\u001B[0m \u001B[32m21.1/21.1 MB\u001B[0m \u001B[31m94.9 MB/s\u001B[0m eta \u001B[36m0:00:00\u001B[0m\n",
      "\u001B[2K   \u001B[90m━━━━━━━━━━━━━━━━━━━━━━━━━━━━━━━━━━━━━━━━\u001B[0m \u001B[32m10.0/10.0 MB\u001B[0m \u001B[31m50.3 MB/s\u001B[0m eta \u001B[36m0:00:00\u001B[0m\n",
      "\u001B[?25h"
     ]
    }
   ]
  },
  {
   "cell_type": "code",
   "source": [
    "!ls"
   ],
   "metadata": {
    "id": "LFYlRl5yB311",
    "outputId": "8a7cae6f-c4b0-499a-bdc4-6a8b7d239a34",
    "colab": {
     "base_uri": "https://localhost:8080/"
    }
   },
   "execution_count": 14,
   "outputs": [
    {
     "output_type": "stream",
     "name": "stdout",
     "text": [
      "combine_corpora-en-fr-nl.sh  dataset_processor.py  test_full.tsv\t Untitled.ipynb\n",
      "combine_corpora-en-fr.sh     input_data\t\t   train_full.tsv\n",
      "combine_corpora.sh\t     output\t\t   train_model.py\n",
      "configs\t\t\t     preprocess_acter.py   train_spacy_model.py\n"
     ]
    }
   ]
  },
  {
   "cell_type": "code",
   "source": [
    "!spacy train configs/config_xlm_roberta_large.cfg --gpu-id 0 --output /content/drive/MyDrive/ucu/ner/output-xlm-roberta-large-en"
   ],
   "metadata": {
    "colab": {
     "base_uri": "https://localhost:8080/"
    },
    "id": "ZaYbLOFUoqhx",
    "outputId": "c7a14774-7763-4e22-8e4d-b498236ddc0d"
   },
   "execution_count": null,
   "outputs": [
    {
     "output_type": "stream",
     "name": "stdout",
     "text": [
      "\u001B[38;5;4mℹ Saving to output directory:\n",
      "/content/drive/MyDrive/ucu/ner/output-xlm-roberta-large-en\u001B[0m\n",
      "\u001B[38;5;4mℹ Using GPU: 0\u001B[0m\n",
      "\u001B[1m\n",
      "=========================== Initializing pipeline ===========================\u001B[0m\n",
      "tokenizer_config.json: 100% 25.0/25.0 [00:00<00:00, 175kB/s]\n",
      "config.json: 100% 616/616 [00:00<00:00, 4.50MB/s]\n",
      "sentencepiece.bpe.model: 100% 5.07M/5.07M [00:00<00:00, 17.6MB/s]\n",
      "tokenizer.json: 100% 9.10M/9.10M [00:00<00:00, 26.9MB/s]\n",
      "2025-04-06 14:59:11.366139: I tensorflow/core/util/port.cc:153] oneDNN custom operations are on. You may see slightly different numerical results due to floating-point round-off errors from different computation orders. To turn them off, set the environment variable `TF_ENABLE_ONEDNN_OPTS=0`.\n",
      "2025-04-06 14:59:11.385657: E external/local_xla/xla/stream_executor/cuda/cuda_fft.cc:477] Unable to register cuFFT factory: Attempting to register factory for plugin cuFFT when one has already been registered\n",
      "WARNING: All log messages before absl::InitializeLog() is called are written to STDERR\n",
      "E0000 00:00:1743951551.408187    3885 cuda_dnn.cc:8310] Unable to register cuDNN factory: Attempting to register factory for plugin cuDNN when one has already been registered\n",
      "E0000 00:00:1743951551.414817    3885 cuda_blas.cc:1418] Unable to register cuBLAS factory: Attempting to register factory for plugin cuBLAS when one has already been registered\n",
      "2025-04-06 14:59:11.437738: I tensorflow/core/platform/cpu_feature_guard.cc:210] This TensorFlow binary is optimized to use available CPU instructions in performance-critical operations.\n",
      "To enable the following instructions: AVX2 AVX512F AVX512_VNNI FMA, in other operations, rebuild TensorFlow with the appropriate compiler flags.\n",
      "Xet Storage is enabled for this repo, but the 'hf_xet' package is not installed. Falling back to regular HTTP download. For better performance, install the package with: `pip install huggingface_hub[hf_xet]` or `pip install hf_xet`\n",
      "model.safetensors: 100% 2.24G/2.24G [00:04<00:00, 459MB/s]\n",
      "\u001B[38;5;2m✔ Initialized pipeline\u001B[0m\n",
      "\u001B[1m\n",
      "============================= Training pipeline =============================\u001B[0m\n",
      "\u001B[38;5;4mℹ Pipeline: ['transformer', 'ner']\u001B[0m\n",
      "\u001B[38;5;4mℹ Initial learn rate: 1e-05\u001B[0m\n",
      "E    #       LOSS TRANS...  LOSS NER  ENTS_F  ENTS_P  ENTS_R  SCORE \n",
      "---  ------  -------------  --------  ------  ------  ------  ------\n",
      "  0       0          93.63     29.70    0.22    5.88    0.11    0.00\n",
      "  0     200         756.09   1292.44   54.51   68.72   45.17    0.55\n",
      "  0     400         375.33    796.66   70.06   70.71   69.41    0.70\n",
      "  0     600         297.18    655.14   69.55   64.79   75.07    0.70\n",
      "  0     800         310.44    660.78   73.36   80.63   67.30    0.73\n",
      "  0    1000         263.48    549.67   77.42   80.62   74.46    0.77\n",
      "  0    1200         242.50    512.70   78.93   81.70   76.35    0.79\n",
      "  0    1400         251.88    505.71   79.18   81.27   77.20    0.79\n",
      "  0    1600         249.99    481.51   81.65   82.28   81.03    0.82\n",
      "  0    1800         253.28    498.95   81.20   80.83   81.57    0.81\n",
      "  0    2000         203.89    427.03   82.31   84.05   80.63    0.82\n",
      "  0    2200         214.99    444.52   83.07   84.08   82.08    0.83\n",
      "  0    2400         191.28    376.43   82.42   84.62   80.33    0.82\n"
     ]
    }
   ]
  },
  {
   "cell_type": "code",
   "execution_count": null,
   "outputs": [],
   "source": [
    "from google.colab import runtime\n",
    "runtime.unassign()"
   ],
   "metadata": {
    "id": "JHCLwPg-w_yj"
   }
  }
 ]
}
