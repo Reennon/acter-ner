{
  "nbformat": 4,
  "nbformat_minor": 0,
  "metadata": {
    "colab": {
      "provenance": [],
      "gpuType": "T4",
      "mount_file_id": "1ilIMI_trWG_RNhVIlN0JJoCTV618m7MC",
      "authorship_tag": "ABX9TyMABYDw5ExDuGGlKxBHVxQG",
      "include_colab_link": true
    },
    "kernelspec": {
      "name": "python3",
      "display_name": "Python 3"
    },
    "language_info": {
      "name": "python"
    },
    "accelerator": "GPU"
  },
  "cells": [
    {
      "cell_type": "markdown",
      "metadata": {
        "id": "view-in-github",
        "colab_type": "text"
      },
      "source": [
        "<a href=\"https://colab.research.google.com/github/Reennon/acter-ner/blob/main/notebooks/baseline-roberta-large.ipynb\" target=\"_parent\"><img src=\"https://colab.research.google.com/assets/colab-badge.svg\" alt=\"Open In Colab\"/></a>"
      ]
    },
    {
      "cell_type": "code",
      "execution_count": 1,
      "metadata": {
        "colab": {
          "base_uri": "https://localhost:8080/"
        },
        "id": "b5X8eBFzlToi",
        "outputId": "335c18bc-28a6-47a2-e767-806e67a4cd00"
      },
      "outputs": [
        {
          "output_type": "stream",
          "name": "stdout",
          "text": [
            "fatal: destination path 'acter-ner' already exists and is not an empty directory.\n"
          ]
        }
      ],
      "source": [
        "!git clone https://github.com/Reennon/acter-ner"
      ]
    },
    {
      "cell_type": "code",
      "source": [
        "!git clone https://github.com/AylaRT/ACTER"
      ],
      "metadata": {
        "colab": {
          "base_uri": "https://localhost:8080/"
        },
        "id": "anL-YTxVlmw4",
        "outputId": "d393efcb-b878-496a-9b17-6f3000fca6b8"
      },
      "execution_count": 2,
      "outputs": [
        {
          "output_type": "stream",
          "name": "stdout",
          "text": [
            "fatal: destination path 'ACTER' already exists and is not an empty directory.\n"
          ]
        }
      ]
    },
    {
      "cell_type": "code",
      "source": [
        "%cd /content/ACTER"
      ],
      "metadata": {
        "colab": {
          "base_uri": "https://localhost:8080/"
        },
        "id": "IfCPdbitmcnO",
        "outputId": "b89a1ee8-54d0-4781-d4c3-517c9e069c90"
      },
      "execution_count": 3,
      "outputs": [
        {
          "output_type": "stream",
          "name": "stdout",
          "text": [
            "/content/ACTER\n"
          ]
        }
      ]
    },
    {
      "cell_type": "code",
      "source": [
        "%cd /content/acter-ner/term_extractor"
      ],
      "metadata": {
        "colab": {
          "base_uri": "https://localhost:8080/"
        },
        "id": "U0nNt6v-mJi-",
        "outputId": "8e1e48f1-e994-490b-acee-ba348f953a58"
      },
      "execution_count": 4,
      "outputs": [
        {
          "output_type": "stream",
          "name": "stdout",
          "text": [
            "/content/acter-ner/term_extractor\n"
          ]
        }
      ]
    },
    {
      "cell_type": "code",
      "source": [
        "from google.colab import drive\n",
        "drive.mount('/gdrive')"
      ],
      "metadata": {
        "colab": {
          "base_uri": "https://localhost:8080/"
        },
        "id": "nwQaahjDVWjI",
        "outputId": "a65ffd97-3ed4-4a68-ec8f-f020ad61c449"
      },
      "execution_count": 5,
      "outputs": [
        {
          "output_type": "stream",
          "name": "stdout",
          "text": [
            "Mounted at /gdrive\n"
          ]
        }
      ]
    },
    {
      "cell_type": "code",
      "source": [
        "ls"
      ],
      "metadata": {
        "colab": {
          "base_uri": "https://localhost:8080/"
        },
        "id": "tKm-vAEvmQW9",
        "outputId": "d5899de3-5463-44cd-adaa-4edde4d336cb"
      },
      "execution_count": 6,
      "outputs": [
        {
          "output_type": "stream",
          "name": "stdout",
          "text": [
            "combine_corpora.sh    \u001b[0m\u001b[01;34minput_data\u001b[0m/          test_full.tsv   train_spacy_model.py\n",
            "\u001b[01;34mconfigs\u001b[0m/              \u001b[01;34moutput\u001b[0m/              train_full.tsv  Untitled.ipynb\n",
            "dataset_processor.py  preprocess_acter.py  train_model.py\n"
          ]
        }
      ]
    },
    {
      "cell_type": "code",
      "source": [
        "!git checkout colab-dry-run"
      ],
      "metadata": {
        "colab": {
          "base_uri": "https://localhost:8080/"
        },
        "id": "b-6rpUVOol5A",
        "outputId": "b6cb4ea7-b5e9-44f0-de73-db1687ab07fe"
      },
      "execution_count": 7,
      "outputs": [
        {
          "output_type": "stream",
          "name": "stdout",
          "text": [
            "D\tterm_extractor/output/test_full.spacy\n",
            "D\tterm_extractor/output/train_full.spacy\n",
            "M\tterm_extractor/test_full.tsv\n",
            "M\tterm_extractor/train_full.tsv\n",
            "Already on 'colab-dry-run'\n",
            "Your branch is up to date with 'origin/colab-dry-run'.\n"
          ]
        }
      ]
    },
    {
      "cell_type": "code",
      "source": [
        "!bash combine_corpora.sh"
      ],
      "metadata": {
        "colab": {
          "base_uri": "https://localhost:8080/"
        },
        "id": "1WlGm-kRl9tu",
        "outputId": "5c0155c8-cf35-47ad-9127-d476767b079e"
      },
      "execution_count": 8,
      "outputs": [
        {
          "output_type": "stream",
          "name": "stdout",
          "text": [
            "\n",
            "Processing directory: /content/ACTER/en/corp/annotated/annotations/sequential_annotations/iob_annotations/without_named_entities\n",
            "Processed /content/ACTER/en/corp/annotated/annotations/sequential_annotations/iob_annotations/without_named_entities/corp_en_19_seq_terms.tsv: 56 sentences\n",
            "Processed /content/ACTER/en/corp/annotated/annotations/sequential_annotations/iob_annotations/without_named_entities/corp_en_12_seq_terms.tsv: 278 sentences\n",
            "Processed /content/ACTER/en/corp/annotated/annotations/sequential_annotations/iob_annotations/without_named_entities/corp_en_01_seq_terms.tsv: 227 sentences\n",
            "Processed /content/ACTER/en/corp/annotated/annotations/sequential_annotations/iob_annotations/without_named_entities/corp_en_10_seq_terms.tsv: 28 sentences\n",
            "Processed /content/ACTER/en/corp/annotated/annotations/sequential_annotations/iob_annotations/without_named_entities/corp_en_09_seq_terms.tsv: 107 sentences\n",
            "Processed /content/ACTER/en/corp/annotated/annotations/sequential_annotations/iob_annotations/without_named_entities/corp_en_11_seq_terms.tsv: 273 sentences\n",
            "Processed /content/ACTER/en/corp/annotated/annotations/sequential_annotations/iob_annotations/without_named_entities/corp_en_05_seq_terms.tsv: 51 sentences\n",
            "Processed /content/ACTER/en/corp/annotated/annotations/sequential_annotations/iob_annotations/without_named_entities/corp_en_02_seq_terms.tsv: 59 sentences\n",
            "Processed /content/ACTER/en/corp/annotated/annotations/sequential_annotations/iob_annotations/without_named_entities/corp_en_07_seq_terms.tsv: 334 sentences\n",
            "Processed /content/ACTER/en/corp/annotated/annotations/sequential_annotations/iob_annotations/without_named_entities/corp_en_04_seq_terms.tsv: 62 sentences\n",
            "Processed /content/ACTER/en/corp/annotated/annotations/sequential_annotations/iob_annotations/without_named_entities/corp_en_06_seq_terms.tsv: 364 sentences\n",
            "Processed /content/ACTER/en/corp/annotated/annotations/sequential_annotations/iob_annotations/without_named_entities/corp_en_08_seq_terms.tsv: 163 sentences\n",
            "\n",
            "Processing directory: /content/ACTER/en/equi/annotated/annotations/sequential_annotations/iob_annotations/without_named_entities\n",
            "Processed /content/ACTER/en/equi/annotated/annotations/sequential_annotations/iob_annotations/without_named_entities/equi_en_017_seq_terms.tsv: 57 sentences\n",
            "Processed /content/ACTER/en/equi/annotated/annotations/sequential_annotations/iob_annotations/without_named_entities/equi_en_030_seq_terms.tsv: 173 sentences\n",
            "Processed /content/ACTER/en/equi/annotated/annotations/sequential_annotations/iob_annotations/without_named_entities/equi_en_028_seq_terms.tsv: 70 sentences\n",
            "Processed /content/ACTER/en/equi/annotated/annotations/sequential_annotations/iob_annotations/without_named_entities/equi_en_034_seq_terms.tsv: 175 sentences\n",
            "Processed /content/ACTER/en/equi/annotated/annotations/sequential_annotations/iob_annotations/without_named_entities/equi_en_001_seq_terms.tsv: 304 sentences\n",
            "Processed /content/ACTER/en/equi/annotated/annotations/sequential_annotations/iob_annotations/without_named_entities/equi_en_015_seq_terms.tsv: 36 sentences\n",
            "Processed /content/ACTER/en/equi/annotated/annotations/sequential_annotations/iob_annotations/without_named_entities/equi_en_020_seq_terms.tsv: 30 sentences\n",
            "Processed /content/ACTER/en/equi/annotated/annotations/sequential_annotations/iob_annotations/without_named_entities/equi_en_022_seq_terms.tsv: 22 sentences\n",
            "Processed /content/ACTER/en/equi/annotated/annotations/sequential_annotations/iob_annotations/without_named_entities/equi_en_025_seq_terms.tsv: 97 sentences\n",
            "Processed /content/ACTER/en/equi/annotated/annotations/sequential_annotations/iob_annotations/without_named_entities/equi_en_027_seq_terms.tsv: 46 sentences\n",
            "Processed /content/ACTER/en/equi/annotated/annotations/sequential_annotations/iob_annotations/without_named_entities/equi_en_013_seq_terms.tsv: 74 sentences\n",
            "Processed /content/ACTER/en/equi/annotated/annotations/sequential_annotations/iob_annotations/without_named_entities/equi_en_007_seq_terms.tsv: 28 sentences\n",
            "Processed /content/ACTER/en/equi/annotated/annotations/sequential_annotations/iob_annotations/without_named_entities/equi_en_016_seq_terms.tsv: 88 sentences\n",
            "Processed /content/ACTER/en/equi/annotated/annotations/sequential_annotations/iob_annotations/without_named_entities/equi_en_005_seq_terms.tsv: 24 sentences\n",
            "Processed /content/ACTER/en/equi/annotated/annotations/sequential_annotations/iob_annotations/without_named_entities/equi_en_021_seq_terms.tsv: 144 sentences\n",
            "Processed /content/ACTER/en/equi/annotated/annotations/sequential_annotations/iob_annotations/without_named_entities/equi_en_004_seq_terms.tsv: 41 sentences\n",
            "Processed /content/ACTER/en/equi/annotated/annotations/sequential_annotations/iob_annotations/without_named_entities/equi_en_006_seq_terms.tsv: 9 sentences\n",
            "Processed /content/ACTER/en/equi/annotated/annotations/sequential_annotations/iob_annotations/without_named_entities/equi_en_003_seq_terms.tsv: 74 sentences\n",
            "Processed /content/ACTER/en/equi/annotated/annotations/sequential_annotations/iob_annotations/without_named_entities/equi_en_026_seq_terms.tsv: 149 sentences\n",
            "Processed /content/ACTER/en/equi/annotated/annotations/sequential_annotations/iob_annotations/without_named_entities/equi_en_023_seq_terms.tsv: 104 sentences\n",
            "Processed /content/ACTER/en/equi/annotated/annotations/sequential_annotations/iob_annotations/without_named_entities/equi_en_029_seq_terms.tsv: 316 sentences\n",
            "Processed /content/ACTER/en/equi/annotated/annotations/sequential_annotations/iob_annotations/without_named_entities/equi_en_018_seq_terms.tsv: 8 sentences\n",
            "Processed /content/ACTER/en/equi/annotated/annotations/sequential_annotations/iob_annotations/without_named_entities/equi_en_008_seq_terms.tsv: 101 sentences\n",
            "Processed /content/ACTER/en/equi/annotated/annotations/sequential_annotations/iob_annotations/without_named_entities/equi_en_033_seq_terms.tsv: 180 sentences\n",
            "Processed /content/ACTER/en/equi/annotated/annotations/sequential_annotations/iob_annotations/without_named_entities/equi_en_019_seq_terms.tsv: 65 sentences\n",
            "Processed /content/ACTER/en/equi/annotated/annotations/sequential_annotations/iob_annotations/without_named_entities/equi_en_011_seq_terms.tsv: 45 sentences\n",
            "Processed /content/ACTER/en/equi/annotated/annotations/sequential_annotations/iob_annotations/without_named_entities/equi_en_032_seq_terms.tsv: 54 sentences\n",
            "Processed /content/ACTER/en/equi/annotated/annotations/sequential_annotations/iob_annotations/without_named_entities/equi_en_009_seq_terms.tsv: 26 sentences\n",
            "Processed /content/ACTER/en/equi/annotated/annotations/sequential_annotations/iob_annotations/without_named_entities/equi_en_024_seq_terms.tsv: 19 sentences\n",
            "Processed /content/ACTER/en/equi/annotated/annotations/sequential_annotations/iob_annotations/without_named_entities/equi_en_002_seq_terms.tsv: 265 sentences\n",
            "Processed /content/ACTER/en/equi/annotated/annotations/sequential_annotations/iob_annotations/without_named_entities/equi_en_031_seq_terms.tsv: 36 sentences\n",
            "Processed /content/ACTER/en/equi/annotated/annotations/sequential_annotations/iob_annotations/without_named_entities/equi_en_012_seq_terms.tsv: 37 sentences\n",
            "Processed /content/ACTER/en/equi/annotated/annotations/sequential_annotations/iob_annotations/without_named_entities/equi_en_014_seq_terms.tsv: 67 sentences\n",
            "Processed /content/ACTER/en/equi/annotated/annotations/sequential_annotations/iob_annotations/without_named_entities/equi_en_010_seq_terms.tsv: 126 sentences\n",
            "\n",
            "Processing directory: /content/ACTER/en/htfl/annotated/annotations/sequential_annotations/iob_annotations/without_named_entities\n",
            "Processed /content/ACTER/en/htfl/annotated/annotations/sequential_annotations/iob_annotations/without_named_entities/htfl_en_120_seq_terms.tsv: 14 sentences\n",
            "Processed /content/ACTER/en/htfl/annotated/annotations/sequential_annotations/iob_annotations/without_named_entities/htfl_en_064_seq_terms.tsv: 14 sentences\n",
            "Processed /content/ACTER/en/htfl/annotated/annotations/sequential_annotations/iob_annotations/without_named_entities/htfl_en_160_seq_terms.tsv: 18 sentences\n",
            "Processed /content/ACTER/en/htfl/annotated/annotations/sequential_annotations/iob_annotations/without_named_entities/htfl_en_072_seq_terms.tsv: 20 sentences\n",
            "Processed /content/ACTER/en/htfl/annotated/annotations/sequential_annotations/iob_annotations/without_named_entities/htfl_en_174_seq_terms.tsv: 9 sentences\n",
            "Processed /content/ACTER/en/htfl/annotated/annotations/sequential_annotations/iob_annotations/without_named_entities/htfl_en_159_seq_terms.tsv: 9 sentences\n",
            "Processed /content/ACTER/en/htfl/annotated/annotations/sequential_annotations/iob_annotations/without_named_entities/htfl_en_027_seq_terms.tsv: 15 sentences\n",
            "Processed /content/ACTER/en/htfl/annotated/annotations/sequential_annotations/iob_annotations/without_named_entities/htfl_en_076_seq_terms.tsv: 15 sentences\n",
            "Processed /content/ACTER/en/htfl/annotated/annotations/sequential_annotations/iob_annotations/without_named_entities/htfl_en_133_seq_terms.tsv: 9 sentences\n",
            "Processed /content/ACTER/en/htfl/annotated/annotations/sequential_annotations/iob_annotations/without_named_entities/htfl_en_062_seq_terms.tsv: 14 sentences\n",
            "Processed /content/ACTER/en/htfl/annotated/annotations/sequential_annotations/iob_annotations/without_named_entities/htfl_en_094_seq_terms.tsv: 8 sentences\n",
            "Processed /content/ACTER/en/htfl/annotated/annotations/sequential_annotations/iob_annotations/without_named_entities/htfl_en_105_seq_terms.tsv: 4 sentences\n",
            "Processed /content/ACTER/en/htfl/annotated/annotations/sequential_annotations/iob_annotations/without_named_entities/htfl_en_044_seq_terms.tsv: 12 sentences\n",
            "Processed /content/ACTER/en/htfl/annotated/annotations/sequential_annotations/iob_annotations/without_named_entities/htfl_en_043_seq_terms.tsv: 10 sentences\n",
            "Processed /content/ACTER/en/htfl/annotated/annotations/sequential_annotations/iob_annotations/without_named_entities/htfl_en_046_seq_terms.tsv: 13 sentences\n",
            "Processed /content/ACTER/en/htfl/annotated/annotations/sequential_annotations/iob_annotations/without_named_entities/htfl_en_091_seq_terms.tsv: 7 sentences\n",
            "Processed /content/ACTER/en/htfl/annotated/annotations/sequential_annotations/iob_annotations/without_named_entities/htfl_en_121_seq_terms.tsv: 7 sentences\n",
            "Processed /content/ACTER/en/htfl/annotated/annotations/sequential_annotations/iob_annotations/without_named_entities/htfl_en_116_seq_terms.tsv: 6 sentences\n",
            "Processed /content/ACTER/en/htfl/annotated/annotations/sequential_annotations/iob_annotations/without_named_entities/htfl_en_070_seq_terms.tsv: 12 sentences\n",
            "Processed /content/ACTER/en/htfl/annotated/annotations/sequential_annotations/iob_annotations/without_named_entities/htfl_en_190_seq_terms.tsv: 6 sentences\n",
            "Processed /content/ACTER/en/htfl/annotated/annotations/sequential_annotations/iob_annotations/without_named_entities/htfl_en_045_seq_terms.tsv: 12 sentences\n",
            "Processed /content/ACTER/en/htfl/annotated/annotations/sequential_annotations/iob_annotations/without_named_entities/htfl_en_031_seq_terms.tsv: 12 sentences\n",
            "Processed /content/ACTER/en/htfl/annotated/annotations/sequential_annotations/iob_annotations/without_named_entities/htfl_en_188_seq_terms.tsv: 20 sentences\n",
            "Processed /content/ACTER/en/htfl/annotated/annotations/sequential_annotations/iob_annotations/without_named_entities/htfl_en_147_seq_terms.tsv: 12 sentences\n",
            "Processed /content/ACTER/en/htfl/annotated/annotations/sequential_annotations/iob_annotations/without_named_entities/htfl_en_023_seq_terms.tsv: 22 sentences\n",
            "Processed /content/ACTER/en/htfl/annotated/annotations/sequential_annotations/iob_annotations/without_named_entities/htfl_en_088_seq_terms.tsv: 20 sentences\n",
            "Processed /content/ACTER/en/htfl/annotated/annotations/sequential_annotations/iob_annotations/without_named_entities/htfl_en_138_seq_terms.tsv: 6 sentences\n",
            "Processed /content/ACTER/en/htfl/annotated/annotations/sequential_annotations/iob_annotations/without_named_entities/htfl_en_118_seq_terms.tsv: 14 sentences\n",
            "Processed /content/ACTER/en/htfl/annotated/annotations/sequential_annotations/iob_annotations/without_named_entities/htfl_en_003_seq_terms.tsv: 8 sentences\n",
            "Processed /content/ACTER/en/htfl/annotated/annotations/sequential_annotations/iob_annotations/without_named_entities/htfl_en_100_seq_terms.tsv: 18 sentences\n",
            "Processed /content/ACTER/en/htfl/annotated/annotations/sequential_annotations/iob_annotations/without_named_entities/htfl_en_115_seq_terms.tsv: 13 sentences\n",
            "Processed /content/ACTER/en/htfl/annotated/annotations/sequential_annotations/iob_annotations/without_named_entities/htfl_en_093_seq_terms.tsv: 14 sentences\n",
            "Processed /content/ACTER/en/htfl/annotated/annotations/sequential_annotations/iob_annotations/without_named_entities/htfl_en_052_seq_terms.tsv: 20 sentences\n",
            "Processed /content/ACTER/en/htfl/annotated/annotations/sequential_annotations/iob_annotations/without_named_entities/htfl_en_146_seq_terms.tsv: 8 sentences\n",
            "Processed /content/ACTER/en/htfl/annotated/annotations/sequential_annotations/iob_annotations/without_named_entities/htfl_en_189_seq_terms.tsv: 15 sentences\n",
            "Processed /content/ACTER/en/htfl/annotated/annotations/sequential_annotations/iob_annotations/without_named_entities/htfl_en_042_seq_terms.tsv: 8 sentences\n",
            "Processed /content/ACTER/en/htfl/annotated/annotations/sequential_annotations/iob_annotations/without_named_entities/htfl_en_155_seq_terms.tsv: 18 sentences\n",
            "Processed /content/ACTER/en/htfl/annotated/annotations/sequential_annotations/iob_annotations/without_named_entities/htfl_en_014_seq_terms.tsv: 19 sentences\n",
            "Processed /content/ACTER/en/htfl/annotated/annotations/sequential_annotations/iob_annotations/without_named_entities/htfl_en_067_seq_terms.tsv: 17 sentences\n",
            "Processed /content/ACTER/en/htfl/annotated/annotations/sequential_annotations/iob_annotations/without_named_entities/htfl_en_108_seq_terms.tsv: 11 sentences\n",
            "Processed /content/ACTER/en/htfl/annotated/annotations/sequential_annotations/iob_annotations/without_named_entities/htfl_en_098_seq_terms.tsv: 14 sentences\n",
            "Processed /content/ACTER/en/htfl/annotated/annotations/sequential_annotations/iob_annotations/without_named_entities/htfl_en_060_seq_terms.tsv: 6 sentences\n",
            "Processed /content/ACTER/en/htfl/annotated/annotations/sequential_annotations/iob_annotations/without_named_entities/htfl_en_006_seq_terms.tsv: 3 sentences\n",
            "Processed /content/ACTER/en/htfl/annotated/annotations/sequential_annotations/iob_annotations/without_named_entities/htfl_en_038_seq_terms.tsv: 17 sentences\n",
            "Processed /content/ACTER/en/htfl/annotated/annotations/sequential_annotations/iob_annotations/without_named_entities/htfl_en_109_seq_terms.tsv: 17 sentences\n",
            "Processed /content/ACTER/en/htfl/annotated/annotations/sequential_annotations/iob_annotations/without_named_entities/htfl_en_182_seq_terms.tsv: 17 sentences\n",
            "Processed /content/ACTER/en/htfl/annotated/annotations/sequential_annotations/iob_annotations/without_named_entities/htfl_en_097_seq_terms.tsv: 15 sentences\n",
            "Processed /content/ACTER/en/htfl/annotated/annotations/sequential_annotations/iob_annotations/without_named_entities/htfl_en_156_seq_terms.tsv: 7 sentences\n",
            "Processed /content/ACTER/en/htfl/annotated/annotations/sequential_annotations/iob_annotations/without_named_entities/htfl_en_114_seq_terms.tsv: 11 sentences\n",
            "Processed /content/ACTER/en/htfl/annotated/annotations/sequential_annotations/iob_annotations/without_named_entities/htfl_en_011_seq_terms.tsv: 13 sentences\n",
            "Processed /content/ACTER/en/htfl/annotated/annotations/sequential_annotations/iob_annotations/without_named_entities/htfl_en_122_seq_terms.tsv: 4 sentences\n",
            "Processed /content/ACTER/en/htfl/annotated/annotations/sequential_annotations/iob_annotations/without_named_entities/htfl_en_173_seq_terms.tsv: 9 sentences\n",
            "Processed /content/ACTER/en/htfl/annotated/annotations/sequential_annotations/iob_annotations/without_named_entities/htfl_en_004_seq_terms.tsv: 11 sentences\n",
            "Processed /content/ACTER/en/htfl/annotated/annotations/sequential_annotations/iob_annotations/without_named_entities/htfl_en_034_seq_terms.tsv: 12 sentences\n",
            "Processed /content/ACTER/en/htfl/annotated/annotations/sequential_annotations/iob_annotations/without_named_entities/htfl_en_181_seq_terms.tsv: 14 sentences\n",
            "Processed /content/ACTER/en/htfl/annotated/annotations/sequential_annotations/iob_annotations/without_named_entities/htfl_en_187_seq_terms.tsv: 26 sentences\n",
            "Processed /content/ACTER/en/htfl/annotated/annotations/sequential_annotations/iob_annotations/without_named_entities/htfl_en_141_seq_terms.tsv: 7 sentences\n",
            "Processed /content/ACTER/en/htfl/annotated/annotations/sequential_annotations/iob_annotations/without_named_entities/htfl_en_145_seq_terms.tsv: 16 sentences\n",
            "Processed /content/ACTER/en/htfl/annotated/annotations/sequential_annotations/iob_annotations/without_named_entities/htfl_en_180_seq_terms.tsv: 12 sentences\n",
            "Processed /content/ACTER/en/htfl/annotated/annotations/sequential_annotations/iob_annotations/without_named_entities/htfl_en_166_seq_terms.tsv: 16 sentences\n",
            "Processed /content/ACTER/en/htfl/annotated/annotations/sequential_annotations/iob_annotations/without_named_entities/htfl_en_049_seq_terms.tsv: 17 sentences\n",
            "Processed /content/ACTER/en/htfl/annotated/annotations/sequential_annotations/iob_annotations/without_named_entities/htfl_en_176_seq_terms.tsv: 16 sentences\n",
            "Processed /content/ACTER/en/htfl/annotated/annotations/sequential_annotations/iob_annotations/without_named_entities/htfl_en_171_seq_terms.tsv: 6 sentences\n",
            "Processed /content/ACTER/en/htfl/annotated/annotations/sequential_annotations/iob_annotations/without_named_entities/htfl_en_030_seq_terms.tsv: 17 sentences\n",
            "Processed /content/ACTER/en/htfl/annotated/annotations/sequential_annotations/iob_annotations/without_named_entities/htfl_en_104_seq_terms.tsv: 5 sentences\n",
            "Processed /content/ACTER/en/htfl/annotated/annotations/sequential_annotations/iob_annotations/without_named_entities/htfl_en_074_seq_terms.tsv: 14 sentences\n",
            "Processed /content/ACTER/en/htfl/annotated/annotations/sequential_annotations/iob_annotations/without_named_entities/htfl_en_017_seq_terms.tsv: 10 sentences\n",
            "Processed /content/ACTER/en/htfl/annotated/annotations/sequential_annotations/iob_annotations/without_named_entities/htfl_en_117_seq_terms.tsv: 14 sentences\n",
            "Processed /content/ACTER/en/htfl/annotated/annotations/sequential_annotations/iob_annotations/without_named_entities/htfl_en_037_seq_terms.tsv: 17 sentences\n",
            "Processed /content/ACTER/en/htfl/annotated/annotations/sequential_annotations/iob_annotations/without_named_entities/htfl_en_089_seq_terms.tsv: 16 sentences\n",
            "Processed /content/ACTER/en/htfl/annotated/annotations/sequential_annotations/iob_annotations/without_named_entities/htfl_en_172_seq_terms.tsv: 4 sentences\n",
            "Processed /content/ACTER/en/htfl/annotated/annotations/sequential_annotations/iob_annotations/without_named_entities/htfl_en_150_seq_terms.tsv: 8 sentences\n",
            "Processed /content/ACTER/en/htfl/annotated/annotations/sequential_annotations/iob_annotations/without_named_entities/htfl_en_007_seq_terms.tsv: 3 sentences\n",
            "Processed /content/ACTER/en/htfl/annotated/annotations/sequential_annotations/iob_annotations/without_named_entities/htfl_en_009_seq_terms.tsv: 20 sentences\n",
            "Processed /content/ACTER/en/htfl/annotated/annotations/sequential_annotations/iob_annotations/without_named_entities/htfl_en_183_seq_terms.tsv: 14 sentences\n",
            "Processed /content/ACTER/en/htfl/annotated/annotations/sequential_annotations/iob_annotations/without_named_entities/htfl_en_016_seq_terms.tsv: 26 sentences\n",
            "Processed /content/ACTER/en/htfl/annotated/annotations/sequential_annotations/iob_annotations/without_named_entities/htfl_en_135_seq_terms.tsv: 4 sentences\n",
            "Processed /content/ACTER/en/htfl/annotated/annotations/sequential_annotations/iob_annotations/without_named_entities/htfl_en_178_seq_terms.tsv: 18 sentences\n",
            "Processed /content/ACTER/en/htfl/annotated/annotations/sequential_annotations/iob_annotations/without_named_entities/htfl_en_015_seq_terms.tsv: 17 sentences\n",
            "Processed /content/ACTER/en/htfl/annotated/annotations/sequential_annotations/iob_annotations/without_named_entities/htfl_en_163_seq_terms.tsv: 17 sentences\n",
            "Processed /content/ACTER/en/htfl/annotated/annotations/sequential_annotations/iob_annotations/without_named_entities/htfl_en_080_seq_terms.tsv: 11 sentences\n",
            "Processed /content/ACTER/en/htfl/annotated/annotations/sequential_annotations/iob_annotations/without_named_entities/htfl_en_167_seq_terms.tsv: 16 sentences\n",
            "Processed /content/ACTER/en/htfl/annotated/annotations/sequential_annotations/iob_annotations/without_named_entities/htfl_en_153_seq_terms.tsv: 20 sentences\n",
            "Processed /content/ACTER/en/htfl/annotated/annotations/sequential_annotations/iob_annotations/without_named_entities/htfl_en_132_seq_terms.tsv: 14 sentences\n",
            "Processed /content/ACTER/en/htfl/annotated/annotations/sequential_annotations/iob_annotations/without_named_entities/htfl_en_126_seq_terms.tsv: 15 sentences\n",
            "Processed /content/ACTER/en/htfl/annotated/annotations/sequential_annotations/iob_annotations/without_named_entities/htfl_en_082_seq_terms.tsv: 8 sentences\n",
            "Processed /content/ACTER/en/htfl/annotated/annotations/sequential_annotations/iob_annotations/without_named_entities/htfl_en_175_seq_terms.tsv: 24 sentences\n",
            "Processed /content/ACTER/en/htfl/annotated/annotations/sequential_annotations/iob_annotations/without_named_entities/htfl_en_079_seq_terms.tsv: 13 sentences\n",
            "Processed /content/ACTER/en/htfl/annotated/annotations/sequential_annotations/iob_annotations/without_named_entities/htfl_en_177_seq_terms.tsv: 17 sentences\n",
            "Processed /content/ACTER/en/htfl/annotated/annotations/sequential_annotations/iob_annotations/without_named_entities/htfl_en_047_seq_terms.tsv: 18 sentences\n",
            "Processed /content/ACTER/en/htfl/annotated/annotations/sequential_annotations/iob_annotations/without_named_entities/htfl_en_113_seq_terms.tsv: 7 sentences\n",
            "Processed /content/ACTER/en/htfl/annotated/annotations/sequential_annotations/iob_annotations/without_named_entities/htfl_en_158_seq_terms.tsv: 9 sentences\n",
            "Processed /content/ACTER/en/htfl/annotated/annotations/sequential_annotations/iob_annotations/without_named_entities/htfl_en_142_seq_terms.tsv: 17 sentences\n",
            "Processed /content/ACTER/en/htfl/annotated/annotations/sequential_annotations/iob_annotations/without_named_entities/htfl_en_164_seq_terms.tsv: 16 sentences\n",
            "Processed /content/ACTER/en/htfl/annotated/annotations/sequential_annotations/iob_annotations/without_named_entities/htfl_en_165_seq_terms.tsv: 7 sentences\n",
            "Processed /content/ACTER/en/htfl/annotated/annotations/sequential_annotations/iob_annotations/without_named_entities/htfl_en_148_seq_terms.tsv: 7 sentences\n",
            "Processed /content/ACTER/en/htfl/annotated/annotations/sequential_annotations/iob_annotations/without_named_entities/htfl_en_083_seq_terms.tsv: 3 sentences\n",
            "Processed /content/ACTER/en/htfl/annotated/annotations/sequential_annotations/iob_annotations/without_named_entities/htfl_en_095_seq_terms.tsv: 12 sentences\n",
            "Processed /content/ACTER/en/htfl/annotated/annotations/sequential_annotations/iob_annotations/without_named_entities/htfl_en_086_seq_terms.tsv: 11 sentences\n",
            "Processed /content/ACTER/en/htfl/annotated/annotations/sequential_annotations/iob_annotations/without_named_entities/htfl_en_063_seq_terms.tsv: 15 sentences\n",
            "Processed /content/ACTER/en/htfl/annotated/annotations/sequential_annotations/iob_annotations/without_named_entities/htfl_en_058_seq_terms.tsv: 5 sentences\n",
            "Processed /content/ACTER/en/htfl/annotated/annotations/sequential_annotations/iob_annotations/without_named_entities/htfl_en_106_seq_terms.tsv: 19 sentences\n",
            "Processed /content/ACTER/en/htfl/annotated/annotations/sequential_annotations/iob_annotations/without_named_entities/htfl_en_032_seq_terms.tsv: 17 sentences\n",
            "Processed /content/ACTER/en/htfl/annotated/annotations/sequential_annotations/iob_annotations/without_named_entities/htfl_en_040_seq_terms.tsv: 10 sentences\n",
            "Processed /content/ACTER/en/htfl/annotated/annotations/sequential_annotations/iob_annotations/without_named_entities/htfl_en_112_seq_terms.tsv: 6 sentences\n",
            "Processed /content/ACTER/en/htfl/annotated/annotations/sequential_annotations/iob_annotations/without_named_entities/htfl_en_084_seq_terms.tsv: 18 sentences\n",
            "Processed /content/ACTER/en/htfl/annotated/annotations/sequential_annotations/iob_annotations/without_named_entities/htfl_en_036_seq_terms.tsv: 17 sentences\n",
            "Processed /content/ACTER/en/htfl/annotated/annotations/sequential_annotations/iob_annotations/without_named_entities/htfl_en_012_seq_terms.tsv: 9 sentences\n",
            "Processed /content/ACTER/en/htfl/annotated/annotations/sequential_annotations/iob_annotations/without_named_entities/htfl_en_078_seq_terms.tsv: 18 sentences\n",
            "Processed /content/ACTER/en/htfl/annotated/annotations/sequential_annotations/iob_annotations/without_named_entities/htfl_en_073_seq_terms.tsv: 17 sentences\n",
            "Processed /content/ACTER/en/htfl/annotated/annotations/sequential_annotations/iob_annotations/without_named_entities/htfl_en_162_seq_terms.tsv: 13 sentences\n",
            "Processed /content/ACTER/en/htfl/annotated/annotations/sequential_annotations/iob_annotations/without_named_entities/htfl_en_110_seq_terms.tsv: 14 sentences\n",
            "Processed /content/ACTER/en/htfl/annotated/annotations/sequential_annotations/iob_annotations/without_named_entities/htfl_en_092_seq_terms.tsv: 6 sentences\n",
            "Processed /content/ACTER/en/htfl/annotated/annotations/sequential_annotations/iob_annotations/without_named_entities/htfl_en_055_seq_terms.tsv: 16 sentences\n",
            "Processed /content/ACTER/en/htfl/annotated/annotations/sequential_annotations/iob_annotations/without_named_entities/htfl_en_018_seq_terms.tsv: 7 sentences\n",
            "Processed /content/ACTER/en/htfl/annotated/annotations/sequential_annotations/iob_annotations/without_named_entities/htfl_en_020_seq_terms.tsv: 16 sentences\n",
            "Processed /content/ACTER/en/htfl/annotated/annotations/sequential_annotations/iob_annotations/without_named_entities/htfl_en_140_seq_terms.tsv: 16 sentences\n",
            "Processed /content/ACTER/en/htfl/annotated/annotations/sequential_annotations/iob_annotations/without_named_entities/htfl_en_025_seq_terms.tsv: 10 sentences\n",
            "Processed /content/ACTER/en/htfl/annotated/annotations/sequential_annotations/iob_annotations/without_named_entities/htfl_en_090_seq_terms.tsv: 15 sentences\n",
            "Processed /content/ACTER/en/htfl/annotated/annotations/sequential_annotations/iob_annotations/without_named_entities/htfl_en_021_seq_terms.tsv: 6 sentences\n",
            "Processed /content/ACTER/en/htfl/annotated/annotations/sequential_annotations/iob_annotations/without_named_entities/htfl_en_099_seq_terms.tsv: 11 sentences\n",
            "Processed /content/ACTER/en/htfl/annotated/annotations/sequential_annotations/iob_annotations/without_named_entities/htfl_en_056_seq_terms.tsv: 13 sentences\n",
            "Processed /content/ACTER/en/htfl/annotated/annotations/sequential_annotations/iob_annotations/without_named_entities/htfl_en_168_seq_terms.tsv: 15 sentences\n",
            "Processed /content/ACTER/en/htfl/annotated/annotations/sequential_annotations/iob_annotations/without_named_entities/htfl_en_157_seq_terms.tsv: 8 sentences\n",
            "Processed /content/ACTER/en/htfl/annotated/annotations/sequential_annotations/iob_annotations/without_named_entities/htfl_en_184_seq_terms.tsv: 16 sentences\n",
            "Processed /content/ACTER/en/htfl/annotated/annotations/sequential_annotations/iob_annotations/without_named_entities/htfl_en_087_seq_terms.tsv: 3 sentences\n",
            "Processed /content/ACTER/en/htfl/annotated/annotations/sequential_annotations/iob_annotations/without_named_entities/htfl_en_061_seq_terms.tsv: 7 sentences\n",
            "Processed /content/ACTER/en/htfl/annotated/annotations/sequential_annotations/iob_annotations/without_named_entities/htfl_en_019_seq_terms.tsv: 12 sentences\n",
            "Processed /content/ACTER/en/htfl/annotated/annotations/sequential_annotations/iob_annotations/without_named_entities/htfl_en_029_seq_terms.tsv: 13 sentences\n",
            "Processed /content/ACTER/en/htfl/annotated/annotations/sequential_annotations/iob_annotations/without_named_entities/htfl_en_161_seq_terms.tsv: 12 sentences\n",
            "Processed /content/ACTER/en/htfl/annotated/annotations/sequential_annotations/iob_annotations/without_named_entities/htfl_en_026_seq_terms.tsv: 21 sentences\n",
            "Processed /content/ACTER/en/htfl/annotated/annotations/sequential_annotations/iob_annotations/without_named_entities/htfl_en_085_seq_terms.tsv: 5 sentences\n",
            "Processed /content/ACTER/en/htfl/annotated/annotations/sequential_annotations/iob_annotations/without_named_entities/htfl_en_107_seq_terms.tsv: 14 sentences\n",
            "Processed /content/ACTER/en/htfl/annotated/annotations/sequential_annotations/iob_annotations/without_named_entities/htfl_en_071_seq_terms.tsv: 16 sentences\n",
            "Processed /content/ACTER/en/htfl/annotated/annotations/sequential_annotations/iob_annotations/without_named_entities/htfl_en_151_seq_terms.tsv: 13 sentences\n",
            "Processed /content/ACTER/en/htfl/annotated/annotations/sequential_annotations/iob_annotations/without_named_entities/htfl_en_152_seq_terms.tsv: 16 sentences\n",
            "Processed /content/ACTER/en/htfl/annotated/annotations/sequential_annotations/iob_annotations/without_named_entities/htfl_en_057_seq_terms.tsv: 17 sentences\n",
            "Processed /content/ACTER/en/htfl/annotated/annotations/sequential_annotations/iob_annotations/without_named_entities/htfl_en_186_seq_terms.tsv: 10 sentences\n",
            "Processed /content/ACTER/en/htfl/annotated/annotations/sequential_annotations/iob_annotations/without_named_entities/htfl_en_130_seq_terms.tsv: 15 sentences\n",
            "Processed /content/ACTER/en/htfl/annotated/annotations/sequential_annotations/iob_annotations/without_named_entities/htfl_en_124_seq_terms.tsv: 6 sentences\n",
            "Processed /content/ACTER/en/htfl/annotated/annotations/sequential_annotations/iob_annotations/without_named_entities/htfl_en_001_seq_terms.tsv: 8 sentences\n",
            "Processed /content/ACTER/en/htfl/annotated/annotations/sequential_annotations/iob_annotations/without_named_entities/htfl_en_059_seq_terms.tsv: 7 sentences\n",
            "Processed /content/ACTER/en/htfl/annotated/annotations/sequential_annotations/iob_annotations/without_named_entities/htfl_en_119_seq_terms.tsv: 12 sentences\n",
            "Processed /content/ACTER/en/htfl/annotated/annotations/sequential_annotations/iob_annotations/without_named_entities/htfl_en_179_seq_terms.tsv: 12 sentences\n",
            "Processed /content/ACTER/en/htfl/annotated/annotations/sequential_annotations/iob_annotations/without_named_entities/htfl_en_053_seq_terms.tsv: 8 sentences\n",
            "Processed /content/ACTER/en/htfl/annotated/annotations/sequential_annotations/iob_annotations/without_named_entities/htfl_en_024_seq_terms.tsv: 12 sentences\n",
            "Processed /content/ACTER/en/htfl/annotated/annotations/sequential_annotations/iob_annotations/without_named_entities/htfl_en_123_seq_terms.tsv: 11 sentences\n",
            "Processed /content/ACTER/en/htfl/annotated/annotations/sequential_annotations/iob_annotations/without_named_entities/htfl_en_028_seq_terms.tsv: 11 sentences\n",
            "Processed /content/ACTER/en/htfl/annotated/annotations/sequential_annotations/iob_annotations/without_named_entities/htfl_en_170_seq_terms.tsv: 13 sentences\n",
            "Processed /content/ACTER/en/htfl/annotated/annotations/sequential_annotations/iob_annotations/without_named_entities/htfl_en_035_seq_terms.tsv: 15 sentences\n",
            "Processed /content/ACTER/en/htfl/annotated/annotations/sequential_annotations/iob_annotations/without_named_entities/htfl_en_134_seq_terms.tsv: 4 sentences\n",
            "Processed /content/ACTER/en/htfl/annotated/annotations/sequential_annotations/iob_annotations/without_named_entities/htfl_en_002_seq_terms.tsv: 17 sentences\n",
            "Processed /content/ACTER/en/htfl/annotated/annotations/sequential_annotations/iob_annotations/without_named_entities/htfl_en_149_seq_terms.tsv: 19 sentences\n",
            "Processed /content/ACTER/en/htfl/annotated/annotations/sequential_annotations/iob_annotations/without_named_entities/htfl_en_068_seq_terms.tsv: 14 sentences\n",
            "Processed /content/ACTER/en/htfl/annotated/annotations/sequential_annotations/iob_annotations/without_named_entities/htfl_en_129_seq_terms.tsv: 11 sentences\n",
            "Processed /content/ACTER/en/htfl/annotated/annotations/sequential_annotations/iob_annotations/without_named_entities/htfl_en_013_seq_terms.tsv: 9 sentences\n",
            "Processed /content/ACTER/en/htfl/annotated/annotations/sequential_annotations/iob_annotations/without_named_entities/htfl_en_077_seq_terms.tsv: 14 sentences\n",
            "Processed /content/ACTER/en/htfl/annotated/annotations/sequential_annotations/iob_annotations/without_named_entities/htfl_en_005_seq_terms.tsv: 15 sentences\n",
            "Processed /content/ACTER/en/htfl/annotated/annotations/sequential_annotations/iob_annotations/without_named_entities/htfl_en_096_seq_terms.tsv: 14 sentences\n",
            "Processed /content/ACTER/en/htfl/annotated/annotations/sequential_annotations/iob_annotations/without_named_entities/htfl_en_008_seq_terms.tsv: 16 sentences\n",
            "Processed /content/ACTER/en/htfl/annotated/annotations/sequential_annotations/iob_annotations/without_named_entities/htfl_en_144_seq_terms.tsv: 19 sentences\n",
            "Processed /content/ACTER/en/htfl/annotated/annotations/sequential_annotations/iob_annotations/without_named_entities/htfl_en_069_seq_terms.tsv: 6 sentences\n",
            "Processed /content/ACTER/en/htfl/annotated/annotations/sequential_annotations/iob_annotations/without_named_entities/htfl_en_127_seq_terms.tsv: 16 sentences\n",
            "Processed /content/ACTER/en/htfl/annotated/annotations/sequential_annotations/iob_annotations/without_named_entities/htfl_en_101_seq_terms.tsv: 16 sentences\n",
            "Processed /content/ACTER/en/htfl/annotated/annotations/sequential_annotations/iob_annotations/without_named_entities/htfl_en_051_seq_terms.tsv: 13 sentences\n",
            "Processed /content/ACTER/en/htfl/annotated/annotations/sequential_annotations/iob_annotations/without_named_entities/htfl_en_137_seq_terms.tsv: 8 sentences\n",
            "Processed /content/ACTER/en/htfl/annotated/annotations/sequential_annotations/iob_annotations/without_named_entities/htfl_en_102_seq_terms.tsv: 13 sentences\n",
            "Processed /content/ACTER/en/htfl/annotated/annotations/sequential_annotations/iob_annotations/without_named_entities/htfl_en_065_seq_terms.tsv: 15 sentences\n",
            "Processed /content/ACTER/en/htfl/annotated/annotations/sequential_annotations/iob_annotations/without_named_entities/htfl_en_041_seq_terms.tsv: 15 sentences\n",
            "Processed /content/ACTER/en/htfl/annotated/annotations/sequential_annotations/iob_annotations/without_named_entities/htfl_en_136_seq_terms.tsv: 6 sentences\n",
            "Processed /content/ACTER/en/htfl/annotated/annotations/sequential_annotations/iob_annotations/without_named_entities/htfl_en_022_seq_terms.tsv: 4 sentences\n",
            "Processed /content/ACTER/en/htfl/annotated/annotations/sequential_annotations/iob_annotations/without_named_entities/htfl_en_010_seq_terms.tsv: 4 sentences\n",
            "Processed /content/ACTER/en/htfl/annotated/annotations/sequential_annotations/iob_annotations/without_named_entities/htfl_en_081_seq_terms.tsv: 15 sentences\n",
            "Processed /content/ACTER/en/htfl/annotated/annotations/sequential_annotations/iob_annotations/without_named_entities/htfl_en_131_seq_terms.tsv: 11 sentences\n",
            "Processed /content/ACTER/en/htfl/annotated/annotations/sequential_annotations/iob_annotations/without_named_entities/htfl_en_128_seq_terms.tsv: 9 sentences\n",
            "Processed /content/ACTER/en/htfl/annotated/annotations/sequential_annotations/iob_annotations/without_named_entities/htfl_en_111_seq_terms.tsv: 13 sentences\n",
            "Processed /content/ACTER/en/htfl/annotated/annotations/sequential_annotations/iob_annotations/without_named_entities/htfl_en_039_seq_terms.tsv: 14 sentences\n",
            "Processed /content/ACTER/en/htfl/annotated/annotations/sequential_annotations/iob_annotations/without_named_entities/htfl_en_050_seq_terms.tsv: 18 sentences\n",
            "Processed /content/ACTER/en/htfl/annotated/annotations/sequential_annotations/iob_annotations/without_named_entities/htfl_en_139_seq_terms.tsv: 5 sentences\n",
            "Processed /content/ACTER/en/htfl/annotated/annotations/sequential_annotations/iob_annotations/without_named_entities/htfl_en_048_seq_terms.tsv: 13 sentences\n",
            "Processed /content/ACTER/en/htfl/annotated/annotations/sequential_annotations/iob_annotations/without_named_entities/htfl_en_169_seq_terms.tsv: 14 sentences\n",
            "Processed /content/ACTER/en/htfl/annotated/annotations/sequential_annotations/iob_annotations/without_named_entities/htfl_en_154_seq_terms.tsv: 17 sentences\n",
            "Processed /content/ACTER/en/htfl/annotated/annotations/sequential_annotations/iob_annotations/without_named_entities/htfl_en_066_seq_terms.tsv: 16 sentences\n",
            "Processed /content/ACTER/en/htfl/annotated/annotations/sequential_annotations/iob_annotations/without_named_entities/htfl_en_033_seq_terms.tsv: 49 sentences\n",
            "Processed /content/ACTER/en/htfl/annotated/annotations/sequential_annotations/iob_annotations/without_named_entities/htfl_en_075_seq_terms.tsv: 12 sentences\n",
            "Processed /content/ACTER/en/htfl/annotated/annotations/sequential_annotations/iob_annotations/without_named_entities/htfl_en_185_seq_terms.tsv: 20 sentences\n",
            "Processed /content/ACTER/en/htfl/annotated/annotations/sequential_annotations/iob_annotations/without_named_entities/htfl_en_054_seq_terms.tsv: 23 sentences\n",
            "Processed /content/ACTER/en/htfl/annotated/annotations/sequential_annotations/iob_annotations/without_named_entities/htfl_en_125_seq_terms.tsv: 14 sentences\n",
            "Processed /content/ACTER/en/htfl/annotated/annotations/sequential_annotations/iob_annotations/without_named_entities/htfl_en_103_seq_terms.tsv: 4 sentences\n",
            "Processed /content/ACTER/en/htfl/annotated/annotations/sequential_annotations/iob_annotations/without_named_entities/htfl_en_143_seq_terms.tsv: 11 sentences\n",
            "\n",
            "Processing directory: /content/ACTER/en/wind/annotated/annotations/sequential_annotations/iob_annotations/without_named_entities\n",
            "Processed /content/ACTER/en/wind/annotated/annotations/sequential_annotations/iob_annotations/without_named_entities/wind_en_26_seq_terms.tsv: 111 sentences\n",
            "Processed /content/ACTER/en/wind/annotated/annotations/sequential_annotations/iob_annotations/without_named_entities/wind_en_01_seq_terms.tsv: 5259 sentences\n",
            "Processed /content/ACTER/en/wind/annotated/annotations/sequential_annotations/iob_annotations/without_named_entities/wind_en_02_seq_terms.tsv: 776 sentences\n",
            "Processed /content/ACTER/en/wind/annotated/annotations/sequential_annotations/iob_annotations/without_named_entities/wind_en_04_seq_terms.tsv: 338 sentences\n",
            "Processed /content/ACTER/en/wind/annotated/annotations/sequential_annotations/iob_annotations/without_named_entities/wind_en_32_seq_terms.tsv: 154 sentences\n",
            "\n",
            "Total sentences collected: 14162\n",
            "\n",
            "Split sizes:\n",
            "Train: 11329 sentences\n",
            "Validation: 0 sentences\n",
            "Test: 2833 sentences\n",
            "\n",
            "Writing output files...\n",
            "\n",
            "Dataset preparation completed!\n"
          ]
        }
      ]
    },
    {
      "cell_type": "code",
      "source": [
        "!spacy convert --converter iob train_full.tsv output && \\\n",
        "  spacy convert --converter iob test_full.tsv output\n"
      ],
      "metadata": {
        "colab": {
          "base_uri": "https://localhost:8080/"
        },
        "id": "K52AmYesowiq",
        "outputId": "5941fccf-6912-46ff-ac4e-823500aeeae9"
      },
      "execution_count": 9,
      "outputs": [
        {
          "output_type": "stream",
          "name": "stdout",
          "text": [
            "\u001b[38;5;4mℹ Auto-detected token-per-line NER format\u001b[0m\n",
            "\u001b[38;5;4mℹ Grouping every 1 sentences into a document.\u001b[0m\n",
            "\u001b[38;5;3m⚠ To generate better training data, you may want to group sentences\n",
            "into documents with `-n 10`.\u001b[0m\n"
          ]
        }
      ]
    },
    {
      "cell_type": "code",
      "source": [
        "!mkdir input_data && \\\n",
        "  mv output/train_full.spacy input_data/train_full.spacy && \\\n",
        "  mv output/test_full.spacy input_data/test_full.spacy && \\\n",
        "  mkdir output"
      ],
      "metadata": {
        "colab": {
          "base_uri": "https://localhost:8080/"
        },
        "id": "MW4g58A-pgXk",
        "outputId": "ce00348d-bec7-4424-c419-d82c0b00d19a"
      },
      "execution_count": 10,
      "outputs": [
        {
          "output_type": "stream",
          "name": "stdout",
          "text": [
            "mkdir: cannot create directory ‘input_data’: File exists\n"
          ]
        }
      ]
    },
    {
      "cell_type": "code",
      "source": [
        "!pip install 'spacy[transformers]' -q"
      ],
      "metadata": {
        "collapsed": true,
        "id": "hhr_t0BEp5Qs"
      },
      "execution_count": null,
      "outputs": []
    },
    {
      "cell_type": "code",
      "source": [
        "!spacy train configs/config_base.cfg --gpu-id 0 --output /drive/MyDrive/ucu/ner/output"
      ],
      "metadata": {
        "id": "ZaYbLOFUoqhx"
      },
      "execution_count": null,
      "outputs": []
    },
    {
      "cell_type": "code",
      "source": [
        "from google.colab import runtime\n",
        "runtime.unassign()"
      ],
      "metadata": {
        "id": "AtlshoQmWB9z"
      },
      "execution_count": null,
      "outputs": []
    }
  ]
}