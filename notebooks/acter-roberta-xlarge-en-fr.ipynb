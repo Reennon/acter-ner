{
 "nbformat": 4,
 "nbformat_minor": 0,
 "metadata": {
  "colab": {
   "provenance": [],
   "machine_shape": "hm",
   "gpuType": "L4",
   "include_colab_link": true
  },
  "kernelspec": {
   "name": "python3",
   "display_name": "Python 3"
  },
  "language_info": {
   "name": "python"
  },
  "accelerator": "GPU"
 },
 "cells": [
  {
   "cell_type": "markdown",
   "metadata": {
    "id": "view-in-github",
    "colab_type": "text"
   },
   "source": [
    "<a href=\"https://colab.research.google.com/github/Reennon/acter-ner/blob/colab-dry-run/notebooks/acter-roberta-xlarge-en-fr.ipynb\" target=\"_parent\"><img src=\"https://colab.research.google.com/assets/colab-badge.svg\" alt=\"Open In Colab\"/></a>"
   ]
  },
  {
   "cell_type": "code",
   "execution_count": null,
   "metadata": {
    "colab": {
     "base_uri": "https://localhost:8080/"
    },
    "id": "b5X8eBFzlToi",
    "outputId": "cb1c477c-afe8-402a-a53f-2dc5b87b03e8"
   },
   "outputs": [],
   "source": [
    "!git clone https://github.com/Reennon/acter-ner"
   ]
  },
  {
   "cell_type": "code",
   "source": [
    "!git clone https://github.com/AylaRT/ACTER"
   ],
   "metadata": {
    "colab": {
     "base_uri": "https://localhost:8080/"
    },
    "id": "anL-YTxVlmw4",
    "outputId": "add28b21-b9dd-408c-8d5b-0fad50eb5064"
   },
   "execution_count": null,
   "outputs": []
  },
  {
   "cell_type": "code",
   "source": [
    "%cd /content/ACTER"
   ],
   "metadata": {
    "colab": {
     "base_uri": "https://localhost:8080/"
    },
    "id": "IfCPdbitmcnO",
    "outputId": "35388975-e133-4fd2-c3df-05e2ba33922d"
   },
   "execution_count": null,
   "outputs": []
  },
  {
   "cell_type": "code",
   "source": [
    "%cd /content/acter-ner/term_extractor"
   ],
   "metadata": {
    "colab": {
     "base_uri": "https://localhost:8080/"
    },
    "id": "U0nNt6v-mJi-",
    "outputId": "7d4ebb10-d5ef-40b2-b17f-d943ddb94eec"
   },
   "execution_count": null,
   "outputs": []
  },
  {
   "cell_type": "code",
   "source": [
    "from google.colab import drive\n",
    "drive.mount('/content/drive/')"
   ],
   "metadata": {
    "colab": {
     "base_uri": "https://localhost:8080/"
    },
    "id": "mcJUMgonjnke",
    "outputId": "0c171a5d-6724-497b-be59-b545e21ce994"
   },
   "execution_count": null,
   "outputs": []
  },
  {
   "cell_type": "code",
   "source": [
    "ls"
   ],
   "metadata": {
    "colab": {
     "base_uri": "https://localhost:8080/"
    },
    "id": "tKm-vAEvmQW9",
    "outputId": "e8e75f84-70aa-467c-e714-d1681821f20f"
   },
   "execution_count": null,
   "outputs": []
  },
  {
   "cell_type": "code",
   "source": [
    "!git checkout colab-dry-run"
   ],
   "metadata": {
    "colab": {
     "base_uri": "https://localhost:8080/"
    },
    "id": "b-6rpUVOol5A",
    "outputId": "3a6d797e-8a99-4dd4-c0ad-7b844089c181"
   },
   "execution_count": null,
   "outputs": []
  },
  {
   "cell_type": "code",
   "source": [
    "!bash combine_corpora-en-fr.sh"
   ],
   "metadata": {
    "id": "1WlGm-kRl9tu",
    "colab": {
     "base_uri": "https://localhost:8080/"
    },
    "outputId": "204f52bc-cdd9-4e4b-e76a-219e0ccd367a"
   },
   "execution_count": null,
   "outputs": []
  },
  {
   "cell_type": "code",
   "source": [
    "!spacy convert --converter iob train_full.tsv output && \\\n",
    "  spacy convert --converter iob test_full.tsv output\n"
   ],
   "metadata": {
    "colab": {
     "base_uri": "https://localhost:8080/"
    },
    "id": "K52AmYesowiq",
    "outputId": "ae16da35-86a2-4209-8217-6c400e568422"
   },
   "execution_count": null,
   "outputs": []
  },
  {
   "cell_type": "code",
   "source": [
    "!mkdir input_data && \\\n",
    "  mv output/train_full.spacy input_data/train_full.spacy && \\\n",
    "  mv output/test_full.spacy input_data/test_full.spacy && \\\n",
    "  mkdir /drive/MyDrive/ucu/ner/output"
   ],
   "metadata": {
    "id": "MW4g58A-pgXk",
    "colab": {
     "base_uri": "https://localhost:8080/"
    },
    "outputId": "7566f7d5-ae8e-4ef3-de47-b9fe707a33e5"
   },
   "execution_count": null,
   "outputs": []
  },
  {
   "cell_type": "code",
   "source": [
    "!pip install 'spacy[transformers]' -q"
   ],
   "metadata": {
    "collapsed": true,
    "id": "hhr_t0BEp5Qs",
    "colab": {
     "base_uri": "https://localhost:8080/"
    },
    "outputId": "77ebab6a-d54d-468e-bfd7-bbcc5fffcb3b"
   },
   "execution_count": null,
   "outputs": []
  },
  {
   "cell_type": "code",
   "source": [
    "!spacy train configs/config_base.cfg --gpu-id 0 --output /content/drive/MyDrive/ucu/ner/output"
   ],
   "metadata": {
    "colab": {
     "base_uri": "https://localhost:8080/"
    },
    "id": "ZaYbLOFUoqhx",
    "outputId": "1c7ebfb6-b436-4fa9-937e-881a4aad3ddf"
   },
   "execution_count": null,
   "outputs": []
  },
  {
   "cell_type": "code",
   "source": [
    "from google.colab import runtime\n",
    "runtime.unassign()"
   ],
   "metadata": {
    "id": "xEdymJL1j5h4"
   },
   "execution_count": null,
   "outputs": []
  }
 ]
}
